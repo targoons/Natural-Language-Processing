{
 "cells": [
  {
   "cell_type": "markdown",
   "metadata": {},
   "source": [
    "## MSCA 32018 1 Natural Language Processing and Cognitive Computing\n",
    "\n",
    "### Assignment 5\n",
    "\n",
    "**Author: Targoon Siripanichpong**"
   ]
  },
  {
   "cell_type": "markdown",
   "metadata": {},
   "source": [
    "You have been provided with a pickle file, containing the 100 news articles about Caterpillar.  Identify what companies  are mentioned most frequently in the news along with Caterpillar. \n",
    "\n",
    "pd.read_pickle(directory+'news_cat.pkl')\n",
    "Discard non-English results\n",
    "Identify what companies are mentioned most frequently along with Caterpillar (in both title and the body of the article)\n",
    "Show a table or chart with your top-20 companies (sorted in the descending order)\n",
    "Rules and requirements:\n",
    "\n",
    "Your final output and the code should be contained within Jupyter Notebook (ipynb)"
   ]
  },
  {
   "cell_type": "markdown",
   "metadata": {},
   "source": [
    "#### Import Data"
   ]
  },
  {
   "cell_type": "code",
   "execution_count": 1,
   "metadata": {
    "ExecuteTime": {
     "end_time": "2019-05-04T14:23:47.903516Z",
     "start_time": "2019-05-04T14:23:47.900553Z"
    }
   },
   "outputs": [],
   "source": [
    "import pickle"
   ]
  },
  {
   "cell_type": "code",
   "execution_count": 2,
   "metadata": {
    "ExecuteTime": {
     "end_time": "2019-05-04T14:23:48.886719Z",
     "start_time": "2019-05-04T14:23:48.622213Z"
    }
   },
   "outputs": [],
   "source": [
    "cat_news = pickle.load( open( \"../Data/news_cat.pkl\", \"rb\" ) )"
   ]
  },
  {
   "cell_type": "code",
   "execution_count": 3,
   "metadata": {
    "ExecuteTime": {
     "end_time": "2019-05-04T14:23:49.543230Z",
     "start_time": "2019-05-04T14:23:49.533882Z"
    },
    "scrolled": true
   },
   "outputs": [
    {
     "data": {
      "text/plain": [
       "pandas.core.frame.DataFrame"
      ]
     },
     "execution_count": 3,
     "metadata": {},
     "output_type": "execute_result"
    }
   ],
   "source": [
    "type(cat_news)"
   ]
  },
  {
   "cell_type": "code",
   "execution_count": 4,
   "metadata": {
    "ExecuteTime": {
     "end_time": "2019-05-04T14:23:50.282829Z",
     "start_time": "2019-05-04T14:23:50.267867Z"
    },
    "scrolled": true
   },
   "outputs": [
    {
     "data": {
      "text/html": [
       "<div>\n",
       "<style scoped>\n",
       "    .dataframe tbody tr th:only-of-type {\n",
       "        vertical-align: middle;\n",
       "    }\n",
       "\n",
       "    .dataframe tbody tr th {\n",
       "        vertical-align: top;\n",
       "    }\n",
       "\n",
       "    .dataframe thead th {\n",
       "        text-align: right;\n",
       "    }\n",
       "</style>\n",
       "<table border=\"1\" class=\"dataframe\">\n",
       "  <thead>\n",
       "    <tr style=\"text-align: right;\">\n",
       "      <th></th>\n",
       "      <th>crawled</th>\n",
       "      <th>language</th>\n",
       "      <th>text</th>\n",
       "      <th>title</th>\n",
       "    </tr>\n",
       "  </thead>\n",
       "  <tbody>\n",
       "    <tr>\n",
       "      <th>0</th>\n",
       "      <td>2018-01-30T23:03:51.004+02:00</td>\n",
       "      <td>english</td>\n",
       "      <td>by Abhishek K Global Telehandler Market 2023 D...</td>\n",
       "      <td>Global Telehandler Market 2023 Demand by Segme...</td>\n",
       "    </tr>\n",
       "    <tr>\n",
       "      <th>1</th>\n",
       "      <td>2018-01-30T23:06:46.024+02:00</td>\n",
       "      <td>english</td>\n",
       "      <td>favorite this post 2014 Caterpillar 314E LCR h...</td>\n",
       "      <td>2014 Caterpillar 314E LCR</td>\n",
       "    </tr>\n",
       "    <tr>\n",
       "      <th>2</th>\n",
       "      <td>2018-01-30T23:18:35.023+02:00</td>\n",
       "      <td>english</td>\n",
       "      <td>By: MAX NISEN The Amazon health care threat ha...</td>\n",
       "      <td>Amazon, Berkshire, JPMorgan health announcemen...</td>\n",
       "    </tr>\n",
       "    <tr>\n",
       "      <th>3</th>\n",
       "      <td>2018-01-30T23:20:54.012+02:00</td>\n",
       "      <td>english</td>\n",
       "      <td>QR Code Link to This Post MONTHLY PUBLIC AUCTI...</td>\n",
       "      <td>2005 Caterpillar CB534D Tandem Vibratory Rolle...</td>\n",
       "    </tr>\n",
       "    <tr>\n",
       "      <th>4</th>\n",
       "      <td>2018-01-30T23:28:30.000+02:00</td>\n",
       "      <td>english</td>\n",
       "      <td>QR Code Link to This Post 2007 CATERPILLAR D4G...</td>\n",
       "      <td>2007 CATERPILLAR D4G LGP CAB SCREEN/SWEEPS - O...</td>\n",
       "    </tr>\n",
       "  </tbody>\n",
       "</table>\n",
       "</div>"
      ],
      "text/plain": [
       "                         crawled language  \\\n",
       "0  2018-01-30T23:03:51.004+02:00  english   \n",
       "1  2018-01-30T23:06:46.024+02:00  english   \n",
       "2  2018-01-30T23:18:35.023+02:00  english   \n",
       "3  2018-01-30T23:20:54.012+02:00  english   \n",
       "4  2018-01-30T23:28:30.000+02:00  english   \n",
       "\n",
       "                                                text  \\\n",
       "0  by Abhishek K Global Telehandler Market 2023 D...   \n",
       "1  favorite this post 2014 Caterpillar 314E LCR h...   \n",
       "2  By: MAX NISEN The Amazon health care threat ha...   \n",
       "3  QR Code Link to This Post MONTHLY PUBLIC AUCTI...   \n",
       "4  QR Code Link to This Post 2007 CATERPILLAR D4G...   \n",
       "\n",
       "                                               title  \n",
       "0  Global Telehandler Market 2023 Demand by Segme...  \n",
       "1                          2014 Caterpillar 314E LCR  \n",
       "2  Amazon, Berkshire, JPMorgan health announcemen...  \n",
       "3  2005 Caterpillar CB534D Tandem Vibratory Rolle...  \n",
       "4  2007 CATERPILLAR D4G LGP CAB SCREEN/SWEEPS - O...  "
      ]
     },
     "execution_count": 4,
     "metadata": {},
     "output_type": "execute_result"
    }
   ],
   "source": [
    "cat_news.head()"
   ]
  },
  {
   "cell_type": "code",
   "execution_count": 5,
   "metadata": {
    "ExecuteTime": {
     "end_time": "2019-05-04T14:23:58.029028Z",
     "start_time": "2019-05-04T14:23:58.019029Z"
    }
   },
   "outputs": [
    {
     "data": {
      "text/plain": [
       "100"
      ]
     },
     "execution_count": 5,
     "metadata": {},
     "output_type": "execute_result"
    }
   ],
   "source": [
    "len(cat_news)"
   ]
  },
  {
   "cell_type": "code",
   "execution_count": 6,
   "metadata": {
    "ExecuteTime": {
     "end_time": "2019-05-04T14:24:26.705232Z",
     "start_time": "2019-05-04T14:24:26.701303Z"
    }
   },
   "outputs": [],
   "source": [
    "cat_news_en = cat_news[cat_news['language'] == 'english']"
   ]
  },
  {
   "cell_type": "code",
   "execution_count": 7,
   "metadata": {
    "ExecuteTime": {
     "end_time": "2019-05-04T14:24:39.346526Z",
     "start_time": "2019-05-04T14:24:39.335904Z"
    },
    "scrolled": true
   },
   "outputs": [
    {
     "data": {
      "text/plain": [
       "100"
      ]
     },
     "execution_count": 7,
     "metadata": {},
     "output_type": "execute_result"
    }
   ],
   "source": [
    "len(cat_news_en)"
   ]
  },
  {
   "cell_type": "markdown",
   "metadata": {},
   "source": [
    "#### Use Watson NLU API to perform Entity Recognition"
   ]
  },
  {
   "cell_type": "code",
   "execution_count": 50,
   "metadata": {
    "ExecuteTime": {
     "end_time": "2019-05-04T15:36:16.241852Z",
     "start_time": "2019-05-04T15:36:16.201526Z"
    }
   },
   "outputs": [],
   "source": [
    "import sys\n",
    "import os\n",
    "import json\n",
    "import re\n",
    "import pandas as pd\n",
    "import ibm_watson\n",
    "from ibm_watson import NaturalLanguageUnderstandingV1\n",
    "from ibm_watson.natural_language_understanding_v1 import Features, EntitiesOptions, KeywordsOptions, ConceptsOptions, RelationsOptions, SentimentOptions, SemanticRolesOptions, EmotionOptions, CategoriesOptions\n",
    "import time"
   ]
  },
  {
   "cell_type": "code",
   "execution_count": 55,
   "metadata": {
    "ExecuteTime": {
     "end_time": "2019-05-04T15:36:44.369570Z",
     "start_time": "2019-05-04T15:36:44.367059Z"
    }
   },
   "outputs": [],
   "source": [
    "natural_language_understanding = NaturalLanguageUnderstandingV1(\n",
    "    version='2018-11-16',iam_apikey=\"Jl-4Ls8SByMZIKX_B72ykHNQwR5PbK-q1pkvSEEWLt60\",\n",
    "        url=\"https://gateway.watsonplatform.net/natural-language-understanding/api\")"
   ]
  },
  {
   "cell_type": "code",
   "execution_count": 56,
   "metadata": {
    "ExecuteTime": {
     "end_time": "2019-05-04T15:36:46.310266Z",
     "start_time": "2019-05-04T15:36:46.299618Z"
    }
   },
   "outputs": [],
   "source": [
    "def get_company_list(text):\n",
    "    response = natural_language_understanding.analyze(\n",
    "                language = \"en\", text = text,\n",
    "                features = Features(\n",
    "                            entities = EntitiesOptions(sentiment = False, emotion = False)\n",
    "                            #keywords = KeywordsOptions(sentiment = True, emotion = True),\n",
    "                            #concepts = ConceptsOptions(limit = 50),\n",
    "                            #relations = RelationsOptions(),\n",
    "                            #sentiment = SentimentOptions(),\n",
    "                            #semantic_roles = SemanticRolesOptions(entities = True, keywords = True),\n",
    "                            #emotion = EmotionOptions(),\n",
    "                            #categories = CategoriesOptions()\n",
    "                )).get_result()\n",
    "    company_list = [entity['text'] for entity in response['entities'] if entity['type'] == 'Company'] #extract only companies\n",
    "    time.sleep(0.1) #Avoid throttling limit\n",
    "    return(company_list)"
   ]
  },
  {
   "cell_type": "code",
   "execution_count": 57,
   "metadata": {
    "ExecuteTime": {
     "end_time": "2019-05-04T15:39:20.909657Z",
     "start_time": "2019-05-04T15:38:09.333544Z"
    }
   },
   "outputs": [],
   "source": [
    "agg_company_list_text = [get_company_list(text) for text in cat_news_en['text']]\n",
    "agg_company_list_title = [get_company_list(text) for text in cat_news_en['title']]"
   ]
  },
  {
   "cell_type": "code",
   "execution_count": 60,
   "metadata": {
    "ExecuteTime": {
     "end_time": "2019-05-04T15:40:09.263565Z",
     "start_time": "2019-05-04T15:40:09.248382Z"
    },
    "scrolled": true
   },
   "outputs": [
    {
     "data": {
      "text/plain": [
       "[['Telehandler Market Product',\n",
       "  'Abhishek K Global Telehandler',\n",
       "  'Telehandler Price',\n",
       "  'Telehandler',\n",
       "  'Wacker Neuson',\n",
       "  'Key Companies List',\n",
       "  'Doosan Infracore',\n",
       "  'Terex',\n",
       "  'JCB',\n",
       "  'Region Operation',\n",
       "  'Caterpillar'],\n",
       " [],\n",
       " [],\n",
       " ['Service Trucks', 'Passenger Cars'],\n",
       " ['Expert Heavy Equipment Inc.', 'komatsu'],\n",
       " ['Caterpillar Inc.',\n",
       "  'Caterpillar',\n",
       "  '2,191 Caterpillar Inc.',\n",
       "  'Elite Wealth Management Inc',\n",
       "  'Acrospire Investment Management LLC',\n",
       "  'Quadrant Capital Group LLC',\n",
       "  'Wealth Management Inc.',\n",
       "  'BMO Capital Markets',\n",
       "  'Harvest Fund Management Co',\n",
       "  'Motco',\n",
       "  'Goldman Sachs Group',\n",
       "  'Citigroup',\n",
       "  'NYSE',\n",
       "  'Blue Chip Partners Inc.',\n",
       "  '5,214',\n",
       "  'Construction Industries',\n",
       "  'OTR Global',\n",
       "  'Resource Industries',\n",
       "  'Energy & Transportation',\n",
       "  'The Lincolnian Online'],\n",
       " [],\n",
       " ['Insomniac', 'Caterpillar', 'Tiesto'],\n",
       " ['Goldman Sachs',\n",
       "  'Wal-Mart',\n",
       "  'Apple',\n",
       "  'WMT',\n",
       "  'McDonald',\n",
       "  'Cisco',\n",
       "  'Intel',\n",
       "  'Pfizer',\n",
       "  'Home Depot',\n",
       "  'JPMorgan',\n",
       "  'PFE',\n",
       "  'JPM',\n",
       "  'Nikkei'],\n",
       " ['Intel',\n",
       "  'Pfizer',\n",
       "  'PFE',\n",
       "  'McDonald',\n",
       "  'Coca Cola',\n",
       "  'Procter & Gamble',\n",
       "  'Home Depot',\n",
       "  'Microsoft',\n",
       "  'JPMorgan',\n",
       "  'Apple',\n",
       "  'JPM',\n",
       "  'NKE'],\n",
       " ['PAYPAL'],\n",
       " ['Caterpillar',\n",
       "  'Caterpillar Inc',\n",
       "  'Credit Suisse Group',\n",
       "  'Citigroup',\n",
       "  'Vetr',\n",
       "  'Deutsche Bank',\n",
       "  'NYSE',\n",
       "  'Construction Industries',\n",
       "  'Resource Industries',\n",
       "  'Energy & Transportation'],\n",
       " ['Gehl', 'JCB', 'Terex', 'Kubota', 'Takeuchi', 'Volvo'],\n",
       " ['Caterpillar'],\n",
       " ['Caterpillar Inc.',\n",
       "  'Caterpillar Marine',\n",
       "  'Caterpillar Marine Power UK Ltd',\n",
       "  'Construction Industries',\n",
       "  'Resource Industries'],\n",
       " ['Caterpillar', 'Insomniac Productions', 'Space Yacht'],\n",
       " ['Land Rover',\n",
       "  'Land Rover Explore',\n",
       "  'Bullit Group',\n",
       "  'Caterpillar',\n",
       "  'Bullitt Group'],\n",
       " ['Allied Marine', 'Bose entertainment', 'Samsung', 'Garmin', 'Onan'],\n",
       " ['Caterpillar Inc.',\n",
       "  'Ironwood Investment Counsel LLC',\n",
       "  'NYSE',\n",
       "  'WFG Advisors LP',\n",
       "  'Southeast Asset Advisors Inc.',\n",
       "  'MAI Capital Management',\n",
       "  'Atwood & Palmer Inc.',\n",
       "  'National Trust Co.',\n",
       "  'BMO Capital Markets',\n",
       "  'Goldman Sachs Group',\n",
       "  'Citigroup',\n",
       "  'Construction Industries',\n",
       "  'Resource Industries',\n",
       "  'Energy & Transportation',\n",
       "  '7,814',\n",
       "  'OTR Global'],\n",
       " ['Caterpillar Inc.', 'Caterpillar', 'OSF HealthCare', 'Chase Bank', 'PAAR'],\n",
       " [],\n",
       " ['D.L. George & Sons'],\n",
       " ['Market Dynamics',\n",
       "  'Hyundai Heavy Industries Kohler Kubota Man SE Mitsubishi Heavy Industries',\n",
       "  'Operation',\n",
       "  'Caterpillar Inc.',\n",
       "  'Mitsubishi Heavy Industries Ltd.',\n",
       "  'ResearchAndMarkets.com',\n",
       "  'Cummins Inc.',\n",
       "  'Volvo Penta Wrtsil Yanmar Holdings'],\n",
       " ['Caterpillar Inc.',\n",
       "  'Caterpillar',\n",
       "  'OSF HealthCare',\n",
       "  'Tribune Content Agency',\n",
       "  'Chase Bank'],\n",
       " ['GPS Machine Control systems',\n",
       "  'GPS Machine Control Operators',\n",
       "  'Trimble Earthworks',\n",
       "  'Facebook',\n",
       "  'Finning News',\n",
       "  'Caterpillar'],\n",
       " [],\n",
       " ['Xuzhou Bonovo Machinery & Equipment', 'Xuzhou Bonovo Machinery'],\n",
       " ['Progress Rail Services Corporation', 'Caterpillar', 'Twitter', 'YouTube'],\n",
       " ['Progress Rail Services Corporation', 'Twitter', 'Caterpillar', 'YouTube'],\n",
       " ['Progress Rail Services Corporation',\n",
       "  'Twitter',\n",
       "  'Caterpillar',\n",
       "  'FRA',\n",
       "  'YouTube'],\n",
       " ['Target',\n",
       "  'GE',\n",
       "  'Finish Dishwasher Cleaners',\n",
       "  'IBM',\n",
       "  'Microsoft',\n",
       "  'Google',\n",
       "  'Fabinho',\n",
       "  'Accessories Kosher',\n",
       "  'Finish',\n",
       "  'ABC'],\n",
       " ['Kubota', 'kenworth', 'Kobelco'],\n",
       " ['kenworth', 'Kubota', 'Kobelco'],\n",
       " ['kenworth', 'Kubota', 'Kobelco'],\n",
       " ['Ultra', 'Insomniac', 'Pasquale Rotella'],\n",
       " ['CBI', 'Boeing', 'Deere', 'Cummins', 'CMI'],\n",
       " ['Amazon',\n",
       "  'JPMorgan Chase',\n",
       "  'Amazon Health',\n",
       "  'Berkshire Hathaway',\n",
       "  'UnitedHealth Group',\n",
       "  'Aetna',\n",
       "  'Walmart',\n",
       "  'Caterpillar'],\n",
       " ['Caterpillar', 'Deere', 'NYSE', 'Asia Pacific', 'Inc'],\n",
       " ['Caterpillar', 'Insomniac Productions', 'Space Yacht'],\n",
       " ['CALL'],\n",
       " [],\n",
       " ['Ford', 'Kenworth'],\n",
       " [],\n",
       " ['Caterpillar', 'Deere', 'NYSE', 'Asia Pacific'],\n",
       " [],\n",
       " ['Caterpillar Inc', 'Reuters'],\n",
       " ['Caterpillar', 'HP'],\n",
       " ['Caterpillar Inc.',\n",
       "  'Wells Fargo & Co.',\n",
       "  'BB&T Corp.',\n",
       "  'United Technologies Corp.',\n",
       "  'Zacks Equity Research',\n",
       "  'First Horizon National Corp.',\n",
       "  'Bank of America',\n",
       "  'Citigroup',\n",
       "  'JPMorgan'],\n",
       " ['Caterpillar Inc.', 'Honeywell International Inc.', 'Resource Industries'],\n",
       " ['Lb Machine', 'BULLDOZER RIPPERS', 'Doosan', 'Komatsu', 'Freightliner Fuel'],\n",
       " [],\n",
       " [],\n",
       " ['Caterpillar', 'Deere', 'Asia Pacific', 'NYSE'],\n",
       " ['Rolling Stock',\n",
       "  'Hyundai Rotem',\n",
       "  'Kawasaki Heavy Industries',\n",
       "  'Stadler Rail AG',\n",
       "  'Alstom',\n",
       "  'GE Transportation',\n",
       "  'Markets N Research',\n",
       "  'Siemens',\n",
       "  'Hitachi'],\n",
       " [],\n",
       " ['New Materials Sector',\n",
       "  'China International Petroleum',\n",
       "  'Gazprom',\n",
       "  'International Petroleum',\n",
       "  'Qatar General Petroleum',\n",
       "  'PETROBRAS',\n",
       "  'BHP Billiton',\n",
       "  'Sinopec',\n",
       "  'LukOil',\n",
       "  'Exxon Mobil',\n",
       "  'ENI',\n",
       "  'GE',\n",
       "  'PDVSA',\n",
       "  'ARIEL',\n",
       "  'NIGC',\n",
       "  'CNOOC',\n",
       "  'Honeywell',\n",
       "  'Rockwell',\n",
       "  'BP',\n",
       "  'Cummins',\n",
       "  'Rosneft',\n",
       "  'ADNOC',\n",
       "  'Apache'],\n",
       " ['MEC Aerial Work Platforms',\n",
       "  'Zhejiang Dingli Machinery',\n",
       "  'QY Research Group',\n",
       "  'JLG Lift',\n",
       "  'Terex',\n",
       "  'Caterpillar',\n",
       "  'FnB',\n",
       "  'FMCG'],\n",
       " ['The Holding Company Faixas', 'The Holding Company', 'The Lost Tapes'],\n",
       " ['PUROLATOR'],\n",
       " ['Ring Power', 'Caterpillar® Power Systems'],\n",
       " ['Aaron Equipment Co.', 'Caterpillar'],\n",
       " [],\n",
       " [],\n",
       " [],\n",
       " ['Mustang Power Systems'],\n",
       " ['Camlock Buss Bar'],\n",
       " [],\n",
       " ['Caterpillar'],\n",
       " [],\n",
       " ['Underground Mining Equipment',\n",
       "  'Underground Mining Equipment Industry',\n",
       "  'North America Underground Mining Equipment Sales',\n",
       "  'Latin America Underground Mining Equipment Sales',\n",
       "  'Europe Underground Mining Equipment Sales',\n",
       "  'Africa Underground Mining Equipment Sales',\n",
       "  'Underground Mining Equipment Manufacturing Cost Analysis',\n",
       "  'Doosan Infracore',\n",
       "  'China Coal Group'],\n",
       " ['Caterpillar Inc.',\n",
       "  'Tower Bridge Advisors',\n",
       "  'British Airways Pensions Investment Management Ltd',\n",
       "  'NYSE',\n",
       "  'Ledyard National Bank',\n",
       "  'Braun Stacey Associates Inc.',\n",
       "  'LMR Partners LLP',\n",
       "  'Goldman Sachs Group',\n",
       "  'National Trust Co.',\n",
       "  'Bank of America',\n",
       "  'JPMorgan Chase & Co.',\n",
       "  'Construction Industries',\n",
       "  'ValuEngine',\n",
       "  'Reuters',\n",
       "  'Resource Industries',\n",
       "  'Energy & Transportation',\n",
       "  'Thomson'],\n",
       " ['Caterpillar Inc.',\n",
       "  'Caterpillar Inc Caterpillar Inc',\n",
       "  'Caterpillar',\n",
       "  'Vetr',\n",
       "  'UBS Group AG',\n",
       "  'Credit Suisse Group AG',\n",
       "  'Bank of America Corp',\n",
       "  'Barclays PLC',\n",
       "  'Citigroup Inc',\n",
       "  'Royal Bank of Canada',\n",
       "  'Jefferies Group LLC',\n",
       "  'Berenberg Bank',\n",
       "  'NYSE',\n",
       "  'JPMorgan Chase & Co.',\n",
       "  'BMO Capital Markets',\n",
       "  'Seaport Global Securities',\n",
       "  '5,214',\n",
       "  'Wells Fargo & Co',\n",
       "  'Construction Industries',\n",
       "  'ValuEngine',\n",
       "  'OTR Global',\n",
       "  'Resource Industries',\n",
       "  'Energy & Transportation'],\n",
       " ['Adelphia',\n",
       "  'Adelphia Gateway LLC',\n",
       "  'USA. Adelphia',\n",
       "  'Caterpillar',\n",
       "  'NJR Pipeline Company',\n",
       "  'New Jersey Resources Corporation'],\n",
       " ['Caterpillar Inc',\n",
       "  'Caterpillar',\n",
       "  'Caterpillar Company Profile',\n",
       "  'BMO Capital Markets',\n",
       "  'Citigroup',\n",
       "  'Goldman Sachs Group',\n",
       "  'Quadrant Capital Group LLC',\n",
       "  'Vetr',\n",
       "  'NYSE',\n",
       "  'Acrospire Investment Management LLC',\n",
       "  'Buy',\n",
       "  'UBS Group',\n",
       "  'OTR Global',\n",
       "  'Construction Industries',\n",
       "  'Harvest Fund Management Co',\n",
       "  'Motco',\n",
       "  '5,214',\n",
       "  'Blue Chip Partners Inc.',\n",
       "  'Resource Industries',\n",
       "  'Energy & Transportation'],\n",
       " ['Boeing', 'Boeing Co', 'Reuters', 'Caterpillar'],\n",
       " ['Caterpillar Inc.',\n",
       "  'Resource Industries',\n",
       "  'Construction Industries',\n",
       "  'NYSE',\n",
       "  'Chartered Financial',\n",
       "  'Insurance Services',\n",
       "  'Farm & Construction Machinery industry',\n",
       "  'APAC'],\n",
       " ['Caterpillar Inc.',\n",
       "  'Ironwood Investment Counsel LLC',\n",
       "  'Atwood & Palmer Inc.',\n",
       "  'Southeast Asset Advisors Inc.',\n",
       "  'WFG Advisors LP',\n",
       "  'NYSE',\n",
       "  'IFG Advisory LLC',\n",
       "  'MAI Capital Management',\n",
       "  'Royal Bank of Canada',\n",
       "  'UBS Group',\n",
       "  'Jefferies Group',\n",
       "  'Construction Industries',\n",
       "  'Bank of America',\n",
       "  '5,214',\n",
       "  'Vetr',\n",
       "  'Resource Industries',\n",
       "  'Energy & Transportation'],\n",
       " ['Caterpillar Inc.',\n",
       "  'Ironwood Investment Counsel LLC',\n",
       "  'NYSE',\n",
       "  'FineMark National Bank & Trust',\n",
       "  'WFG Advisors LP',\n",
       "  'National Bank & Trust',\n",
       "  'Southeast Asset Advisors Inc.',\n",
       "  'Atwood & Palmer Inc.',\n",
       "  'MAI Capital Management',\n",
       "  'Credit Suisse Group',\n",
       "  'Citigroup',\n",
       "  'Deutsche Bank',\n",
       "  'Construction Industries',\n",
       "  'Resource Industries',\n",
       "  'Energy & Transportation',\n",
       "  '7,814',\n",
       "  'Million Holdings'],\n",
       " ['Caterpillar Inc.',\n",
       "  'Caterpillar',\n",
       "  'Caterpillar Company Profile',\n",
       "  'Oakmont Partners LLC',\n",
       "  'FMR LLC',\n",
       "  'Renaissance Technologies LLC',\n",
       "  'Vanguard Group Inc.',\n",
       "  'Jennison Associates LLC',\n",
       "  'Balyasny Asset Management LLC',\n",
       "  'Credit Suisse Group',\n",
       "  'Barclays',\n",
       "  'NYSE',\n",
       "  'Bank of America',\n",
       "  'Wells Fargo & Co',\n",
       "  'Construction Industries',\n",
       "  'Resource Industries',\n",
       "  'Energy & Transportation',\n",
       "  'Reuters',\n",
       "  'Thomson',\n",
       "  'The Lincolnian Online'],\n",
       " ['DK India',\n",
       "  'Pan Macmillan India',\n",
       "  'Ingram',\n",
       "  'Storytel',\n",
       "  'Macmillan Classics'],\n",
       " [],\n",
       " ['Samsung', 'Whirlpool'],\n",
       " ['Caterpillar Inc.',\n",
       "  'Caterpillar',\n",
       "  'Acrospire Investment Management LLC',\n",
       "  'Regentatlantic Capital LLC',\n",
       "  'Quadrant Capital Group LLC',\n",
       "  'NYSE',\n",
       "  'Hanson McClain Inc.',\n",
       "  'Citigroup',\n",
       "  'Motco',\n",
       "  'Bank of America',\n",
       "  'Blue Chip Partners Inc.',\n",
       "  'Zacks Investment Research',\n",
       "  'Argus',\n",
       "  'Construction Industries',\n",
       "  'Vetr',\n",
       "  'MarketBeat.com',\n",
       "  'Reuters',\n",
       "  'Thomson',\n",
       "  'Resource Industries',\n",
       "  'Energy & Transportation',\n",
       "  'The Lincolnian Online'],\n",
       " ['Caterpillar Inc.',\n",
       "  'Caterpillar',\n",
       "  'Caterpillar Company Profile',\n",
       "  'Ironwood Investment Counsel LLC',\n",
       "  'Financial Advisory Service Inc.',\n",
       "  'Bingham Osborn & Scarborough LLC',\n",
       "  'WFG Advisors LP',\n",
       "  'Southeast Asset Advisors Inc.',\n",
       "  'Goldman Sachs Group',\n",
       "  'Citigroup',\n",
       "  'NYSE',\n",
       "  'Zacks Investment Research',\n",
       "  'Deutsche Bank',\n",
       "  'Construction Industries',\n",
       "  'MarketBeat.com',\n",
       "  'Resource Industries',\n",
       "  'Energy & Transportation',\n",
       "  '7,814'],\n",
       " ['Caterpillar Inc.',\n",
       "  'Caterpillar Company Profile',\n",
       "  'Ladenburg Thalmann Financial Services Inc.',\n",
       "  'Convergence Investment Partners LLC',\n",
       "  'FMR LLC',\n",
       "  'NYSE',\n",
       "  'Beach Investment Management LLC.',\n",
       "  'Wealthsource Partners LLC',\n",
       "  'Credit Suisse Group',\n",
       "  'Citigroup',\n",
       "  'Barclays',\n",
       "  'Construction Industries',\n",
       "  '7,814',\n",
       "  'Deutsche Bank',\n",
       "  'Resource Industries',\n",
       "  'Energy & Transportation',\n",
       "  'Vetr'],\n",
       " ['Caterpillar Inc.',\n",
       "  'Caterpillar',\n",
       "  'Chicago Partners Investment Group LLC',\n",
       "  'Investment Group LLC',\n",
       "  'Acrospire Investment Management LLC',\n",
       "  'Baker Ellis Asset Management LLC',\n",
       "  'NYSE',\n",
       "  'Motco',\n",
       "  'Credit Suisse Group',\n",
       "  'Massey',\n",
       "  'Barclays',\n",
       "  'Citigroup',\n",
       "  'Construction Industries',\n",
       "  'Deutsche Bank',\n",
       "  'Reuters',\n",
       "  'Thomson',\n",
       "  'Vetr',\n",
       "  'Resource Industries',\n",
       "  'Energy & Transportation',\n",
       "  '7,814',\n",
       "  'The Lincolnian Online'],\n",
       " ['Amazon',\n",
       "  'JPMorgan Chase',\n",
       "  'Caterpillar',\n",
       "  'Berkshire Hathaway',\n",
       "  'Walmart',\n",
       "  'UnitedHealth Group',\n",
       "  'Buffett',\n",
       "  'Aetna',\n",
       "  'Oliver Wyman',\n",
       "  'Whole Foods',\n",
       "  'Segal Group',\n",
       "  'Apple',\n",
       "  'REED ABELSON'],\n",
       " ['Vista Partners',\n",
       "  'Vista Partners LLC',\n",
       "  'JPMorgan Chase',\n",
       "  'Apple',\n",
       "  'Atossa Genetics, Inc.',\n",
       "  'Fusion, Inc.'],\n",
       " ['Amazon.com',\n",
       "  'Apple',\n",
       "  'UnitedHealth Group',\n",
       "  'Maxim Integrated Products',\n",
       "  'Berkshire Hathaway',\n",
       "  'JPMorgan Chase',\n",
       "  'SAP',\n",
       "  'Renesas',\n",
       "  'Chevron',\n",
       "  'Express Scripts',\n",
       "  'MetLife',\n",
       "  'Maxim Integrated',\n",
       "  'Trump',\n",
       "  'Pulte Group',\n",
       "  'Callidus Software',\n",
       "  'McDonald',\n",
       "  'Frankfurt',\n",
       "  'Callidus',\n",
       "  'JPM',\n",
       "  'CallidusCloud'],\n",
       " ['Vista Partners',\n",
       "  'Vista Partners LLC',\n",
       "  'JPMorgan Chase',\n",
       "  'Apple',\n",
       "  'Atossa Genetics, Inc.',\n",
       "  'Fusion, Inc.'],\n",
       " ['Amazon',\n",
       "  'JPMorgan Chase',\n",
       "  'Caterpillar',\n",
       "  'Berkshire Hathaway',\n",
       "  'Walmart',\n",
       "  'UnitedHealth Group',\n",
       "  'Buffett',\n",
       "  'Aetna',\n",
       "  'Oliver Wyman',\n",
       "  'Whole Foods',\n",
       "  'Segal Group',\n",
       "  'Apple',\n",
       "  'REED ABELSON'],\n",
       " ['Caterpillar Inc.',\n",
       "  'Caterpillar',\n",
       "  'Partnervest Advisory Services LLC',\n",
       "  'Acrospire Investment Management LLC',\n",
       "  'Quadrant Capital Group LLC',\n",
       "  'Hanson McClain Inc.',\n",
       "  'NYSE',\n",
       "  'Motco',\n",
       "  'Blue Chip Partners Inc.',\n",
       "  'Citigroup',\n",
       "  'Argus',\n",
       "  '8,908',\n",
       "  'Bank of America',\n",
       "  'Construction Industries',\n",
       "  'Zacks Investment Research',\n",
       "  'Resource Industries',\n",
       "  'Energy & Transportation',\n",
       "  'Vetr',\n",
       "  'The Lincolnian Online'],\n",
       " ['Caterpillar Inc.',\n",
       "  'Expect From Caterpillar Inc.',\n",
       "  'Dow',\n",
       "  'Dividend Aristocrat group',\n",
       "  'NYSE',\n",
       "  'Mining Global',\n",
       "  'The Boston Consulting Group'],\n",
       " ['Vista Partners',\n",
       "  'Vista Partners LLC',\n",
       "  'JPMorgan Chase',\n",
       "  'Apple',\n",
       "  'Atossa Genetics, Inc.',\n",
       "  'Fusion, Inc.'],\n",
       " ['Charger'],\n",
       " ['Caterpillar Inc.',\n",
       "  'Expect From Caterpillar Inc.',\n",
       "  'Dow',\n",
       "  'Dividend Aristocrat group',\n",
       "  'NYSE',\n",
       "  'Mining Global',\n",
       "  'Inc',\n",
       "  'The Boston Consulting Group'],\n",
       " ['New Machine', 'Mitsubishi Excavator', 'Caterpillar'],\n",
       " ['Caterpillar Inc.', 'Caterpillar', 'OSF HealthCare', 'Chase Bank', 'PAAR'],\n",
       " ['Caterpillar Inc.',\n",
       "  'Caterpillar',\n",
       "  'NYSE',\n",
       "  'Summit X LLC',\n",
       "  'FMR LLC',\n",
       "  'Ladenburg Thalmann Financial Services Inc.',\n",
       "  'Wealthsource Partners LLC',\n",
       "  'Beach Investment Management LLC.',\n",
       "  'Credit Suisse Group',\n",
       "  'Barclays',\n",
       "  'Citigroup',\n",
       "  'Wells Fargo & Co',\n",
       "  'Construction Industries',\n",
       "  '5,214',\n",
       "  'Resource Industries',\n",
       "  'Energy & Transportation',\n",
       "  'The Lincolnian Online'],\n",
       " ['Caterpillar Inc.',\n",
       "  'Jennison Associates LLC',\n",
       "  'Weatherly Asset Management',\n",
       "  'FMR LLC',\n",
       "  'Balyasny Asset Management LLC',\n",
       "  'Renaissance Technologies LLC',\n",
       "  'NYSE',\n",
       "  'Citigroup',\n",
       "  'Vanguard Group Inc.',\n",
       "  'Zacks Investment Research',\n",
       "  'Bank of America',\n",
       "  'Argus',\n",
       "  '8,908',\n",
       "  'Construction Industries',\n",
       "  'Resource Industries',\n",
       "  'Energy & Transportation']]"
      ]
     },
     "execution_count": 60,
     "metadata": {},
     "output_type": "execute_result"
    }
   ],
   "source": [
    "agg_company_list_text"
   ]
  },
  {
   "cell_type": "code",
   "execution_count": 67,
   "metadata": {
    "ExecuteTime": {
     "end_time": "2019-05-04T15:44:53.953579Z",
     "start_time": "2019-05-04T15:44:53.950708Z"
    }
   },
   "outputs": [],
   "source": [
    "#Flatten the list\n",
    "from itertools import chain\n",
    "agg_company_list_text_flat = list(chain(*agg_company_list_text))\n",
    "agg_company_list_title_flat = list(chain(*agg_company_list_title))"
   ]
  },
  {
   "cell_type": "code",
   "execution_count": 68,
   "metadata": {
    "ExecuteTime": {
     "end_time": "2019-05-04T15:45:50.229826Z",
     "start_time": "2019-05-04T15:45:50.225039Z"
    }
   },
   "outputs": [],
   "source": [
    "company_list = agg_company_list_text_flat + agg_company_list_title_flat"
   ]
  },
  {
   "cell_type": "code",
   "execution_count": 84,
   "metadata": {
    "ExecuteTime": {
     "end_time": "2019-05-04T16:21:06.203904Z",
     "start_time": "2019-05-04T16:21:06.199295Z"
    }
   },
   "outputs": [],
   "source": [
    "#Remove Caterpillar and similar names off the list\n",
    "import re\n",
    "pattern = re.compile(r'\\bCaterpillar\\b')\n",
    "\n",
    "company_list = [(text, not bool(pattern.search(text))) for text in company_list]\n",
    "company_list = [text for text, tf in company_list if tf]"
   ]
  },
  {
   "cell_type": "code",
   "execution_count": null,
   "metadata": {},
   "outputs": [],
   "source": []
  },
  {
   "cell_type": "code",
   "execution_count": 89,
   "metadata": {
    "ExecuteTime": {
     "end_time": "2019-05-04T17:53:18.445882Z",
     "start_time": "2019-05-04T17:53:18.442391Z"
    }
   },
   "outputs": [
    {
     "name": "stdout",
     "output_type": "stream",
     "text": [
      "[('NYSE', 26), ('Resource Industries', 19), ('Construction Industries', 18), ('Energy & Transportation', 16), ('Citigroup', 13), ('Apple', 8), ('Vetr', 8), ('DIESEL', 8), ('JPMorgan Chase', 7), ('Bank of America', 7), ('The Lincolnian Online', 6), ('Credit Suisse Group', 6), ('Amazon', 6), ('Reuters', 6), ('Acrospire Investment Management LLC', 5), ('Motco', 5), ('Goldman Sachs Group', 5), ('5,214', 5), ('JPMorgan', 5), ('Deutsche Bank', 5)]\n"
     ]
    }
   ],
   "source": [
    "import collections\n",
    "counter=collections.Counter(company_list)\n",
    "print(counter.most_common(20))"
   ]
  }
 ],
 "metadata": {
  "kernelspec": {
   "display_name": "Python 3",
   "language": "python",
   "name": "python3"
  },
  "language_info": {
   "codemirror_mode": {
    "name": "ipython",
    "version": 3
   },
   "file_extension": ".py",
   "mimetype": "text/x-python",
   "name": "python",
   "nbconvert_exporter": "python",
   "pygments_lexer": "ipython3",
   "version": "3.7.3"
  },
  "toc": {
   "base_numbering": 1,
   "nav_menu": {},
   "number_sections": false,
   "sideBar": true,
   "skip_h1_title": false,
   "title_cell": "Table of Contents",
   "title_sidebar": "Contents",
   "toc_cell": false,
   "toc_position": {
    "height": "calc(100% - 180px)",
    "left": "10px",
    "top": "150px",
    "width": "364px"
   },
   "toc_section_display": true,
   "toc_window_display": true
  },
  "varInspector": {
   "cols": {
    "lenName": 16,
    "lenType": 16,
    "lenVar": 40
   },
   "kernels_config": {
    "python": {
     "delete_cmd_postfix": "",
     "delete_cmd_prefix": "del ",
     "library": "var_list.py",
     "varRefreshCmd": "print(var_dic_list())"
    },
    "r": {
     "delete_cmd_postfix": ") ",
     "delete_cmd_prefix": "rm(",
     "library": "var_list.r",
     "varRefreshCmd": "cat(var_dic_list()) "
    }
   },
   "types_to_exclude": [
    "module",
    "function",
    "builtin_function_or_method",
    "instance",
    "_Feature"
   ],
   "window_display": false
  }
 },
 "nbformat": 4,
 "nbformat_minor": 2
}
