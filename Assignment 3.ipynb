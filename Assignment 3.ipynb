{
 "cells": [
  {
   "cell_type": "markdown",
   "metadata": {},
   "source": [
    "## MSCA 32018 1 Natural Language Processing and Cognitive Computing\n",
    "\n",
    "### Assignment 3\n",
    "\n",
    "**Author: Targoon Siripanichpong**"
   ]
  },
  {
   "cell_type": "markdown",
   "metadata": {},
   "source": [
    "You need to determine which articles (from Assignment Articles.zip) are similar to each other and which books (from Assignment Books.zip) are more similar to each other.  In order to accomplish this you need to create n-grams (a.k.a. shingles) and compare the similarity of the text using Jaccard distance.\n",
    "\n",
    "Your final submission must include the following:\n",
    "\n",
    "* Which articles / books were similar and which ones were dissimilar?\n",
    "* A brief write-up explaining why and how you chose “n” for you analysis (for n-grams)\n",
    "* Was the “n” identical or different for books vs. articles and why\n",
    "* Visualize the selection of “n”\n",
    "* Include all of your program codes (creating n-grams from text as well as selecting the “n” for analysis)"
   ]
  },
  {
   "cell_type": "markdown",
   "metadata": {},
   "source": [
    "## Importing Libraries"
   ]
  },
  {
   "cell_type": "markdown",
   "metadata": {},
   "source": [
    "In this notebook, we'll examine the impact of choosing n in our n-grams across two libraries of texts. Onelibrary is comprised of several full-length novels, while another consists of articles of varying lenghts. We'llﬁrst deﬁne several helper functions that will be re-used throughout this process (each one is commented).We'll then proceed to evaluate our choice of n, per library, and then ﬁnally, use that n-value to compare ourlibrary of texts and return Jaccard similarity values for the more similiar texts."
   ]
  },
  {
   "cell_type": "code",
   "execution_count": 1,
   "metadata": {
    "ExecuteTime": {
     "end_time": "2019-04-25T19:41:35.896288Z",
     "start_time": "2019-04-25T19:41:35.213950Z"
    },
    "scrolled": true
   },
   "outputs": [],
   "source": [
    "from __future__ import division\n",
    "import nltk\n",
    "import string\n",
    "import os\n",
    "from nltk.corpus import stopwords\n",
    "from itertools import combinations\n",
    "import matplotlib.pyplot as plt\n",
    "import numpy as np"
   ]
  },
  {
   "cell_type": "markdown",
   "metadata": {
    "heading_collapsed": true
   },
   "source": [
    "## Defining Functions"
   ]
  },
  {
   "cell_type": "code",
   "execution_count": 2,
   "metadata": {
    "ExecuteTime": {
     "end_time": "2019-04-25T19:41:35.949493Z",
     "start_time": "2019-04-25T19:41:35.898144Z"
    },
    "hidden": true
   },
   "outputs": [],
   "source": [
    "def ngram_compare_files(file1,file2,n):\n",
    "    # Takes two files\n",
    "    # hashes their n-grams into twos lists\n",
    "    # calculates the intersection and union\n",
    "    # of the two lists, and returns\n",
    "    # Jacard similarity value\n",
    " \n",
    "    stop = stopwords.words('english')\n",
    "    f1 = open(file1)\n",
    "    raw = f1.read()\n",
    "    f1.close()\n",
    "    f1_grams = nltk.ngrams(raw.split(),n)\n",
    "    \n",
    "    array_1 = []\n",
    "    \n",
    "    for gram in f1_grams:\n",
    "        array_1.append(hash(gram))\n",
    "    f2 = open(file2)\n",
    "    raw = f2.read()\n",
    "    f2.close()\n",
    "    f2_grams = nltk.ngrams(raw.split(),n)\n",
    "    \n",
    "    array_2 = []\n",
    "    \n",
    "    for gram in f2_grams:\n",
    "        array_2.append(hash(gram))\n",
    "        \n",
    "    intersection = len(list(set(array_1).intersection(array_2)))    \n",
    "    union = len(set(array_1)) + len(set(array_2)) - intersection\n",
    "    jacard_similarity = intersection / union\n",
    "    return jacard_similarity\n",
    "\n",
    "\n",
    "def pairs_of_files(directory):\n",
    "    # returns combination of two files given\n",
    "    # all files in a directory\n",
    "    \n",
    "    dir = os.listdir(directory)\n",
    "    combo = combinations(dir, 2)\n",
    "    return combo\n",
    "\n",
    "def compare_files(directory,ngram_size,threshold):\n",
    "    # compares all pairs of files in a directory\n",
    "    # for similarity.\n",
    "    # RETURNS: Dictionary, with key as\n",
    "    # comma-separated string of two files\n",
    "    # and value of similarity index as decimal\n",
    "    # where similarity index is above threshold\n",
    "    # value.\n",
    "    \n",
    "    compare_dictionary = {}\n",
    "    \n",
    "    ngram = ngram_size\n",
    "    combo = pairs_of_files(directory)\n",
    "    \n",
    "    for i in combo:\n",
    "        \n",
    "        sim = ngram_compare_files(directory+str(i[0]),directory+str(i[1]),ngram)\n",
    "        if sim > threshold:\n",
    "            \n",
    "            key = str(i[0]) + \",\" + str(i[1])\n",
    "            value = sim\n",
    "            compare_dictionary[key]=value\n",
    "            \n",
    "    return compare_dictionary            "
   ]
  },
  {
   "cell_type": "markdown",
   "metadata": {},
   "source": [
    "## Choosing 'N'"
   ]
  },
  {
   "cell_type": "markdown",
   "metadata": {},
   "source": [
    "In order to determine a proper N-value for a n-grams, we evaluate the impact of N over a range of 2 to 20.\n",
    "We do this by repeating our similarity measure (Jaccardian similarity) for each N, and plotting similairity."
   ]
  },
  {
   "cell_type": "markdown",
   "metadata": {},
   "source": [
    "### Running for Books"
   ]
  },
  {
   "cell_type": "code",
   "execution_count": 3,
   "metadata": {
    "ExecuteTime": {
     "end_time": "2019-04-25T19:41:35.954592Z",
     "start_time": "2019-04-25T19:41:35.951661Z"
    }
   },
   "outputs": [],
   "source": [
    "dir = '../Data/'"
   ]
  },
  {
   "cell_type": "code",
   "execution_count": 4,
   "metadata": {
    "ExecuteTime": {
     "end_time": "2019-04-25T19:41:44.469405Z",
     "start_time": "2019-04-25T19:41:35.957973Z"
    }
   },
   "outputs": [],
   "source": [
    "x = []\n",
    "y = []\n",
    "yall = []\n",
    "\n",
    "for n in range(2,20):\n",
    "        \n",
    "    books_comparison = compare_files(dir+'Assignment 3 Books/',ngram_size=n,threshold=-1)\n",
    "    a = np.zeros(len(books_comparison))\n",
    "    counter = 0\n",
    "    for key, value in books_comparison.items():\n",
    "        a[counter] = value\n",
    "        counter +=1\n",
    "    #print str(n) + \":\" + str(a.mean())\n",
    "    x.append(n)\n",
    "    yall.append(a*100)\n",
    "    y.append(a.mean()*100)"
   ]
  },
  {
   "cell_type": "markdown",
   "metadata": {},
   "source": [
    "Plot the distributions"
   ]
  },
  {
   "cell_type": "code",
   "execution_count": 5,
   "metadata": {
    "ExecuteTime": {
     "end_time": "2019-04-25T19:41:44.596888Z",
     "start_time": "2019-04-25T19:41:44.470662Z"
    },
    "scrolled": false
   },
   "outputs": [
    {
     "data": {
      "image/png": "[encoded data removed]",
      "text/plain": [
       "<Figure size 432x288 with 1 Axes>"
      ]
     },
     "metadata": {
      "needs_background": "light"
     },
     "output_type": "display_data"
    }
   ],
   "source": [
    "plt.plot(x,y, linestyle = '-')\n",
    "#plt.plot(x,yall, linestyle = '--')\n",
    "plt.xlabel('n in n-grams')\n",
    "plt.ylabel('Similarity (pct)')\n",
    "plt.title('Similarity Across All Books per N n-gram')\n",
    "plt.grid()\n",
    "plt.show()"
   ]
  },
  {
   "cell_type": "markdown",
   "metadata": {},
   "source": [
    "**N-Gram Selection for Books** \n",
    "\n",
    "As observed from the similarity plot across all books, books become more 'dissimilar' as the N increases. This is as expected because as N increases, the more unique the tokens would be, making it more difficult to make a comparison.\n",
    "\n",
    "In this case, N for books are selected to be 4. This is where the similarity between books can still be observed while still not generalizing the token too much. When N=5 or more, it can be seen that the graph plateaus, and there is no meaningful separation when N>=5 as the tokens become very unique."
   ]
  },
  {
   "cell_type": "markdown",
   "metadata": {},
   "source": [
    "### Running for Articles"
   ]
  },
  {
   "cell_type": "code",
   "execution_count": 6,
   "metadata": {
    "ExecuteTime": {
     "end_time": "2019-04-25T19:41:48.245654Z",
     "start_time": "2019-04-25T19:41:44.598130Z"
    }
   },
   "outputs": [],
   "source": [
    "x = []\n",
    "y = []\n",
    "yall = []\n",
    "\n",
    "for n in range(2,20):\n",
    "    \n",
    "    art_comparison = compare_files(dir+'Assignment 3 Articles/',ngram_size=n,threshold=-1)\n",
    "    a = np.zeros(len(art_comparison))\n",
    "    counter = 0\n",
    "    for key, value in art_comparison.items():\n",
    "        a[counter] = value\n",
    "        counter +=1\n",
    "    #print str(n) + \":\" + str(a.mean())\n",
    "    x.append(n)\n",
    "    yall.append(a*100)\n",
    "    y.append(a.mean()*100)"
   ]
  },
  {
   "cell_type": "code",
   "execution_count": 7,
   "metadata": {
    "ExecuteTime": {
     "end_time": "2019-04-25T19:41:48.346214Z",
     "start_time": "2019-04-25T19:41:48.246795Z"
    },
    "scrolled": true
   },
   "outputs": [
    {
     "data": {
      "image/png": "[encoded data removed]",
      "text/plain": [
       "<Figure size 432x288 with 1 Axes>"
      ]
     },
     "metadata": {
      "needs_background": "light"
     },
     "output_type": "display_data"
    }
   ],
   "source": [
    "plt.plot(x,y, linestyle = '-')\n",
    "#plt.plot(x,yall, linestyle = '--')\n",
    "plt.xlabel('n in n-grams')\n",
    "plt.ylabel('Similarity (pct)')\n",
    "plt.title('Mean Similarity Across All Articles per N n-gram')\n",
    "plt.grid()\n",
    "plt.show()"
   ]
  },
  {
   "cell_type": "markdown",
   "metadata": {},
   "source": [
    "**N-Gram Selection for Articles**\n",
    "\n",
    "The similarity plot for articles is roughly the same as the plot for books. As Not a lot of difference is observed in the similarity when N >= 4, N is chosen to be equal to 3 in this case."
   ]
  },
  {
   "cell_type": "markdown",
   "metadata": {},
   "source": [
    "**Was the “n” identical or different for books vs. articles and why?**\n",
    "\n",
    "N selection for Books are Articles are close (4 and 3 respectively), but not identical. \n",
    "\n",
    "As the books are more lengthy than articles, they are able to handle more unique tokens as there are more available tokens for comparison. Hence, it is not a surprise to see that N for books is larger than N for articles. "
   ]
  },
  {
   "cell_type": "markdown",
   "metadata": {},
   "source": [
    "## Books measuring similarity"
   ]
  },
  {
   "cell_type": "markdown",
   "metadata": {},
   "source": [
    "After having our n for books chosen as 4, we'll examine the similairty of our set of books, and use a\n",
    "threshold value of 2%. This threshold value will filter our any books with similarities below that value, in order\n",
    "to allow us to focus on the most promininent combinations of books that are similar."
   ]
  },
  {
   "cell_type": "code",
   "execution_count": 8,
   "metadata": {
    "ExecuteTime": {
     "end_time": "2019-04-25T19:41:48.887484Z",
     "start_time": "2019-04-25T19:41:48.347994Z"
    },
    "scrolled": false
   },
   "outputs": [
    {
     "name": "stdout",
     "output_type": "stream",
     "text": [
      "1\n",
      "Hound_of_the_Baskervilles.txt is similar to Adventures_of_Sherlock_Holmes.txt with a Similarity Index of 2.444%\n",
      "\n",
      "\n",
      "1\n",
      "Hound_of_the_Baskervilles.txt is similar to Return_of_Sherlock_Holmes.txt with a Similarity Index of 2.430%\n",
      "\n",
      "\n",
      "1\n",
      "Adventures_of_Sherlock_Holmes.txt is similar to Return_of_Sherlock_Holmes.txt with a Similarity Index of 2.332%\n",
      "\n",
      "\n"
     ]
    }
   ],
   "source": [
    "books_comparison = compare_files(dir+'Assignment 3 Books/',ngram_size=4,threshold=0.02)\n",
    "\n",
    "\n",
    "for k,v in books_comparison.items():\n",
    "    book1, book2 = k.split(',')\n",
    "    similarity_index = v\n",
    "    print (\"1\")\n",
    "    print (str(book1) + \" is similar to \" + str(book2) + \n",
    "           \" with a Similarity Index of \" + '{percent:.3%}'.format(percent=similarity_index) +\"\\n\" +\"\\n\")"
   ]
  },
  {
   "cell_type": "markdown",
   "metadata": {},
   "source": [
    "**Checking the most frequent N-grams token for all books**"
   ]
  },
  {
   "cell_type": "code",
   "execution_count": 9,
   "metadata": {
    "ExecuteTime": {
     "end_time": "2019-04-25T19:41:49.182374Z",
     "start_time": "2019-04-25T19:41:48.889820Z"
    }
   },
   "outputs": [],
   "source": [
    "import pandas as pd\n",
    "\n",
    "def four_gram_word_freq(directory):\n",
    "    with open(directory, 'r') as file:\n",
    "        text = file.read().replace('\\n', '')\n",
    "\n",
    "    n = 4\n",
    "    fourgrams = nltk.ngrams(text.split(), n)\n",
    "\n",
    "    #tokens = nltk.tokenize.word_tokenize(raw)\n",
    "    tokens = nltk.word_tokenize(text)\n",
    "\n",
    "    fdist_4 = nltk.FreqDist(fourgrams)\n",
    "    fdist_df = pd.DataFrame(fdist_4.most_common(),\n",
    "                        columns=['Word', 'Frequency'])\n",
    "\n",
    "    return(fdist_df.head(n=15))"
   ]
  },
  {
   "cell_type": "code",
   "execution_count": 10,
   "metadata": {
    "ExecuteTime": {
     "end_time": "2019-04-25T19:41:49.599272Z",
     "start_time": "2019-04-25T19:41:49.183826Z"
    },
    "scrolled": true
   },
   "outputs": [
    {
     "data": {
      "text/html": [
       "<div>\n",
       "<style scoped>\n",
       "    .dataframe tbody tr th:only-of-type {\n",
       "        vertical-align: middle;\n",
       "    }\n",
       "\n",
       "    .dataframe tbody tr th {\n",
       "        vertical-align: top;\n",
       "    }\n",
       "\n",
       "    .dataframe thead th {\n",
       "        text-align: right;\n",
       "    }\n",
       "</style>\n",
       "<table border=\"1\" class=\"dataframe\">\n",
       "  <thead>\n",
       "    <tr style=\"text-align: right;\">\n",
       "      <th></th>\n",
       "      <th>Word</th>\n",
       "      <th>Frequency</th>\n",
       "    </tr>\n",
       "  </thead>\n",
       "  <tbody>\n",
       "    <tr>\n",
       "      <th>0</th>\n",
       "      <td>(the, bottom, of, the)</td>\n",
       "      <td>12</td>\n",
       "    </tr>\n",
       "    <tr>\n",
       "      <th>1</th>\n",
       "      <td>(at, the, bottom, of)</td>\n",
       "      <td>11</td>\n",
       "    </tr>\n",
       "    <tr>\n",
       "      <th>2</th>\n",
       "      <td>(in, the, middle, of)</td>\n",
       "      <td>10</td>\n",
       "    </tr>\n",
       "    <tr>\n",
       "      <th>3</th>\n",
       "      <td>(the, middle, of, the)</td>\n",
       "      <td>10</td>\n",
       "    </tr>\n",
       "    <tr>\n",
       "      <th>4</th>\n",
       "      <td>(said, it, was, a)</td>\n",
       "      <td>9</td>\n",
       "    </tr>\n",
       "    <tr>\n",
       "      <th>5</th>\n",
       "      <td>(and, Harris, and, I)</td>\n",
       "      <td>8</td>\n",
       "    </tr>\n",
       "    <tr>\n",
       "      <th>6</th>\n",
       "      <td>(a, good, deal, of)</td>\n",
       "      <td>8</td>\n",
       "    </tr>\n",
       "    <tr>\n",
       "      <th>7</th>\n",
       "      <td>(and, George, and, I)</td>\n",
       "      <td>8</td>\n",
       "    </tr>\n",
       "    <tr>\n",
       "      <th>8</th>\n",
       "      <td>(the, end, of, the)</td>\n",
       "      <td>6</td>\n",
       "    </tr>\n",
       "    <tr>\n",
       "      <th>9</th>\n",
       "      <td>(at, the, rate, of)</td>\n",
       "      <td>6</td>\n",
       "    </tr>\n",
       "    <tr>\n",
       "      <th>10</th>\n",
       "      <td>(up, and, down, the)</td>\n",
       "      <td>6</td>\n",
       "    </tr>\n",
       "    <tr>\n",
       "      <th>11</th>\n",
       "      <td>(of, the, boat,, and)</td>\n",
       "      <td>6</td>\n",
       "    </tr>\n",
       "    <tr>\n",
       "      <th>12</th>\n",
       "      <td>(where, you, can, get)</td>\n",
       "      <td>5</td>\n",
       "    </tr>\n",
       "    <tr>\n",
       "      <th>13</th>\n",
       "      <td>(to, get, out, of)</td>\n",
       "      <td>5</td>\n",
       "    </tr>\n",
       "    <tr>\n",
       "      <th>14</th>\n",
       "      <td>(that, it, was, a)</td>\n",
       "      <td>5</td>\n",
       "    </tr>\n",
       "  </tbody>\n",
       "</table>\n",
       "</div>"
      ],
      "text/plain": [
       "                      Word  Frequency\n",
       "0   (the, bottom, of, the)         12\n",
       "1    (at, the, bottom, of)         11\n",
       "2    (in, the, middle, of)         10\n",
       "3   (the, middle, of, the)         10\n",
       "4       (said, it, was, a)          9\n",
       "5    (and, Harris, and, I)          8\n",
       "6      (a, good, deal, of)          8\n",
       "7    (and, George, and, I)          8\n",
       "8      (the, end, of, the)          6\n",
       "9      (at, the, rate, of)          6\n",
       "10    (up, and, down, the)          6\n",
       "11   (of, the, boat,, and)          6\n",
       "12  (where, you, can, get)          5\n",
       "13      (to, get, out, of)          5\n",
       "14      (that, it, was, a)          5"
      ]
     },
     "execution_count": 10,
     "metadata": {},
     "output_type": "execute_result"
    }
   ],
   "source": [
    "four_gram_word_freq(dir+'Assignment 3 Books/3boat10.txt')"
   ]
  },
  {
   "cell_type": "code",
   "execution_count": 11,
   "metadata": {
    "ExecuteTime": {
     "end_time": "2019-04-25T19:41:50.484037Z",
     "start_time": "2019-04-25T19:41:49.600580Z"
    },
    "scrolled": true
   },
   "outputs": [
    {
     "data": {
      "text/html": [
       "<div>\n",
       "<style scoped>\n",
       "    .dataframe tbody tr th:only-of-type {\n",
       "        vertical-align: middle;\n",
       "    }\n",
       "\n",
       "    .dataframe tbody tr th {\n",
       "        vertical-align: top;\n",
       "    }\n",
       "\n",
       "    .dataframe thead th {\n",
       "        text-align: right;\n",
       "    }\n",
       "</style>\n",
       "<table border=\"1\" class=\"dataframe\">\n",
       "  <thead>\n",
       "    <tr style=\"text-align: right;\">\n",
       "      <th></th>\n",
       "      <th>Word</th>\n",
       "      <th>Frequency</th>\n",
       "    </tr>\n",
       "  </thead>\n",
       "  <tbody>\n",
       "    <tr>\n",
       "      <th>0</th>\n",
       "      <td>(have, no, doubt, that)</td>\n",
       "      <td>10</td>\n",
       "    </tr>\n",
       "    <tr>\n",
       "      <th>1</th>\n",
       "      <td>(I, have, no, doubt)</td>\n",
       "      <td>9</td>\n",
       "    </tr>\n",
       "    <tr>\n",
       "      <th>2</th>\n",
       "      <td>(to, me, to, be)</td>\n",
       "      <td>8</td>\n",
       "    </tr>\n",
       "    <tr>\n",
       "      <th>3</th>\n",
       "      <td>(of, a, man, who)</td>\n",
       "      <td>8</td>\n",
       "    </tr>\n",
       "    <tr>\n",
       "      <th>4</th>\n",
       "      <td>(I, do, not, think)</td>\n",
       "      <td>8</td>\n",
       "    </tr>\n",
       "    <tr>\n",
       "      <th>5</th>\n",
       "      <td>(I, think, that, I)</td>\n",
       "      <td>8</td>\n",
       "    </tr>\n",
       "    <tr>\n",
       "      <th>6</th>\n",
       "      <td>(Project, Gutenberg, Literary, Archive)</td>\n",
       "      <td>7</td>\n",
       "    </tr>\n",
       "    <tr>\n",
       "      <th>7</th>\n",
       "      <td>(The, Adventure, of, the)</td>\n",
       "      <td>6</td>\n",
       "    </tr>\n",
       "    <tr>\n",
       "      <th>8</th>\n",
       "      <td>(from, one, to, the)</td>\n",
       "      <td>6</td>\n",
       "    </tr>\n",
       "    <tr>\n",
       "      <th>9</th>\n",
       "      <td>(up, and, down, the)</td>\n",
       "      <td>6</td>\n",
       "    </tr>\n",
       "    <tr>\n",
       "      <th>10</th>\n",
       "      <td>(in, front, of, the)</td>\n",
       "      <td>6</td>\n",
       "    </tr>\n",
       "    <tr>\n",
       "      <th>11</th>\n",
       "      <td>(beg, that, you, will)</td>\n",
       "      <td>6</td>\n",
       "    </tr>\n",
       "    <tr>\n",
       "      <th>12</th>\n",
       "      <td>(do, not, think, that)</td>\n",
       "      <td>6</td>\n",
       "    </tr>\n",
       "    <tr>\n",
       "      <th>13</th>\n",
       "      <td>(a, man, who, is)</td>\n",
       "      <td>6</td>\n",
       "    </tr>\n",
       "    <tr>\n",
       "      <th>14</th>\n",
       "      <td>(THE, ADVENTURE, OF, THE)</td>\n",
       "      <td>6</td>\n",
       "    </tr>\n",
       "  </tbody>\n",
       "</table>\n",
       "</div>"
      ],
      "text/plain": [
       "                                       Word  Frequency\n",
       "0                   (have, no, doubt, that)         10\n",
       "1                      (I, have, no, doubt)          9\n",
       "2                          (to, me, to, be)          8\n",
       "3                         (of, a, man, who)          8\n",
       "4                       (I, do, not, think)          8\n",
       "5                       (I, think, that, I)          8\n",
       "6   (Project, Gutenberg, Literary, Archive)          7\n",
       "7                 (The, Adventure, of, the)          6\n",
       "8                      (from, one, to, the)          6\n",
       "9                      (up, and, down, the)          6\n",
       "10                     (in, front, of, the)          6\n",
       "11                   (beg, that, you, will)          6\n",
       "12                   (do, not, think, that)          6\n",
       "13                        (a, man, who, is)          6\n",
       "14                (THE, ADVENTURE, OF, THE)          6"
      ]
     },
     "execution_count": 11,
     "metadata": {},
     "output_type": "execute_result"
    }
   ],
   "source": [
    "four_gram_word_freq(dir+'Assignment 3 Books/Adventures_of_Sherlock_Holmes.txt')"
   ]
  },
  {
   "cell_type": "code",
   "execution_count": 12,
   "metadata": {
    "ExecuteTime": {
     "end_time": "2019-04-25T19:41:51.441724Z",
     "start_time": "2019-04-25T19:41:50.486136Z"
    },
    "scrolled": true
   },
   "outputs": [
    {
     "data": {
      "text/html": [
       "<div>\n",
       "<style scoped>\n",
       "    .dataframe tbody tr th:only-of-type {\n",
       "        vertical-align: middle;\n",
       "    }\n",
       "\n",
       "    .dataframe tbody tr th {\n",
       "        vertical-align: top;\n",
       "    }\n",
       "\n",
       "    .dataframe thead th {\n",
       "        text-align: right;\n",
       "    }\n",
       "</style>\n",
       "<table border=\"1\" class=\"dataframe\">\n",
       "  <thead>\n",
       "    <tr style=\"text-align: right;\">\n",
       "      <th></th>\n",
       "      <th>Word</th>\n",
       "      <th>Frequency</th>\n",
       "    </tr>\n",
       "  </thead>\n",
       "  <tbody>\n",
       "    <tr>\n",
       "      <th>0</th>\n",
       "      <td>(at, the, end, of)</td>\n",
       "      <td>12</td>\n",
       "    </tr>\n",
       "    <tr>\n",
       "      <th>1</th>\n",
       "      <td>(The, Adventure, Of, The)</td>\n",
       "      <td>11</td>\n",
       "    </tr>\n",
       "    <tr>\n",
       "      <th>2</th>\n",
       "      <td>(so, far, as, I)</td>\n",
       "      <td>9</td>\n",
       "    </tr>\n",
       "    <tr>\n",
       "      <th>3</th>\n",
       "      <td>(to, me, to, be)</td>\n",
       "      <td>8</td>\n",
       "    </tr>\n",
       "    <tr>\n",
       "      <th>4</th>\n",
       "      <td>(I, am, sure, that)</td>\n",
       "      <td>8</td>\n",
       "    </tr>\n",
       "    <tr>\n",
       "      <th>5</th>\n",
       "      <td>(I, have, no, doubt)</td>\n",
       "      <td>8</td>\n",
       "    </tr>\n",
       "    <tr>\n",
       "      <th>6</th>\n",
       "      <td>(have, no, doubt, that)</td>\n",
       "      <td>7</td>\n",
       "    </tr>\n",
       "    <tr>\n",
       "      <th>7</th>\n",
       "      <td>(do, you, make, of)</td>\n",
       "      <td>7</td>\n",
       "    </tr>\n",
       "    <tr>\n",
       "      <th>8</th>\n",
       "      <td>(the, scene, of, the)</td>\n",
       "      <td>7</td>\n",
       "    </tr>\n",
       "    <tr>\n",
       "      <th>9</th>\n",
       "      <td>(I, am, convinced, that)</td>\n",
       "      <td>7</td>\n",
       "    </tr>\n",
       "    <tr>\n",
       "      <th>10</th>\n",
       "      <td>(Project, Gutenberg, Literary, Archive)</td>\n",
       "      <td>7</td>\n",
       "    </tr>\n",
       "    <tr>\n",
       "      <th>11</th>\n",
       "      <td>(seemed, to, me, to)</td>\n",
       "      <td>6</td>\n",
       "    </tr>\n",
       "    <tr>\n",
       "      <th>12</th>\n",
       "      <td>(in, the, middle, of)</td>\n",
       "      <td>6</td>\n",
       "    </tr>\n",
       "    <tr>\n",
       "      <th>13</th>\n",
       "      <td>(in, the, direction, of)</td>\n",
       "      <td>6</td>\n",
       "    </tr>\n",
       "    <tr>\n",
       "      <th>14</th>\n",
       "      <td>(the, Project, Gutenberg, Literary)</td>\n",
       "      <td>6</td>\n",
       "    </tr>\n",
       "  </tbody>\n",
       "</table>\n",
       "</div>"
      ],
      "text/plain": [
       "                                       Word  Frequency\n",
       "0                        (at, the, end, of)         12\n",
       "1                 (The, Adventure, Of, The)         11\n",
       "2                          (so, far, as, I)          9\n",
       "3                          (to, me, to, be)          8\n",
       "4                       (I, am, sure, that)          8\n",
       "5                      (I, have, no, doubt)          8\n",
       "6                   (have, no, doubt, that)          7\n",
       "7                       (do, you, make, of)          7\n",
       "8                     (the, scene, of, the)          7\n",
       "9                  (I, am, convinced, that)          7\n",
       "10  (Project, Gutenberg, Literary, Archive)          7\n",
       "11                     (seemed, to, me, to)          6\n",
       "12                    (in, the, middle, of)          6\n",
       "13                 (in, the, direction, of)          6\n",
       "14      (the, Project, Gutenberg, Literary)          6"
      ]
     },
     "execution_count": 12,
     "metadata": {},
     "output_type": "execute_result"
    }
   ],
   "source": [
    "four_gram_word_freq(dir+'Assignment 3 Books/Return_of_Sherlock_Holmes.txt')"
   ]
  },
  {
   "cell_type": "code",
   "execution_count": 13,
   "metadata": {
    "ExecuteTime": {
     "end_time": "2019-04-25T19:41:51.904851Z",
     "start_time": "2019-04-25T19:41:51.443078Z"
    },
    "scrolled": true
   },
   "outputs": [
    {
     "data": {
      "text/html": [
       "<div>\n",
       "<style scoped>\n",
       "    .dataframe tbody tr th:only-of-type {\n",
       "        vertical-align: middle;\n",
       "    }\n",
       "\n",
       "    .dataframe tbody tr th {\n",
       "        vertical-align: top;\n",
       "    }\n",
       "\n",
       "    .dataframe thead th {\n",
       "        text-align: right;\n",
       "    }\n",
       "</style>\n",
       "<table border=\"1\" class=\"dataframe\">\n",
       "  <thead>\n",
       "    <tr style=\"text-align: right;\">\n",
       "      <th></th>\n",
       "      <th>Word</th>\n",
       "      <th>Frequency</th>\n",
       "    </tr>\n",
       "  </thead>\n",
       "  <tbody>\n",
       "    <tr>\n",
       "      <th>0</th>\n",
       "      <td>(Project, Gutenberg, Literary, Archive)</td>\n",
       "      <td>7</td>\n",
       "    </tr>\n",
       "    <tr>\n",
       "      <th>1</th>\n",
       "      <td>(do, you, make, of)</td>\n",
       "      <td>6</td>\n",
       "    </tr>\n",
       "    <tr>\n",
       "      <th>2</th>\n",
       "      <td>(the, death, of, Sir)</td>\n",
       "      <td>6</td>\n",
       "    </tr>\n",
       "    <tr>\n",
       "      <th>3</th>\n",
       "      <td>(death, of, Sir, Charles)</td>\n",
       "      <td>6</td>\n",
       "    </tr>\n",
       "    <tr>\n",
       "      <th>4</th>\n",
       "      <td>(the, Project, Gutenberg, Literary)</td>\n",
       "      <td>6</td>\n",
       "    </tr>\n",
       "    <tr>\n",
       "      <th>5</th>\n",
       "      <td>(on, either, side, of)</td>\n",
       "      <td>5</td>\n",
       "    </tr>\n",
       "    <tr>\n",
       "      <th>6</th>\n",
       "      <td>(Sir, Henry, and, I)</td>\n",
       "      <td>5</td>\n",
       "    </tr>\n",
       "    <tr>\n",
       "      <th>7</th>\n",
       "      <td>(that, I, could, not)</td>\n",
       "      <td>5</td>\n",
       "    </tr>\n",
       "    <tr>\n",
       "      <th>8</th>\n",
       "      <td>(have, no, doubt, that)</td>\n",
       "      <td>5</td>\n",
       "    </tr>\n",
       "    <tr>\n",
       "      <th>9</th>\n",
       "      <td>(the, terms, of, this)</td>\n",
       "      <td>5</td>\n",
       "    </tr>\n",
       "    <tr>\n",
       "      <th>10</th>\n",
       "      <td>(The, Hound, of, the)</td>\n",
       "      <td>4</td>\n",
       "    </tr>\n",
       "    <tr>\n",
       "      <th>11</th>\n",
       "      <td>(the, terms, of, the)</td>\n",
       "      <td>4</td>\n",
       "    </tr>\n",
       "    <tr>\n",
       "      <th>12</th>\n",
       "      <td>(he, was, in, the)</td>\n",
       "      <td>4</td>\n",
       "    </tr>\n",
       "    <tr>\n",
       "      <th>13</th>\n",
       "      <td>(the, Hound, of, the)</td>\n",
       "      <td>4</td>\n",
       "    </tr>\n",
       "    <tr>\n",
       "      <th>14</th>\n",
       "      <td>(it, might, have, been)</td>\n",
       "      <td>4</td>\n",
       "    </tr>\n",
       "  </tbody>\n",
       "</table>\n",
       "</div>"
      ],
      "text/plain": [
       "                                       Word  Frequency\n",
       "0   (Project, Gutenberg, Literary, Archive)          7\n",
       "1                       (do, you, make, of)          6\n",
       "2                     (the, death, of, Sir)          6\n",
       "3                 (death, of, Sir, Charles)          6\n",
       "4       (the, Project, Gutenberg, Literary)          6\n",
       "5                    (on, either, side, of)          5\n",
       "6                      (Sir, Henry, and, I)          5\n",
       "7                     (that, I, could, not)          5\n",
       "8                   (have, no, doubt, that)          5\n",
       "9                    (the, terms, of, this)          5\n",
       "10                    (The, Hound, of, the)          4\n",
       "11                    (the, terms, of, the)          4\n",
       "12                       (he, was, in, the)          4\n",
       "13                    (the, Hound, of, the)          4\n",
       "14                  (it, might, have, been)          4"
      ]
     },
     "execution_count": 13,
     "metadata": {},
     "output_type": "execute_result"
    }
   ],
   "source": [
    "four_gram_word_freq(dir+'Assignment 3 Books/Hound_of_the_Baskervilles.txt')"
   ]
  },
  {
   "cell_type": "markdown",
   "metadata": {},
   "source": [
    "**Which books are similar/dissimilar?**\n",
    "\n",
    "\"Three Men in a Boat\" is considered different from the Sherlock Holmes books based on the similarity index. The books that are similar to each other are the three Sherlock Holmes books. With N=4, all the books have the similarity index ~2.4%. This is expected as these books are in the same genre, written by the same writer, and sharing the same character pools. As seen above, phrases like \"the Project Gutenberg Literary Archive\" seems to be a common theme across all three Sherlock Holmes books. \n",
    "\n"
   ]
  },
  {
   "cell_type": "markdown",
   "metadata": {},
   "source": [
    "## Articles measuring similarity"
   ]
  },
  {
   "cell_type": "markdown",
   "metadata": {},
   "source": [
    "After having our n for articles chosen as 3, we'll examine the similairty of our set of articles, and use a\n",
    "threshold value of 8%. This threshold value will filter our any articles with similarities below that value, in\n",
    "order to allow us to focus on the most promininent combinations of articles that are similar."
   ]
  },
  {
   "cell_type": "code",
   "execution_count": 14,
   "metadata": {
    "ExecuteTime": {
     "end_time": "2019-04-25T19:41:52.166304Z",
     "start_time": "2019-04-25T19:41:51.906073Z"
    },
    "scrolled": false
   },
   "outputs": [
    {
     "name": "stdout",
     "output_type": "stream",
     "text": [
      "article28.txt is similar to article31.txt with a Similarity Index of 8.621%\n",
      "\n",
      "\n",
      "article28.txt is similar to article26.txt with a Similarity Index of 9.790%\n",
      "\n",
      "\n",
      "article4.txt is similar to article3.txt with a Similarity Index of 13.592%\n",
      "\n",
      "\n",
      "article16.txt is similar to article17.txt with a Similarity Index of 72.589%\n",
      "\n",
      "\n",
      "article14.txt is similar to article6.txt with a Similarity Index of 8.135%\n",
      "\n",
      "\n",
      "article13.txt is similar to article10.txt with a Similarity Index of 21.798%\n",
      "\n",
      "\n"
     ]
    }
   ],
   "source": [
    "articles_comparison = compare_files(dir+'Assignment 3 Articles/',ngram_size=3,threshold=0.08)\n",
    "\n",
    "\n",
    "for k,v in articles_comparison.items():\n",
    "    art1, art2 = k.split(',')\n",
    "    similarity_index = v\n",
    "    print (str(art1) + \" is similar to \" + str(art2) + \n",
    "           \" with a Similarity Index of \" + '{percent:.3%}'.format(percent=similarity_index) +\"\\n\" +\"\\n\")"
   ]
  },
  {
   "cell_type": "markdown",
   "metadata": {},
   "source": [
    "**Which articles are similar/dissimilar?**\n",
    "\n",
    "Based on the list above, the articles that are most similar to each other are **article16** and **article17**, with the similarity index of 72.5%. To verify the similarity, the articles are printed below: "
   ]
  },
  {
   "cell_type": "code",
   "execution_count": 15,
   "metadata": {
    "ExecuteTime": {
     "end_time": "2019-04-25T19:41:52.170650Z",
     "start_time": "2019-04-25T19:41:52.167527Z"
    },
    "scrolled": false
   },
   "outputs": [
    {
     "name": "stdout",
     "output_type": "stream",
     "text": [
      "A study group said the United Statesshould increase its strategic petroleum reserve to one mlnbarrels as one way to deal with the present and future impactof low oil prices on the domestic oil industry.    U.S. policy now is to raise the strategic reserve to 750mln barrels, from its present 500 mln, to help protect theeconomy from an overseas embargo or a sharp price rise.    The Aspen Institute for Humanistic Studies, a privategroup, also called for new research for oil exploration anddevelopment techniques.    It predicted prices would remain at about 15-18 dlrs abarrel for several years and then rise to the mid 20s, withimports at about 30 pct of U.S. consumption.    It said instead that such moves as increasing oil reservesand more exploration and development research would help toguard against or mitigate the risks of increased imports. Reuter\n"
     ]
    }
   ],
   "source": [
    "#article16\n",
    "with open(dir+'Assignment 3 Articles/article16.txt', 'r') as file:\n",
    "    article16 = file.read().replace('\\n', '')\n",
    "print(article16)"
   ]
  },
  {
   "cell_type": "code",
   "execution_count": 16,
   "metadata": {
    "ExecuteTime": {
     "end_time": "2019-04-25T19:41:52.175916Z",
     "start_time": "2019-04-25T19:41:52.171863Z"
    },
    "scrolled": false
   },
   "outputs": [
    {
     "name": "stdout",
     "output_type": "stream",
     "text": [
      "A study group said the United Statesshould increase its strategic petroleum reserve to one mlnbarrels as one way to deal with the present and future impactof low oil prices on the domestic oil industry.    U.S. policy now is to raise the strategic reserve to 750mln barrels, from its present 500 mln, to help protect theeconomy from an overseas embargo or a sharp price rise.    The Aspen Institute for Humanistic Studies, a privategroup, also called for new research for oil exploration anddevelopment techniques.    It predicted prices would remain at about 15-18 dlrs abarrel for several years and then rise to the mid 20s, withimports at about 30 pct of U.S. consumption.    The study cited two basic policy paths for the nation: toprotect the U.S. industry through an import fee or other suchdevice or to accept the full economic benefits of cheap oil.    But the group did not strongly back either option, sayingthere were benefits and drawbacks to both.    It said instead that such moves as increasing oil reservesand more exploration and development research would help toguard against or mitigate the risks of increased imports. Reuter\n"
     ]
    }
   ],
   "source": [
    "#article17\n",
    "with open(dir+'Assignment 3 Articles/article17.txt', 'r') as file:\n",
    "    article17 = file.read().replace('\\n', '')\n",
    "print(article17)"
   ]
  },
  {
   "cell_type": "markdown",
   "metadata": {},
   "source": [
    "It can be seen that the majority of the text in both **article16** and **article17** is identical. **Article17** seems to be an update of **article16** as there is additional information appended at the end."
   ]
  },
  {
   "cell_type": "markdown",
   "metadata": {},
   "source": [
    "**Article13** and **article10** also share a lot of similarity based on the similarity index. Both articles are shown below:"
   ]
  },
  {
   "cell_type": "code",
   "execution_count": 17,
   "metadata": {
    "ExecuteTime": {
     "end_time": "2019-04-25T19:41:52.180537Z",
     "start_time": "2019-04-25T19:41:52.177318Z"
    },
    "scrolled": false
   },
   "outputs": [
    {
     "name": "stdout",
     "output_type": "stream",
     "text": [
      "Saudi Arabian Oil Minister Hisham Nazerreiterated the kingdom's commitment to last December's OPECaccord to boost world oil prices and stabilize the market, theofficial Saudi Press Agency SPA said.    Asked by the agency about the recent fall in free marketoil prices, Nazer said Saudi Arabia \"is fully adhering by the... accord and it will never sell its oil at prices below thepronounced prices under any circumstance.\"    Saudi Arabia was a main architect of December pact underwhich OPEC agreed to cut its total oil output ceiling by 7.25pct and return to fixed prices of around 18 dollars a barrel. Reuter\n"
     ]
    }
   ],
   "source": [
    "#article13\n",
    "with open(dir+'Assignment 3 Articles/article13.txt', 'r') as file:\n",
    "    article13 = file.read().replace('\\n', '')\n",
    "print(article13)"
   ]
  },
  {
   "cell_type": "code",
   "execution_count": 18,
   "metadata": {
    "ExecuteTime": {
     "end_time": "2019-04-25T19:41:52.194552Z",
     "start_time": "2019-04-25T19:41:52.183562Z"
    },
    "scrolled": true
   },
   "outputs": [
    {
     "name": "stdout",
     "output_type": "stream",
     "text": [
      "Saudi Arabian Oil Minister Hisham Nazerreiterated the kingdom's commitment to last December's OPECaccord to boost world oil prices and stabilise the market, theofficial Saudi Press Agency SPA said.    Asked by the agency about the recent fall in free marketoil prices, Nazer said Saudi Arabia \"is fully adhering by the... Accord and it will never sell its oil at prices below thepronounced prices under any circumstance.\"    Nazer, quoted by SPA, said recent pressure on free marketprices \"may be because of the end of the (northern hemisphere)winter season and the glut in the market.\"    Saudi Arabia was a main architect of the December accord,under which OPEC agreed to lower its total output ceiling by7.25 pct to 15.8 mln barrels per day (bpd) and return to fixedprices of around 18 dlrs a barrel.    The agreement followed a year of turmoil on oil markets,which saw prices slump briefly to under 10 dlrs a barrel inmid-1986 from about 30 dlrs in late 1985. Free market pricesare currently just over 16 dlrs.    Nazer was quoted by the SPA as saying Saudi Arabia'sadherence to the accord was shown clearly in the oil market.    He said contacts among members of OPEC showed they allwanted to stick to the accord.    In Jamaica, OPEC President Rilwanu Lukman, who is alsoNigerian Oil Minister, said the group planned to stick with thepricing agreement.    \"We are aware of the negative forces trying to manipulatethe operations of the market, but we are satisfied that thefundamentals exist for stable market conditions,\" he said.    Kuwait's Oil Minister, Sheikh Ali al-Khalifa al-Sabah, saidin remarks published in the emirate's daily Al-Qabas there wereno plans for an emergency OPEC meeting to review prices.    Traders and analysts in international oil markets estimateOPEC is producing up to one mln bpd above the 15.8 mln ceiling.    They named Kuwait and the United Arab Emirates, along withthe much smaller producer Ecuador, among those producing abovequota. Sheikh Ali denied that Kuwait was over-producing. REUTER\n"
     ]
    }
   ],
   "source": [
    "#article10\n",
    "with open(dir+'Assignment 3 Articles/article10.txt', 'r') as file:\n",
    "    article10 = file.read().replace('\\n', '')\n",
    "print(article10)"
   ]
  },
  {
   "cell_type": "markdown",
   "metadata": {},
   "source": [
    "Similar to **article16** and **article17**, **article13** and **article10** are actually the same article, where one is an edited version of the other with extra information."
   ]
  },
  {
   "cell_type": "markdown",
   "metadata": {},
   "source": [
    "At the other end of the spectrum, **article14** and **article6** are the least similar among the six pairs of similar articles with the similarity index ~8%. The two articles are shown below."
   ]
  },
  {
   "cell_type": "code",
   "execution_count": 19,
   "metadata": {
    "ExecuteTime": {
     "end_time": "2019-04-25T19:41:52.207468Z",
     "start_time": "2019-04-25T19:41:52.198780Z"
    }
   },
   "outputs": [
    {
     "name": "stdout",
     "output_type": "stream",
     "text": [
      "Kuwait's oil minister said in a newspaperinterview that there were no plans for an emergency OPECmeeting after the recent weakness in world oil prices.    Sheikh Ali al-Khalifa al-Sabah was quoted by the localdaily al-Qabas as saying that \"none of the OPEC members hasasked for such a meeting.\"    He also denied that Kuwait was pumping above its OPEC quotaof 948,000 barrels of crude daily (bpd).    Crude oil prices fell sharply last week as internationaloil traders and analysts estimated the 13-nation OPEC waspumping up to one million bpd over its self-imposed limits. Reuter\n"
     ]
    }
   ],
   "source": [
    "#article14\n",
    "with open(dir+'Assignment 3 Articles/article14.txt', 'r') as file:\n",
    "    article14 = file.read().replace('\\n', '')\n",
    "print(article14)"
   ]
  },
  {
   "cell_type": "code",
   "execution_count": 20,
   "metadata": {
    "ExecuteTime": {
     "end_time": "2019-04-25T19:41:52.216461Z",
     "start_time": "2019-04-25T19:41:52.211349Z"
    },
    "scrolled": true
   },
   "outputs": [
    {
     "name": "stdout",
     "output_type": "stream",
     "text": [
      "Kuwait\"s Oil Minister, in remarkspublished today, said there were no plans for an emergency OPECmeeting to review oil policies after recent weakness in worldoil prices.    Sheikh Ali al-Khalifa al-Sabah was quoted by the localdaily al-Qabas as saying: \"None of the OPEC members has askedfor such a meeting.\"    He denied Kuwait was pumping above its quota of 948,000barrels of crude daily (bpd) set under self-imposed productionlimits of the 13-nation organisation.    Traders and analysts in international oil markets estimateOPEC is producing up to one mln bpd above a ceiling of 15.8 mlnbpd agreed in Geneva last December.    They named Kuwait and the United Arab Emirates, along withthe much smaller producer Ecuador, among those producing abovequota. Kuwait, they said, was pumping 1.2 mln bpd.    \"This rumour is baseless. It is based on reports which saidKuwait has the ability to exceed its share. They suppose thatbecause Kuwait has the ability, it will do so,\" the ministersaid.    Sheikh Ali has said before that Kuwait had the ability toproduce up to 4.0 mln bpd.    \"If we can sell more than our quota at official prices,while some countries are suffering difficulties marketing theirshare, it means we in Kuwait are unusually clever,\" he said.    He was referring apparently to the Gulf state of qatar,which industry sources said was selling less than 180,000 bpdof its 285,000 bpd quota, because buyers were resistingofficial prices restored by OPEC last month pegged to a markerof 18 dlrs per barrel.    Prices in New York last week dropped to their lowest levelsthis year and almost three dollars below a three-month high of19 dollars a barrel.    Sheikh Ali also delivered \"a challenge to any internationaloil company that declared Kuwait sold below official prices.\"    Because it was charging its official price, of 16.67 dlrs abarrel, it had lost custom, he said but did not elaborate.    However, Kuwait had guaranteed markets for its oil becauseof its local and international refining facilities and its owndistribution network abroad, he added.    He reaffirmed that the planned meeting March 7 of OPEC\"sdifferentials committee has been postponed until the start ofApril at the request of certain of the body\"s members.    Ecuador\"s deputy energy minister Fernando Santos Alvite saidlast Wednesday his debt-burdened country wanted OPEC to assigna lower official price for its crude, and was to seek this attalks this month of opec\"s pricing committee.    Referring to pressure by oil companies on OPEC members, inapparent reference to difficulties faced by Qatar, he said: \"Weexpected such pressure. It will continue through March andApril.\" But he expected the situation would later improve. REUTER\n"
     ]
    }
   ],
   "source": [
    "#article6\n",
    "with open(dir+'Assignment 3 Articles/article6.txt', 'r') as file:\n",
    "    article6 = file.read().replace('\\n', '')\n",
    "print(article6)"
   ]
  },
  {
   "cell_type": "markdown",
   "metadata": {},
   "source": [
    "As observed above, both articles are also similar and follow the traits of the other pairs previously shown where one is an edition or a variation of the other. Both article share the same content."
   ]
  }
 ],
 "metadata": {
  "kernelspec": {
   "display_name": "Python 3",
   "language": "python",
   "name": "python3"
  },
  "language_info": {
   "codemirror_mode": {
    "name": "ipython",
    "version": 3
   },
   "file_extension": ".py",
   "mimetype": "text/x-python",
   "name": "python",
   "nbconvert_exporter": "python",
   "pygments_lexer": "ipython3",
   "version": "3.7.3"
  },
  "toc": {
   "base_numbering": 1,
   "nav_menu": {},
   "number_sections": false,
   "sideBar": false,
   "skip_h1_title": false,
   "title_cell": "Table of Contents",
   "title_sidebar": "Contents",
   "toc_cell": false,
   "toc_position": {
    "height": "580px",
    "left": "127px",
    "top": "110.305px",
    "width": "349.091px"
   },
   "toc_section_display": false,
   "toc_window_display": true
  },
  "varInspector": {
   "cols": {
    "lenName": 16,
    "lenType": 16,
    "lenVar": 40
   },
   "kernels_config": {
    "python": {
     "delete_cmd_postfix": "",
     "delete_cmd_prefix": "del ",
     "library": "var_list.py",
     "varRefreshCmd": "print(var_dic_list())"
    },
    "r": {
     "delete_cmd_postfix": ") ",
     "delete_cmd_prefix": "rm(",
     "library": "var_list.r",
     "varRefreshCmd": "cat(var_dic_list()) "
    }
   },
   "types_to_exclude": [
    "module",
    "function",
    "builtin_function_or_method",
    "instance",
    "_Feature"
   ],
   "window_display": false
  }
 },
 "nbformat": 4,
 "nbformat_minor": 1
}
