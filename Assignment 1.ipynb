{
 "cells": [
  {
   "cell_type": "markdown",
   "metadata": {},
   "source": [
    "## MSCA 32018 1 Natural Language Processing and Cognitive Computing\n",
    "\n",
    "### Assignment 1\n",
    "\n",
    "**Author: Targoon Siripanichpong**"
   ]
  },
  {
   "cell_type": "markdown",
   "metadata": {},
   "source": [
    "Use Python Regular Expressions to identify top-10 most frequent causes of failed food inspections in Chicago.  The answer must contain textual description of violations."
   ]
  },
  {
   "cell_type": "markdown",
   "metadata": {},
   "source": [
    "**Import Data**"
   ]
  },
  {
   "cell_type": "code",
   "execution_count": 3,
   "metadata": {
    "ExecuteTime": {
     "end_time": "2019-04-09T00:32:41.154119Z",
     "start_time": "2019-04-09T00:32:39.050573Z"
    }
   },
   "outputs": [],
   "source": [
    "import pandas as pd\n",
    "import re\n",
    "from collections import Counter\n",
    "\n",
    "food_inspection = pd.read_csv('../Data/Food_Inspections.csv')"
   ]
  },
  {
   "cell_type": "code",
   "execution_count": 4,
   "metadata": {
    "ExecuteTime": {
     "end_time": "2019-04-09T00:32:51.386523Z",
     "start_time": "2019-04-09T00:32:51.331206Z"
    },
    "scrolled": true
   },
   "outputs": [
    {
     "data": {
      "text/html": [
       "<div>\n",
       "<style scoped>\n",
       "    .dataframe tbody tr th:only-of-type {\n",
       "        vertical-align: middle;\n",
       "    }\n",
       "\n",
       "    .dataframe tbody tr th {\n",
       "        vertical-align: top;\n",
       "    }\n",
       "\n",
       "    .dataframe thead th {\n",
       "        text-align: right;\n",
       "    }\n",
       "</style>\n",
       "<table border=\"1\" class=\"dataframe\">\n",
       "  <thead>\n",
       "    <tr style=\"text-align: right;\">\n",
       "      <th></th>\n",
       "      <th>Inspection ID</th>\n",
       "      <th>DBA Name</th>\n",
       "      <th>AKA Name</th>\n",
       "      <th>License #</th>\n",
       "      <th>Facility Type</th>\n",
       "      <th>Risk</th>\n",
       "      <th>Address</th>\n",
       "      <th>City</th>\n",
       "      <th>State</th>\n",
       "      <th>Zip</th>\n",
       "      <th>Inspection Date</th>\n",
       "      <th>Inspection Type</th>\n",
       "      <th>Results</th>\n",
       "      <th>Violations</th>\n",
       "      <th>Latitude</th>\n",
       "      <th>Longitude</th>\n",
       "      <th>Location</th>\n",
       "    </tr>\n",
       "  </thead>\n",
       "  <tbody>\n",
       "    <tr>\n",
       "      <th>0</th>\n",
       "      <td>2282603</td>\n",
       "      <td>A. J. HUDSON'S PUBLIC HOUSE</td>\n",
       "      <td>A. J. HUDSON'S PUBLIC HOUSE</td>\n",
       "      <td>1248488.0</td>\n",
       "      <td>Restaurant</td>\n",
       "      <td>Risk 1 (High)</td>\n",
       "      <td>3801-3805 N ASHLAND AVE</td>\n",
       "      <td>CHICAGO</td>\n",
       "      <td>IL</td>\n",
       "      <td>60613.0</td>\n",
       "      <td>04/04/2019</td>\n",
       "      <td>Complaint Re-Inspection</td>\n",
       "      <td>Pass w/ Conditions</td>\n",
       "      <td>25. CONSUMER ADVISORY PROVIDED FOR RAW/UNDERCO...</td>\n",
       "      <td>41.950735</td>\n",
       "      <td>-87.668813</td>\n",
       "      <td>(41.950735168842144, -87.66881290118066)</td>\n",
       "    </tr>\n",
       "    <tr>\n",
       "      <th>1</th>\n",
       "      <td>2282582</td>\n",
       "      <td>CHILDREN'S LEARNING PLACE</td>\n",
       "      <td>CHILDREN'S LEARNING PLACE</td>\n",
       "      <td>2369232.0</td>\n",
       "      <td>Children's Services Facility</td>\n",
       "      <td>Risk 1 (High)</td>\n",
       "      <td>3532 N HALSTED ST</td>\n",
       "      <td>CHICAGO</td>\n",
       "      <td>IL</td>\n",
       "      <td>60657.0</td>\n",
       "      <td>04/04/2019</td>\n",
       "      <td>License</td>\n",
       "      <td>Fail</td>\n",
       "      <td>1. PERSON IN CHARGE PRESENT, DEMONSTRATES KNOW...</td>\n",
       "      <td>41.946415</td>\n",
       "      <td>-87.649605</td>\n",
       "      <td>(41.94641497610327, -87.64960508860683)</td>\n",
       "    </tr>\n",
       "    <tr>\n",
       "      <th>2</th>\n",
       "      <td>2282567</td>\n",
       "      <td>NEW YORK HALAL PIZZA</td>\n",
       "      <td>NEW YORK HALAL PIZZA</td>\n",
       "      <td>2506788.0</td>\n",
       "      <td>Restaurant</td>\n",
       "      <td>Risk 1 (High)</td>\n",
       "      <td>2262 W DEVON AVE</td>\n",
       "      <td>CHICAGO</td>\n",
       "      <td>IL</td>\n",
       "      <td>60659.0</td>\n",
       "      <td>04/04/2019</td>\n",
       "      <td>Canvass</td>\n",
       "      <td>Pass</td>\n",
       "      <td>47. FOOD &amp; NON-FOOD CONTACT SURFACES CLEANABLE...</td>\n",
       "      <td>41.997883</td>\n",
       "      <td>-87.687389</td>\n",
       "      <td>(41.99788329809707, -87.68738928391146)</td>\n",
       "    </tr>\n",
       "    <tr>\n",
       "      <th>3</th>\n",
       "      <td>2282558</td>\n",
       "      <td>WEE CARE DAYCARE PRESCHOOL</td>\n",
       "      <td>WEE CARE DAYCARE PRESCHOOL</td>\n",
       "      <td>2215552.0</td>\n",
       "      <td>Children's Services Facility</td>\n",
       "      <td>Risk 1 (High)</td>\n",
       "      <td>2816 N PINE GROVE AVE</td>\n",
       "      <td>CHICAGO</td>\n",
       "      <td>IL</td>\n",
       "      <td>60657.0</td>\n",
       "      <td>04/04/2019</td>\n",
       "      <td>License</td>\n",
       "      <td>Pass</td>\n",
       "      <td>NaN</td>\n",
       "      <td>41.933388</td>\n",
       "      <td>-87.641509</td>\n",
       "      <td>(41.933388339085965, -87.6415090848372)</td>\n",
       "    </tr>\n",
       "    <tr>\n",
       "      <th>4</th>\n",
       "      <td>2282535</td>\n",
       "      <td>PHILLYS ORIGINAL</td>\n",
       "      <td>PHILLY'S ORIGINAL</td>\n",
       "      <td>2304565.0</td>\n",
       "      <td>Restaurant</td>\n",
       "      <td>Risk 2 (Medium)</td>\n",
       "      <td>8245 S KEDZIE AVE</td>\n",
       "      <td>CHICAGO</td>\n",
       "      <td>IL</td>\n",
       "      <td>60652.0</td>\n",
       "      <td>04/03/2019</td>\n",
       "      <td>Canvass Re-Inspection</td>\n",
       "      <td>Pass w/ Conditions</td>\n",
       "      <td>5. PROCEDURES FOR RESPONDING TO VOMITING AND D...</td>\n",
       "      <td>41.742985</td>\n",
       "      <td>-87.702064</td>\n",
       "      <td>(41.74298525218482, -87.70206428481328)</td>\n",
       "    </tr>\n",
       "  </tbody>\n",
       "</table>\n",
       "</div>"
      ],
      "text/plain": [
       "   Inspection ID                     DBA Name                     AKA Name  \\\n",
       "0        2282603  A. J. HUDSON'S PUBLIC HOUSE  A. J. HUDSON'S PUBLIC HOUSE   \n",
       "1        2282582    CHILDREN'S LEARNING PLACE    CHILDREN'S LEARNING PLACE   \n",
       "2        2282567         NEW YORK HALAL PIZZA         NEW YORK HALAL PIZZA   \n",
       "3        2282558   WEE CARE DAYCARE PRESCHOOL   WEE CARE DAYCARE PRESCHOOL   \n",
       "4        2282535             PHILLYS ORIGINAL            PHILLY'S ORIGINAL   \n",
       "\n",
       "   License #                 Facility Type             Risk  \\\n",
       "0  1248488.0                    Restaurant    Risk 1 (High)   \n",
       "1  2369232.0  Children's Services Facility    Risk 1 (High)   \n",
       "2  2506788.0                    Restaurant    Risk 1 (High)   \n",
       "3  2215552.0  Children's Services Facility    Risk 1 (High)   \n",
       "4  2304565.0                    Restaurant  Risk 2 (Medium)   \n",
       "\n",
       "                    Address     City State      Zip Inspection Date  \\\n",
       "0  3801-3805 N ASHLAND AVE   CHICAGO    IL  60613.0      04/04/2019   \n",
       "1        3532 N HALSTED ST   CHICAGO    IL  60657.0      04/04/2019   \n",
       "2         2262 W DEVON AVE   CHICAGO    IL  60659.0      04/04/2019   \n",
       "3    2816 N PINE GROVE AVE   CHICAGO    IL  60657.0      04/04/2019   \n",
       "4        8245 S KEDZIE AVE   CHICAGO    IL  60652.0      04/03/2019   \n",
       "\n",
       "           Inspection Type             Results  \\\n",
       "0  Complaint Re-Inspection  Pass w/ Conditions   \n",
       "1                  License                Fail   \n",
       "2                  Canvass                Pass   \n",
       "3                  License                Pass   \n",
       "4    Canvass Re-Inspection  Pass w/ Conditions   \n",
       "\n",
       "                                          Violations   Latitude  Longitude  \\\n",
       "0  25. CONSUMER ADVISORY PROVIDED FOR RAW/UNDERCO...  41.950735 -87.668813   \n",
       "1  1. PERSON IN CHARGE PRESENT, DEMONSTRATES KNOW...  41.946415 -87.649605   \n",
       "2  47. FOOD & NON-FOOD CONTACT SURFACES CLEANABLE...  41.997883 -87.687389   \n",
       "3                                                NaN  41.933388 -87.641509   \n",
       "4  5. PROCEDURES FOR RESPONDING TO VOMITING AND D...  41.742985 -87.702064   \n",
       "\n",
       "                                   Location  \n",
       "0  (41.950735168842144, -87.66881290118066)  \n",
       "1   (41.94641497610327, -87.64960508860683)  \n",
       "2   (41.99788329809707, -87.68738928391146)  \n",
       "3   (41.933388339085965, -87.6415090848372)  \n",
       "4   (41.74298525218482, -87.70206428481328)  "
      ]
     },
     "execution_count": 4,
     "metadata": {},
     "output_type": "execute_result"
    }
   ],
   "source": [
    "food_inspection.head()"
   ]
  },
  {
   "cell_type": "markdown",
   "metadata": {
    "ExecuteTime": {
     "end_time": "2019-04-09T00:35:45.904310Z",
     "start_time": "2019-04-09T00:35:45.894430Z"
    }
   },
   "source": [
    "**Extract Failed Inspections**"
   ]
  },
  {
   "cell_type": "code",
   "execution_count": 10,
   "metadata": {
    "ExecuteTime": {
     "end_time": "2019-04-09T00:33:30.461173Z",
     "start_time": "2019-04-09T00:33:30.364667Z"
    }
   },
   "outputs": [],
   "source": [
    "food_inspection_failed = food_inspection[food_inspection['Results'] == 'Fail']"
   ]
  },
  {
   "cell_type": "code",
   "execution_count": 11,
   "metadata": {
    "ExecuteTime": {
     "end_time": "2019-04-09T00:33:31.751253Z",
     "start_time": "2019-04-09T00:33:31.720747Z"
    }
   },
   "outputs": [
    {
     "name": "stdout",
     "output_type": "stream",
     "text": [
      "35691 32634\n"
     ]
    }
   ],
   "source": [
    "print(len(food_inspection_failed), len(food_inspection_failed['Violations'].unique()))"
   ]
  },
  {
   "cell_type": "code",
   "execution_count": 12,
   "metadata": {
    "ExecuteTime": {
     "end_time": "2019-04-09T00:33:33.382677Z",
     "start_time": "2019-04-09T00:33:33.287963Z"
    }
   },
   "outputs": [
    {
     "name": "stderr",
     "output_type": "stream",
     "text": [
      "/home/targoon/.local/lib/python3.6/site-packages/ipykernel_launcher.py:1: SettingWithCopyWarning: \n",
      "A value is trying to be set on a copy of a slice from a DataFrame\n",
      "\n",
      "See the caveats in the documentation: http://pandas.pydata.org/pandas-docs/stable/indexing.html#indexing-view-versus-copy\n",
      "  \"\"\"Entry point for launching an IPython kernel.\n"
     ]
    }
   ],
   "source": [
    "# Drop NaNs and reset index\n",
    "food_inspection_failed.dropna(subset=['Violations'], how='all', inplace = True)\n",
    "food_inspection_failed.reset_index(inplace=True)"
   ]
  },
  {
   "cell_type": "code",
   "execution_count": 13,
   "metadata": {
    "ExecuteTime": {
     "end_time": "2019-04-09T00:33:43.671973Z",
     "start_time": "2019-04-09T00:33:43.665843Z"
    }
   },
   "outputs": [
    {
     "data": {
      "text/plain": [
       "32682"
      ]
     },
     "execution_count": 13,
     "metadata": {},
     "output_type": "execute_result"
    }
   ],
   "source": [
    "len(food_inspection_failed)"
   ]
  },
  {
   "cell_type": "code",
   "execution_count": 14,
   "metadata": {
    "ExecuteTime": {
     "end_time": "2019-04-09T00:33:45.445507Z",
     "start_time": "2019-04-09T00:33:45.419859Z"
    },
    "scrolled": true
   },
   "outputs": [
    {
     "data": {
      "text/html": [
       "<div>\n",
       "<style scoped>\n",
       "    .dataframe tbody tr th:only-of-type {\n",
       "        vertical-align: middle;\n",
       "    }\n",
       "\n",
       "    .dataframe tbody tr th {\n",
       "        vertical-align: top;\n",
       "    }\n",
       "\n",
       "    .dataframe thead th {\n",
       "        text-align: right;\n",
       "    }\n",
       "</style>\n",
       "<table border=\"1\" class=\"dataframe\">\n",
       "  <thead>\n",
       "    <tr style=\"text-align: right;\">\n",
       "      <th></th>\n",
       "      <th>index</th>\n",
       "      <th>Inspection ID</th>\n",
       "      <th>DBA Name</th>\n",
       "      <th>AKA Name</th>\n",
       "      <th>License #</th>\n",
       "      <th>Facility Type</th>\n",
       "      <th>Risk</th>\n",
       "      <th>Address</th>\n",
       "      <th>City</th>\n",
       "      <th>State</th>\n",
       "      <th>Zip</th>\n",
       "      <th>Inspection Date</th>\n",
       "      <th>Inspection Type</th>\n",
       "      <th>Results</th>\n",
       "      <th>Violations</th>\n",
       "      <th>Latitude</th>\n",
       "      <th>Longitude</th>\n",
       "      <th>Location</th>\n",
       "    </tr>\n",
       "  </thead>\n",
       "  <tbody>\n",
       "    <tr>\n",
       "      <th>0</th>\n",
       "      <td>1</td>\n",
       "      <td>2282582</td>\n",
       "      <td>CHILDREN'S LEARNING PLACE</td>\n",
       "      <td>CHILDREN'S LEARNING PLACE</td>\n",
       "      <td>2369232.0</td>\n",
       "      <td>Children's Services Facility</td>\n",
       "      <td>Risk 1 (High)</td>\n",
       "      <td>3532 N HALSTED ST</td>\n",
       "      <td>CHICAGO</td>\n",
       "      <td>IL</td>\n",
       "      <td>60657.0</td>\n",
       "      <td>04/04/2019</td>\n",
       "      <td>License</td>\n",
       "      <td>Fail</td>\n",
       "      <td>1. PERSON IN CHARGE PRESENT, DEMONSTRATES KNOW...</td>\n",
       "      <td>41.946415</td>\n",
       "      <td>-87.649605</td>\n",
       "      <td>(41.94641497610327, -87.64960508860683)</td>\n",
       "    </tr>\n",
       "    <tr>\n",
       "      <th>1</th>\n",
       "      <td>10</td>\n",
       "      <td>2282538</td>\n",
       "      <td>BRYN MAWR &amp; KEDZIE BP</td>\n",
       "      <td>CITGO</td>\n",
       "      <td>2555777.0</td>\n",
       "      <td>Grocery Store</td>\n",
       "      <td>Risk 3 (Low)</td>\n",
       "      <td>5547 N KEDZIE AVE</td>\n",
       "      <td>CHICAGO</td>\n",
       "      <td>IL</td>\n",
       "      <td>60625.0</td>\n",
       "      <td>04/03/2019</td>\n",
       "      <td>Complaint</td>\n",
       "      <td>Fail</td>\n",
       "      <td>5. PROCEDURES FOR RESPONDING TO VOMITING AND D...</td>\n",
       "      <td>41.982644</td>\n",
       "      <td>-87.708704</td>\n",
       "      <td>(41.98264400519765, -87.70870371243366)</td>\n",
       "    </tr>\n",
       "    <tr>\n",
       "      <th>2</th>\n",
       "      <td>11</td>\n",
       "      <td>2282530</td>\n",
       "      <td>TWO MILE COFFEE BAR</td>\n",
       "      <td>TWO MILE COFEE BAR</td>\n",
       "      <td>2641611.0</td>\n",
       "      <td>Restaurant</td>\n",
       "      <td>Risk 2 (Medium)</td>\n",
       "      <td>1766 W 95TH ST</td>\n",
       "      <td>CHICAGO</td>\n",
       "      <td>IL</td>\n",
       "      <td>60643.0</td>\n",
       "      <td>04/03/2019</td>\n",
       "      <td>License</td>\n",
       "      <td>Fail</td>\n",
       "      <td>3. MANAGEMENT, FOOD EMPLOYEE AND CONDITIONAL E...</td>\n",
       "      <td>41.721260</td>\n",
       "      <td>-87.667257</td>\n",
       "      <td>(41.72126016238349, -87.66725709711507)</td>\n",
       "    </tr>\n",
       "    <tr>\n",
       "      <th>3</th>\n",
       "      <td>27</td>\n",
       "      <td>2282494</td>\n",
       "      <td>CALABRIA IMPORTS, INC.</td>\n",
       "      <td>CALABRIA IMPORTS, INC.</td>\n",
       "      <td>1357606.0</td>\n",
       "      <td>Restaurant</td>\n",
       "      <td>Risk 1 (High)</td>\n",
       "      <td>1905 W 103RD ST</td>\n",
       "      <td>CHICAGO</td>\n",
       "      <td>IL</td>\n",
       "      <td>60643.0</td>\n",
       "      <td>04/03/2019</td>\n",
       "      <td>Canvass</td>\n",
       "      <td>Fail</td>\n",
       "      <td>2. CITY OF CHICAGO FOOD SERVICE SANITATION CER...</td>\n",
       "      <td>41.706473</td>\n",
       "      <td>-87.669355</td>\n",
       "      <td>(41.70647332453693, -87.66935498846195)</td>\n",
       "    </tr>\n",
       "    <tr>\n",
       "      <th>4</th>\n",
       "      <td>35</td>\n",
       "      <td>2282465</td>\n",
       "      <td>BURGER KING #2654</td>\n",
       "      <td>BURGER KING #2654</td>\n",
       "      <td>2368742.0</td>\n",
       "      <td>Restaurant</td>\n",
       "      <td>Risk 2 (Medium)</td>\n",
       "      <td>2449 W LAWRENCE AVE</td>\n",
       "      <td>CHICAGO</td>\n",
       "      <td>IL</td>\n",
       "      <td>60625.0</td>\n",
       "      <td>04/03/2019</td>\n",
       "      <td>Complaint</td>\n",
       "      <td>Fail</td>\n",
       "      <td>3. MANAGEMENT, FOOD EMPLOYEE AND CONDITIONAL E...</td>\n",
       "      <td>41.968487</td>\n",
       "      <td>-87.690846</td>\n",
       "      <td>(41.968486523199196, -87.69084635820667)</td>\n",
       "    </tr>\n",
       "  </tbody>\n",
       "</table>\n",
       "</div>"
      ],
      "text/plain": [
       "   index  Inspection ID                   DBA Name                   AKA Name  \\\n",
       "0      1        2282582  CHILDREN'S LEARNING PLACE  CHILDREN'S LEARNING PLACE   \n",
       "1     10        2282538      BRYN MAWR & KEDZIE BP                      CITGO   \n",
       "2     11        2282530        TWO MILE COFFEE BAR         TWO MILE COFEE BAR   \n",
       "3     27        2282494     CALABRIA IMPORTS, INC.     CALABRIA IMPORTS, INC.   \n",
       "4     35        2282465          BURGER KING #2654          BURGER KING #2654   \n",
       "\n",
       "   License #                 Facility Type             Risk  \\\n",
       "0  2369232.0  Children's Services Facility    Risk 1 (High)   \n",
       "1  2555777.0                 Grocery Store     Risk 3 (Low)   \n",
       "2  2641611.0                    Restaurant  Risk 2 (Medium)   \n",
       "3  1357606.0                    Restaurant    Risk 1 (High)   \n",
       "4  2368742.0                    Restaurant  Risk 2 (Medium)   \n",
       "\n",
       "                Address     City State      Zip Inspection Date  \\\n",
       "0    3532 N HALSTED ST   CHICAGO    IL  60657.0      04/04/2019   \n",
       "1    5547 N KEDZIE AVE   CHICAGO    IL  60625.0      04/03/2019   \n",
       "2       1766 W 95TH ST   CHICAGO    IL  60643.0      04/03/2019   \n",
       "3      1905 W 103RD ST   CHICAGO    IL  60643.0      04/03/2019   \n",
       "4  2449 W LAWRENCE AVE   CHICAGO    IL  60625.0      04/03/2019   \n",
       "\n",
       "  Inspection Type Results                                         Violations  \\\n",
       "0         License    Fail  1. PERSON IN CHARGE PRESENT, DEMONSTRATES KNOW...   \n",
       "1       Complaint    Fail  5. PROCEDURES FOR RESPONDING TO VOMITING AND D...   \n",
       "2         License    Fail  3. MANAGEMENT, FOOD EMPLOYEE AND CONDITIONAL E...   \n",
       "3         Canvass    Fail  2. CITY OF CHICAGO FOOD SERVICE SANITATION CER...   \n",
       "4       Complaint    Fail  3. MANAGEMENT, FOOD EMPLOYEE AND CONDITIONAL E...   \n",
       "\n",
       "    Latitude  Longitude                                  Location  \n",
       "0  41.946415 -87.649605   (41.94641497610327, -87.64960508860683)  \n",
       "1  41.982644 -87.708704   (41.98264400519765, -87.70870371243366)  \n",
       "2  41.721260 -87.667257   (41.72126016238349, -87.66725709711507)  \n",
       "3  41.706473 -87.669355   (41.70647332453693, -87.66935498846195)  \n",
       "4  41.968487 -87.690846  (41.968486523199196, -87.69084635820667)  "
      ]
     },
     "execution_count": 14,
     "metadata": {},
     "output_type": "execute_result"
    }
   ],
   "source": [
    "food_inspection_failed.head()"
   ]
  },
  {
   "cell_type": "code",
   "execution_count": 15,
   "metadata": {
    "ExecuteTime": {
     "end_time": "2019-04-09T00:33:53.559291Z",
     "start_time": "2019-04-09T00:33:53.550275Z"
    },
    "scrolled": false
   },
   "outputs": [
    {
     "name": "stdout",
     "output_type": "stream",
     "text": [
      "1. PERSON IN CHARGE PRESENT, DEMONSTRATES KNOWLEDGE, AND PERFORMS DUTIES - Comments: NO PERSON IN CHARGE PRESENT AT THE TIME OF INSPECTION. PRIORITY FOUNDATION VIOLATION. NO CITATION ISSUED. | 3. MANAGEMENT, FOOD EMPLOYEE AND CONDITIONAL EMPLOYEE; KNOWLEDGE, RESPONSIBILITIES AND REPORTING - Comments: NOTED NO EMPLOYEE HEALTH POLICY ON SITE AT THE TIME OF INSPECTION FOLLOWING THE NEW CODE AND GUIDELINES. INSTRUCTED TO HAVE VERIFICATION OF POLICY FOR EACH EMPLOYEE ONE ON SITE AT ALL TIMES. PRIORITY FOUNDATION #7-38-010. NO CITATION ISSUED TODAY | 5. PROCEDURES FOR RESPONDING TO VOMITING AND DIARRHEAL EVENTS - Comments: 2-501.11 MANAGEMENT UNABLE TO PROVIDE A PROCEDURE FOR CLEANING UP VOMITING AND DIARRHEA.INSTRUCTED TO HAVE ONE. PRIORITY FOUNDATION #7-38-005. NO CITATION ISSUED - | 50. HOT & COLD WATER AVAILABLE; ADEQUATE PRESSURE - Comments: NOTED NO HOT RUNNING WATER AT THE KITCHEN PREP AREA HAND WASH SINK AND 3 COMPARTMENT SINK AND EMPLOYEE BATHROOMS HAND WASH SINK AND ONE OF 3 HAND WASH SINKS AT THE BOYS BATHROOM. TEMPERATURE OF WATER WAS AS FOLLOWS:-KITCHEN HAND WASH SINK 80.3F, 3 COMPARTMENT SINK WAS 85.2F, NO HOT OR COLD RUNNING WATER AT THE HAND WASH SINK OF THE BOYS BATHROOM (BAD SENSOR) AND EMPLOYEE BATHROOMS 81.3F AND 45F. MANAGER IMMEDIATELY CALLED FOR REPAIRS. PRIORITY VIOLATION #7-38-030(C)\n"
     ]
    }
   ],
   "source": [
    "print(food_inspection_failed['Violations'][0])"
   ]
  },
  {
   "cell_type": "markdown",
   "metadata": {},
   "source": [
    "**Split violations to list**"
   ]
  },
  {
   "cell_type": "code",
   "execution_count": 16,
   "metadata": {
    "ExecuteTime": {
     "end_time": "2019-04-09T00:33:56.520391Z",
     "start_time": "2019-04-09T00:33:56.089593Z"
    }
   },
   "outputs": [
    {
     "name": "stderr",
     "output_type": "stream",
     "text": [
      "/home/targoon/.local/lib/python3.6/site-packages/ipykernel_launcher.py:4: SettingWithCopyWarning: \n",
      "A value is trying to be set on a copy of a slice from a DataFrame.\n",
      "Try using .loc[row_indexer,col_indexer] = value instead\n",
      "\n",
      "See the caveats in the documentation: http://pandas.pydata.org/pandas-docs/stable/indexing.html#indexing-view-versus-copy\n",
      "  after removing the cwd from sys.path.\n"
     ]
    }
   ],
   "source": [
    "#Split by \"|\"\n",
    "split_term = ' \\| '\n",
    "\n",
    "food_inspection_failed['Violation_List'] = [re.split(split_term, violations) for violations in food_inspection_failed['Violations']]"
   ]
  },
  {
   "cell_type": "code",
   "execution_count": 17,
   "metadata": {
    "ExecuteTime": {
     "end_time": "2019-04-09T00:34:39.690398Z",
     "start_time": "2019-04-09T00:34:39.667638Z"
    }
   },
   "outputs": [],
   "source": [
    "#Flatten the list\n",
    "Violation_List = []\n",
    "for violations in food_inspection_failed['Violation_List']:\n",
    "    Violation_List += violations "
   ]
  },
  {
   "cell_type": "code",
   "execution_count": 18,
   "metadata": {
    "ExecuteTime": {
     "end_time": "2019-04-09T00:34:41.545017Z",
     "start_time": "2019-04-09T00:34:41.533109Z"
    }
   },
   "outputs": [
    {
     "data": {
      "text/plain": [
       "201298"
      ]
     },
     "execution_count": 18,
     "metadata": {},
     "output_type": "execute_result"
    }
   ],
   "source": [
    "len(Violation_List)"
   ]
  },
  {
   "cell_type": "code",
   "execution_count": 19,
   "metadata": {
    "ExecuteTime": {
     "end_time": "2019-04-09T00:34:43.845479Z",
     "start_time": "2019-04-09T00:34:43.581058Z"
    },
    "scrolled": true
   },
   "outputs": [
    {
     "data": {
      "text/plain": [
       "[('40. REFRIGERATION AND METAL STEM THERMOMETERS PROVIDED AND CONSPICUOUS - Comments: All food establishments that display, prepare, or store potentially hazardous foods shall have calibrated metal stem thermometers, provided and conspicuous, for refrigerated and hot food units.',\n",
       "  85),\n",
       " ('30. FOOD IN ORIGINAL CONTAINER, PROPERLY LABELED: CUSTOMER ADVISORY POSTED AS NEEDED - Comments: MUST LABEL FOOD STORAGE CONTAINERS WHEN FOOD IS NOT IN ORIGINAL PACKAGE.',\n",
       "  83),\n",
       " ('42. APPROPRIATE METHOD OF HANDLING OF FOOD (ICE) HAIR RESTRAINTS AND CLEAN APPAREL WORN - Comments: ALL FOOD HANDLERS MUST WEAR HAIR RESTRAINTS.',\n",
       "  81),\n",
       " ('43. FOOD (ICE) DISPENSING UTENSILS, WASH CLOTHS PROPERLY STORED - Comments: STORE WASH CLOTHS IN SANITIZING SOLUTION.',\n",
       "  73),\n",
       " ('30. FOOD IN ORIGINAL CONTAINER, PROPERLY LABELED: CUSTOMER ADVISORY POSTED AS NEEDED - Comments: ALL BULK FOOD CONTAINERS MUST BE LABELED.',\n",
       "  60),\n",
       " ('40. REFRIGERATION AND METAL STEM THERMOMETERS PROVIDED AND CONSPICUOUS - Comments: PROVIDE THERMOMETERS IN ALL COOLERS.',\n",
       "  52),\n",
       " ('40. REFRIGERATION AND METAL STEM THERMOMETERS PROVIDED AND CONSPICUOUS - Comments: INSTRUCTED TO PROVIDE THERMOMETER VISIBLE AND ACCURATE INSIDE ALL COOLERS.',\n",
       "  48),\n",
       " ('31. CLEAN MULTI-USE UTENSILS AND SINGLE SERVICE ARTICLES PROPERLY STORED: NO REUSE OF SINGLE SERVICE ARTICLES - Comments: Containers and utensils shall be inverted, covered, or otherwise protected from contamination until used.  All single-service drinking straws and containers shall be discarded immediately after use.',\n",
       "  48),\n",
       " ('45. FOOD HANDLER REQUIREMENTS MET - Comments: ALL FOOD HANDLING EMPLOYEES MUST SHOW PROOF OF FOOD HANDLER TRAINING.  MUST PROVIDE.',\n",
       "  47),\n",
       " ('35. WALLS, CEILINGS, ATTACHED EQUIPMENT CONSTRUCTED PER CODE: GOOD REPAIR, SURFACES CLEAN AND DUST-LESS CLEANING METHODS - Comments: SEE VIOLATION #29.',\n",
       "  44)]"
      ]
     },
     "execution_count": 19,
     "metadata": {},
     "output_type": "execute_result"
    }
   ],
   "source": [
    "Counter(Violation_List).most_common(10)"
   ]
  },
  {
   "cell_type": "code",
   "execution_count": 21,
   "metadata": {
    "ExecuteTime": {
     "end_time": "2019-04-09T00:38:53.655002Z",
     "start_time": "2019-04-09T00:38:53.230662Z"
    }
   },
   "outputs": [],
   "source": [
    "#Remove the Comment Section\n",
    "split_term = ' - Comments:'\n",
    "Violation_List = [re.split(split_term, violation)[0] for violation in Violation_List]"
   ]
  },
  {
   "cell_type": "code",
   "execution_count": 22,
   "metadata": {
    "ExecuteTime": {
     "end_time": "2019-04-09T00:38:55.201440Z",
     "start_time": "2019-04-09T00:38:55.145855Z"
    }
   },
   "outputs": [
    {
     "data": {
      "text/plain": [
       "[('34. FLOORS: CONSTRUCTED PER CODE, CLEANED, GOOD REPAIR, COVING INSTALLED, DUST-LESS CLEANING METHODS USED',\n",
       "  19370),\n",
       " ('35. WALLS, CEILINGS, ATTACHED EQUIPMENT CONSTRUCTED PER CODE: GOOD REPAIR, SURFACES CLEAN AND DUST-LESS CLEANING METHODS',\n",
       "  18256),\n",
       " ('33. FOOD AND NON-FOOD CONTACT EQUIPMENT UTENSILS CLEAN, FREE OF ABRASIVE DETERGENTS',\n",
       "  16446),\n",
       " ('18. NO EVIDENCE OF RODENT OR INSECT OUTER OPENINGS PROTECTED/RODENT PROOFED, A WRITTEN LOG SHALL BE MAINTAINED AVAILABLE TO THE INSPECTORS',\n",
       "  16432),\n",
       " ('38. VENTILATION: ROOMS AND EQUIPMENT VENTED AS REQUIRED: PLUMBING: INSTALLED AND MAINTAINED',\n",
       "  15528),\n",
       " ('32. FOOD AND NON-FOOD CONTACT SURFACES PROPERLY DESIGNED, CONSTRUCTED AND MAINTAINED',\n",
       "  15018),\n",
       " ('41. PREMISES MAINTAINED FREE OF LITTER, UNNECESSARY ARTICLES, CLEANING  EQUIPMENT PROPERLY STORED',\n",
       "  10666),\n",
       " ('36. LIGHTING: REQUIRED MINIMUM FOOT-CANDLES OF LIGHT PROVIDED, FIXTURES SHIELDED',\n",
       "  7736),\n",
       " ('29. PREVIOUS MINOR VIOLATION(S) CORRECTED 7-42-090', 5548),\n",
       " ('40. REFRIGERATION AND METAL STEM THERMOMETERS PROVIDED AND CONSPICUOUS',\n",
       "  4627)]"
      ]
     },
     "execution_count": 22,
     "metadata": {},
     "output_type": "execute_result"
    }
   ],
   "source": [
    "Counter(Violation_List).most_common(10)"
   ]
  }
 ],
 "metadata": {
  "kernelspec": {
   "display_name": "Python 3",
   "language": "python",
   "name": "python3"
  },
  "language_info": {
   "codemirror_mode": {
    "name": "ipython",
    "version": 3
   },
   "file_extension": ".py",
   "mimetype": "text/x-python",
   "name": "python",
   "nbconvert_exporter": "python",
   "pygments_lexer": "ipython3",
   "version": "3.7.3"
  },
  "toc": {
   "base_numbering": 1,
   "nav_menu": {},
   "number_sections": false,
   "sideBar": true,
   "skip_h1_title": false,
   "title_cell": "Table of Contents",
   "title_sidebar": "Contents",
   "toc_cell": false,
   "toc_position": {},
   "toc_section_display": true,
   "toc_window_display": true
  },
  "varInspector": {
   "cols": {
    "lenName": 16,
    "lenType": 16,
    "lenVar": 40
   },
   "kernels_config": {
    "python": {
     "delete_cmd_postfix": "",
     "delete_cmd_prefix": "del ",
     "library": "var_list.py",
     "varRefreshCmd": "print(var_dic_list())"
    },
    "r": {
     "delete_cmd_postfix": ") ",
     "delete_cmd_prefix": "rm(",
     "library": "var_list.r",
     "varRefreshCmd": "cat(var_dic_list()) "
    }
   },
   "types_to_exclude": [
    "module",
    "function",
    "builtin_function_or_method",
    "instance",
    "_Feature"
   ],
   "window_display": false
  }
 },
 "nbformat": 4,
 "nbformat_minor": 2
}
