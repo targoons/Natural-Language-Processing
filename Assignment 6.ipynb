{
 "cells": [
  {
   "cell_type": "markdown",
   "metadata": {},
   "source": [
    "## MSCA 32018 1 Natural Language Processing and Cognitive Computing\n",
    "\n",
    "### Assignment 6\n",
    "\n",
    "**Author: Targoon Siripanichpong**"
   ]
  },
  {
   "cell_type": "markdown",
   "metadata": {},
   "source": [
    "You have been provided with a pickle file, containing 100 news articles about some company.  Use appropriate topic modeling technique to identify top N most important topics.\n",
    "\n",
    "* read_pickle(directory+news_03.pkl')\n",
    "* Present top N most important topics in these news articles\n",
    "* Select N to identify relevant topics, but minimize duplication\n",
    "* Explain how you selected N\n",
    "\n",
    "\n",
    "Rules and requirements:\n",
    "\n",
    "Your final output and the code should be contained within Jupyter Notebook (ipynb)"
   ]
  },
  {
   "cell_type": "markdown",
   "metadata": {},
   "source": [
    "#### Import Data"
   ]
  },
  {
   "cell_type": "code",
   "execution_count": 1,
   "metadata": {
    "ExecuteTime": {
     "end_time": "2019-05-17T00:56:32.851169Z",
     "start_time": "2019-05-17T00:56:32.843405Z"
    }
   },
   "outputs": [],
   "source": [
    "import pickle"
   ]
  },
  {
   "cell_type": "code",
   "execution_count": 2,
   "metadata": {
    "ExecuteTime": {
     "end_time": "2019-05-17T00:56:33.195409Z",
     "start_time": "2019-05-17T00:56:32.865046Z"
    }
   },
   "outputs": [],
   "source": [
    "cat_news = pickle.load( open( \"../Data/webhose_cat.pkl\", \"rb\" ) )"
   ]
  },
  {
   "cell_type": "code",
   "execution_count": 3,
   "metadata": {
    "ExecuteTime": {
     "end_time": "2019-05-17T00:56:33.283683Z",
     "start_time": "2019-05-17T00:56:33.198579Z"
    },
    "scrolled": true
   },
   "outputs": [
    {
     "data": {
      "text/plain": [
       "pandas.core.frame.DataFrame"
      ]
     },
     "execution_count": 3,
     "metadata": {},
     "output_type": "execute_result"
    }
   ],
   "source": [
    "type(cat_news)"
   ]
  },
  {
   "cell_type": "code",
   "execution_count": 4,
   "metadata": {
    "ExecuteTime": {
     "end_time": "2019-05-17T00:56:33.330830Z",
     "start_time": "2019-05-17T00:56:33.292885Z"
    },
    "scrolled": true
   },
   "outputs": [
    {
     "data": {
      "text/html": [
       "<div>\n",
       "<style scoped>\n",
       "    .dataframe tbody tr th:only-of-type {\n",
       "        vertical-align: middle;\n",
       "    }\n",
       "\n",
       "    .dataframe tbody tr th {\n",
       "        vertical-align: top;\n",
       "    }\n",
       "\n",
       "    .dataframe thead th {\n",
       "        text-align: right;\n",
       "    }\n",
       "</style>\n",
       "<table border=\"1\" class=\"dataframe\">\n",
       "  <thead>\n",
       "    <tr style=\"text-align: right;\">\n",
       "      <th></th>\n",
       "      <th>crawled</th>\n",
       "      <th>language</th>\n",
       "      <th>text</th>\n",
       "      <th>title</th>\n",
       "      <th>url</th>\n",
       "    </tr>\n",
       "  </thead>\n",
       "  <tbody>\n",
       "    <tr>\n",
       "      <th>0</th>\n",
       "      <td>2018-01-30T18:28:45.012+02:00</td>\n",
       "      <td>english</td>\n",
       "      <td>Avery Dennison's (AVY) Q4 results are likely t...</td>\n",
       "      <td>IRobot downgraded to neutral from buy at Sidot...</td>\n",
       "      <td>http://omgili.com/ri/.wHSUbtEfZQRfU.5KUm1RkeXy...</td>\n",
       "    </tr>\n",
       "    <tr>\n",
       "      <th>1</th>\n",
       "      <td>2018-01-30T18:29:07.001+02:00</td>\n",
       "      <td>french</td>\n",
       "      <td>1m95, c’est trop grand. Et sa stature, Bertran...</td>\n",
       "      <td>\"Bertrand Zibi Abeghe, encore prisonnier, et t...</td>\n",
       "      <td>http://omgili.com/ri/.wHSUbtEfZTpzFtnXyQJIwJ.j...</td>\n",
       "    </tr>\n",
       "    <tr>\n",
       "      <th>2</th>\n",
       "      <td>2018-01-30T18:29:40.000+02:00</td>\n",
       "      <td>english</td>\n",
       "      <td>Tuggers and Topper Industrial Carts Help Trans...</td>\n",
       "      <td>Tuggers and Topper Industrial Carts Help Trans...</td>\n",
       "      <td>http://omgili.com/ri/jHIAmI4hxg.zDiulpymXqU_n4...</td>\n",
       "    </tr>\n",
       "    <tr>\n",
       "      <th>3</th>\n",
       "      <td>2018-01-30T18:30:05.007+02:00</td>\n",
       "      <td>english</td>\n",
       "      <td>Currently adding the following games:\\n100 (by...</td>\n",
       "      <td></td>\n",
       "      <td>http://omgili.com/ri/.0rSU5LtMgyggHgoOVy9TMDWT...</td>\n",
       "    </tr>\n",
       "    <tr>\n",
       "      <th>4</th>\n",
       "      <td>2018-01-30T18:30:05.013+02:00</td>\n",
       "      <td>english</td>\n",
       "      <td>Quote: : » Currently adding the following game...</td>\n",
       "      <td></td>\n",
       "      <td>http://omgili.com/ri/.0rSU5LtMgyggHgoOVy9TMDWT...</td>\n",
       "    </tr>\n",
       "  </tbody>\n",
       "</table>\n",
       "</div>"
      ],
      "text/plain": [
       "                         crawled language  \\\n",
       "0  2018-01-30T18:28:45.012+02:00  english   \n",
       "1  2018-01-30T18:29:07.001+02:00   french   \n",
       "2  2018-01-30T18:29:40.000+02:00  english   \n",
       "3  2018-01-30T18:30:05.007+02:00  english   \n",
       "4  2018-01-30T18:30:05.013+02:00  english   \n",
       "\n",
       "                                                text  \\\n",
       "0  Avery Dennison's (AVY) Q4 results are likely t...   \n",
       "1  1m95, c’est trop grand. Et sa stature, Bertran...   \n",
       "2  Tuggers and Topper Industrial Carts Help Trans...   \n",
       "3  Currently adding the following games:\\n100 (by...   \n",
       "4  Quote: : » Currently adding the following game...   \n",
       "\n",
       "                                               title  \\\n",
       "0  IRobot downgraded to neutral from buy at Sidot...   \n",
       "1  \"Bertrand Zibi Abeghe, encore prisonnier, et t...   \n",
       "2  Tuggers and Topper Industrial Carts Help Trans...   \n",
       "3                                                      \n",
       "4                                                      \n",
       "\n",
       "                                                 url  \n",
       "0  http://omgili.com/ri/.wHSUbtEfZQRfU.5KUm1RkeXy...  \n",
       "1  http://omgili.com/ri/.wHSUbtEfZTpzFtnXyQJIwJ.j...  \n",
       "2  http://omgili.com/ri/jHIAmI4hxg.zDiulpymXqU_n4...  \n",
       "3  http://omgili.com/ri/.0rSU5LtMgyggHgoOVy9TMDWT...  \n",
       "4  http://omgili.com/ri/.0rSU5LtMgyggHgoOVy9TMDWT...  "
      ]
     },
     "execution_count": 4,
     "metadata": {},
     "output_type": "execute_result"
    }
   ],
   "source": [
    "cat_news.head()"
   ]
  },
  {
   "cell_type": "code",
   "execution_count": 5,
   "metadata": {
    "ExecuteTime": {
     "end_time": "2019-05-17T00:56:33.346685Z",
     "start_time": "2019-05-17T00:56:33.335559Z"
    }
   },
   "outputs": [
    {
     "data": {
      "text/plain": [
       "100"
      ]
     },
     "execution_count": 5,
     "metadata": {},
     "output_type": "execute_result"
    }
   ],
   "source": [
    "len(cat_news)"
   ]
  },
  {
   "cell_type": "code",
   "execution_count": 6,
   "metadata": {
    "ExecuteTime": {
     "end_time": "2019-05-17T00:56:33.356508Z",
     "start_time": "2019-05-17T00:56:33.351945Z"
    }
   },
   "outputs": [],
   "source": [
    "cat_news_en = cat_news[cat_news['language'] == 'english']"
   ]
  },
  {
   "cell_type": "code",
   "execution_count": 7,
   "metadata": {
    "ExecuteTime": {
     "end_time": "2019-05-17T00:56:33.366785Z",
     "start_time": "2019-05-17T00:56:33.358386Z"
    },
    "scrolled": false
   },
   "outputs": [
    {
     "data": {
      "text/plain": [
       "95"
      ]
     },
     "execution_count": 7,
     "metadata": {},
     "output_type": "execute_result"
    }
   ],
   "source": [
    "len(cat_news_en)"
   ]
  },
  {
   "cell_type": "markdown",
   "metadata": {},
   "source": [
    "#### Data Pre-Processing"
   ]
  },
  {
   "cell_type": "code",
   "execution_count": 8,
   "metadata": {
    "ExecuteTime": {
     "end_time": "2019-05-17T00:56:33.375896Z",
     "start_time": "2019-05-17T00:56:33.370809Z"
    }
   },
   "outputs": [],
   "source": [
    "import re\n",
    "import pandas as pd"
   ]
  },
  {
   "cell_type": "code",
   "execution_count": 9,
   "metadata": {
    "ExecuteTime": {
     "end_time": "2019-05-17T00:56:34.287722Z",
     "start_time": "2019-05-17T00:56:33.380070Z"
    }
   },
   "outputs": [],
   "source": [
    "import nltk\n",
    "from nltk.text import Text\n",
    "import sys\n",
    "import multiprocessing\n",
    "from nltk.corpus import wordnet\n",
    "from nltk.stem.wordnet import WordNetLemmatizer\n",
    "import inflection as inf"
   ]
  },
  {
   "cell_type": "code",
   "execution_count": 10,
   "metadata": {
    "ExecuteTime": {
     "end_time": "2019-05-17T00:56:34.535407Z",
     "start_time": "2019-05-17T00:56:34.290012Z"
    },
    "scrolled": true
   },
   "outputs": [
    {
     "name": "stderr",
     "output_type": "stream",
     "text": [
      "/home/targoon/.local/lib/python3.7/site-packages/ipykernel_launcher.py:2: SettingWithCopyWarning: \n",
      "A value is trying to be set on a copy of a slice from a DataFrame.\n",
      "Try using .loc[row_indexer,col_indexer] = value instead\n",
      "\n",
      "See the caveats in the documentation: http://pandas.pydata.org/pandas-docs/stable/indexing.html#indexing-view-versus-copy\n",
      "  \n"
     ]
    }
   ],
   "source": [
    "pool = multiprocessing.Pool(processes=7)\n",
    "cat_news_en['text_tokenized'] = pool.map(nltk.tokenize.word_tokenize, cat_news_en['text'])"
   ]
  },
  {
   "cell_type": "code",
   "execution_count": 11,
   "metadata": {
    "ExecuteTime": {
     "end_time": "2019-05-17T00:56:34.554454Z",
     "start_time": "2019-05-17T00:56:34.537668Z"
    }
   },
   "outputs": [
    {
     "data": {
      "text/html": [
       "<div>\n",
       "<style scoped>\n",
       "    .dataframe tbody tr th:only-of-type {\n",
       "        vertical-align: middle;\n",
       "    }\n",
       "\n",
       "    .dataframe tbody tr th {\n",
       "        vertical-align: top;\n",
       "    }\n",
       "\n",
       "    .dataframe thead th {\n",
       "        text-align: right;\n",
       "    }\n",
       "</style>\n",
       "<table border=\"1\" class=\"dataframe\">\n",
       "  <thead>\n",
       "    <tr style=\"text-align: right;\">\n",
       "      <th></th>\n",
       "      <th>crawled</th>\n",
       "      <th>language</th>\n",
       "      <th>text</th>\n",
       "      <th>title</th>\n",
       "      <th>url</th>\n",
       "      <th>text_tokenized</th>\n",
       "    </tr>\n",
       "  </thead>\n",
       "  <tbody>\n",
       "    <tr>\n",
       "      <th>0</th>\n",
       "      <td>2018-01-30T18:28:45.012+02:00</td>\n",
       "      <td>english</td>\n",
       "      <td>Avery Dennison's (AVY) Q4 results are likely t...</td>\n",
       "      <td>IRobot downgraded to neutral from buy at Sidot...</td>\n",
       "      <td>http://omgili.com/ri/.wHSUbtEfZQRfU.5KUm1RkeXy...</td>\n",
       "      <td>[Avery, Dennison, 's, (, AVY, ), Q4, results, ...</td>\n",
       "    </tr>\n",
       "    <tr>\n",
       "      <th>2</th>\n",
       "      <td>2018-01-30T18:29:40.000+02:00</td>\n",
       "      <td>english</td>\n",
       "      <td>Tuggers and Topper Industrial Carts Help Trans...</td>\n",
       "      <td>Tuggers and Topper Industrial Carts Help Trans...</td>\n",
       "      <td>http://omgili.com/ri/jHIAmI4hxg.zDiulpymXqU_n4...</td>\n",
       "      <td>[Tuggers, and, Topper, Industrial, Carts, Help...</td>\n",
       "    </tr>\n",
       "    <tr>\n",
       "      <th>3</th>\n",
       "      <td>2018-01-30T18:30:05.007+02:00</td>\n",
       "      <td>english</td>\n",
       "      <td>Currently adding the following games:\\n100 (by...</td>\n",
       "      <td></td>\n",
       "      <td>http://omgili.com/ri/.0rSU5LtMgyggHgoOVy9TMDWT...</td>\n",
       "      <td>[Currently, adding, the, following, games, :, ...</td>\n",
       "    </tr>\n",
       "    <tr>\n",
       "      <th>4</th>\n",
       "      <td>2018-01-30T18:30:05.013+02:00</td>\n",
       "      <td>english</td>\n",
       "      <td>Quote: : » Currently adding the following game...</td>\n",
       "      <td></td>\n",
       "      <td>http://omgili.com/ri/.0rSU5LtMgyggHgoOVy9TMDWT...</td>\n",
       "      <td>[Quote, :, :, », Currently, adding, the, follo...</td>\n",
       "    </tr>\n",
       "    <tr>\n",
       "      <th>5</th>\n",
       "      <td>2018-01-30T18:30:05.014+02:00</td>\n",
       "      <td>english</td>\n",
       "      <td>Quote: : » Currently adding the following game...</td>\n",
       "      <td></td>\n",
       "      <td>http://omgili.com/ri/.0rSU5LtMgyggHgoOVy9TMDWT...</td>\n",
       "      <td>[Quote, :, :, », Currently, adding, the, follo...</td>\n",
       "    </tr>\n",
       "  </tbody>\n",
       "</table>\n",
       "</div>"
      ],
      "text/plain": [
       "                         crawled language  \\\n",
       "0  2018-01-30T18:28:45.012+02:00  english   \n",
       "2  2018-01-30T18:29:40.000+02:00  english   \n",
       "3  2018-01-30T18:30:05.007+02:00  english   \n",
       "4  2018-01-30T18:30:05.013+02:00  english   \n",
       "5  2018-01-30T18:30:05.014+02:00  english   \n",
       "\n",
       "                                                text  \\\n",
       "0  Avery Dennison's (AVY) Q4 results are likely t...   \n",
       "2  Tuggers and Topper Industrial Carts Help Trans...   \n",
       "3  Currently adding the following games:\\n100 (by...   \n",
       "4  Quote: : » Currently adding the following game...   \n",
       "5  Quote: : » Currently adding the following game...   \n",
       "\n",
       "                                               title  \\\n",
       "0  IRobot downgraded to neutral from buy at Sidot...   \n",
       "2  Tuggers and Topper Industrial Carts Help Trans...   \n",
       "3                                                      \n",
       "4                                                      \n",
       "5                                                      \n",
       "\n",
       "                                                 url  \\\n",
       "0  http://omgili.com/ri/.wHSUbtEfZQRfU.5KUm1RkeXy...   \n",
       "2  http://omgili.com/ri/jHIAmI4hxg.zDiulpymXqU_n4...   \n",
       "3  http://omgili.com/ri/.0rSU5LtMgyggHgoOVy9TMDWT...   \n",
       "4  http://omgili.com/ri/.0rSU5LtMgyggHgoOVy9TMDWT...   \n",
       "5  http://omgili.com/ri/.0rSU5LtMgyggHgoOVy9TMDWT...   \n",
       "\n",
       "                                      text_tokenized  \n",
       "0  [Avery, Dennison, 's, (, AVY, ), Q4, results, ...  \n",
       "2  [Tuggers, and, Topper, Industrial, Carts, Help...  \n",
       "3  [Currently, adding, the, following, games, :, ...  \n",
       "4  [Quote, :, :, », Currently, adding, the, follo...  \n",
       "5  [Quote, :, :, », Currently, adding, the, follo...  "
      ]
     },
     "execution_count": 11,
     "metadata": {},
     "output_type": "execute_result"
    }
   ],
   "source": [
    "cat_news_en.head()"
   ]
  },
  {
   "cell_type": "code",
   "execution_count": 12,
   "metadata": {
    "ExecuteTime": {
     "end_time": "2019-05-17T00:56:34.567206Z",
     "start_time": "2019-05-17T00:56:34.556383Z"
    },
    "code_folding": []
   },
   "outputs": [],
   "source": [
    "def get_wordnet_pos(treebank_tag):\n",
    "\n",
    "    if treebank_tag.startswith('J'):\n",
    "        return wordnet.ADJ\n",
    "    elif treebank_tag.startswith('V'):\n",
    "        return wordnet.VERB\n",
    "    elif treebank_tag.startswith('N'):\n",
    "        return wordnet.NOUN\n",
    "    elif treebank_tag.startswith('R'):\n",
    "        return wordnet.ADV\n",
    "    else:\n",
    "        return wordnet.NOUN\n",
    "    \n",
    "def text_preprocessing(words):\n",
    "    \n",
    "    stopwords = set(nltk.corpus.stopwords.words('english'))\n",
    "    wnl = WordNetLemmatizer()\n",
    "    \n",
    "    # Remove single-character tokens (mostly punctuation)\n",
    "    words = [word for word in words if len(word) > 1]\n",
    "\n",
    "    # Remove numbers\n",
    "    words = [word for word in words if not word.isnumeric()]\n",
    "\n",
    "    # Remove punctuation\n",
    "    words = [word for word in words if word.isalpha()]\n",
    "\n",
    "    # Lowercase all words (default_stopwords are lowercase too)\n",
    "    words = [word.lower() for word in words]\n",
    "\n",
    "    # Remove stopwords\n",
    "    words = [word for word in words if word not in stopwords]\n",
    "    \n",
    "    # Get PoS Tagging\n",
    "    words_pos = nltk.pos_tag(words)\n",
    "    words_pos = [(word, get_wordnet_pos(pos)) for (word, pos) in words_pos]\n",
    "    \n",
    "    # Lemmatize with POS tagging\n",
    "    words_pos = [(wnl.lemmatize(word, pos), pos) for (word, pos) in words_pos]\n",
    "    \n",
    "    # Singularize words\n",
    "    words = [inf.singularize(word) if pos == 'n' else word for (word, pos) in words_pos]\n",
    "    \n",
    "    return(words)"
   ]
  },
  {
   "cell_type": "code",
   "execution_count": 13,
   "metadata": {
    "ExecuteTime": {
     "end_time": "2019-05-17T00:56:37.608220Z",
     "start_time": "2019-05-17T00:56:34.571167Z"
    },
    "scrolled": true
   },
   "outputs": [
    {
     "name": "stderr",
     "output_type": "stream",
     "text": [
      "/home/targoon/.local/lib/python3.7/site-packages/ipykernel_launcher.py:2: SettingWithCopyWarning: \n",
      "A value is trying to be set on a copy of a slice from a DataFrame.\n",
      "Try using .loc[row_indexer,col_indexer] = value instead\n",
      "\n",
      "See the caveats in the documentation: http://pandas.pydata.org/pandas-docs/stable/indexing.html#indexing-view-versus-copy\n",
      "  \n"
     ]
    }
   ],
   "source": [
    "pool = multiprocessing.Pool(processes=7)\n",
    "cat_news_en['text_tokenized_cleaned'] = pool.map(text_preprocessing, cat_news_en['text_tokenized'])"
   ]
  },
  {
   "cell_type": "markdown",
   "metadata": {},
   "source": [
    "#### Topic Modeling"
   ]
  },
  {
   "cell_type": "code",
   "execution_count": 14,
   "metadata": {
    "ExecuteTime": {
     "end_time": "2019-05-17T00:56:37.875332Z",
     "start_time": "2019-05-17T00:56:37.610594Z"
    },
    "scrolled": false
   },
   "outputs": [],
   "source": [
    "import gensim\n",
    "import pprint\n",
    "from gensim import corpora, models\n",
    "from gensim.models.ldamulticore import LdaMulticore\n",
    "from gensim.models import CoherenceModel\n",
    "import pyLDAvis.gensim"
   ]
  },
  {
   "cell_type": "code",
   "execution_count": 15,
   "metadata": {
    "ExecuteTime": {
     "end_time": "2019-05-17T00:56:37.920144Z",
     "start_time": "2019-05-17T00:56:37.877171Z"
    }
   },
   "outputs": [],
   "source": [
    "dictionary = corpora.Dictionary(cat_news_en['text_tokenized_cleaned'])\n",
    "dictionary.filter_extremes(no_below=5, no_above=0.5)\n",
    "doc_term_matrix = [dictionary.doc2bow(doc) for doc in cat_news_en['text_tokenized_cleaned']]"
   ]
  },
  {
   "cell_type": "markdown",
   "metadata": {},
   "source": [
    "**Create Topic Models from 2 to 20 topics**"
   ]
  },
  {
   "cell_type": "code",
   "execution_count": 16,
   "metadata": {
    "ExecuteTime": {
     "end_time": "2019-05-17T01:00:08.984750Z",
     "start_time": "2019-05-17T00:56:37.922402Z"
    },
    "scrolled": false
   },
   "outputs": [
    {
     "name": "stdout",
     "output_type": "stream",
     "text": [
      "(0, '0.017*\"market\" + 0.015*\"company\" + 0.009*\"share\" + 0.008*\"city\" + 0.008*\"state\" + 0.007*\"product\"')\n",
      "(1, '0.023*\"plant\" + 0.013*\"case\" + 0.008*\"one\" + 0.007*\"wardian\" + 0.006*\"blade\" + 0.006*\"water\"')\n",
      "\n",
      "Coherence Score:  0.30960767499324904\n",
      "=========================================\n",
      "(0, '0.014*\"city\" + 0.013*\"u\" + 0.011*\"one\" + 0.011*\"estimate\" + 0.011*\"state\" + 0.010*\"company\"')\n",
      "(1, '0.037*\"plant\" + 0.021*\"case\" + 0.011*\"wardian\" + 0.011*\"water\" + 0.009*\"one\" + 0.009*\"terrarium\"')\n",
      "(2, '0.052*\"market\" + 0.017*\"amazon\" + 0.016*\"seattle\" + 0.015*\"report\" + 0.015*\"industry\" + 0.011*\"growth\"')\n",
      "(3, '0.021*\"company\" + 0.020*\"share\" + 0.016*\"product\" + 0.011*\"industrial\" + 0.010*\"operation\" + 0.010*\"stock\"')\n",
      "\n",
      "Coherence Score:  0.31515800453231196\n",
      "=========================================\n",
      "(0, '0.017*\"u\" + 0.015*\"say\" + 0.014*\"china\" + 0.013*\"company\" + 0.012*\"one\" + 0.012*\"would\"')\n",
      "(1, '0.043*\"plant\" + 0.024*\"case\" + 0.013*\"wardian\" + 0.013*\"water\" + 0.011*\"one\" + 0.011*\"terrarium\"')\n",
      "(2, '0.082*\"market\" + 0.025*\"industry\" + 0.024*\"report\" + 0.019*\"analysis\" + 0.017*\"growth\" + 0.013*\"construction\"')\n",
      "(3, '0.029*\"share\" + 0.029*\"company\" + 0.019*\"product\" + 0.017*\"industrial\" + 0.014*\"stock\" + 0.014*\"operation\"')\n",
      "(4, '0.024*\"amazon\" + 0.020*\"seattle\" + 0.017*\"work\" + 0.013*\"employee\" + 0.012*\"monday\" + 0.011*\"grand\"')\n",
      "(5, '0.028*\"city\" + 0.027*\"estimate\" + 0.019*\"state\" + 0.016*\"blade\" + 0.015*\"bucket\" + 0.014*\"truck\"')\n",
      "\n",
      "Coherence Score:  0.4573793250368671\n",
      "=========================================\n",
      "(0, '0.026*\"u\" + 0.021*\"china\" + 0.020*\"say\" + 0.018*\"would\" + 0.013*\"rate\" + 0.013*\"profit\"')\n",
      "(1, '0.046*\"plant\" + 0.025*\"case\" + 0.014*\"wardian\" + 0.013*\"water\" + 0.012*\"terrarium\" + 0.012*\"care\"')\n",
      "(2, '0.034*\"city\" + 0.030*\"estimate\" + 0.020*\"state\" + 0.018*\"major\" + 0.016*\"home\" + 0.015*\"one\"')\n",
      "(3, '0.035*\"company\" + 0.030*\"share\" + 0.022*\"product\" + 0.017*\"industrial\" + 0.014*\"stock\" + 0.013*\"operation\"')\n",
      "(4, '0.033*\"amazon\" + 0.027*\"seattle\" + 0.019*\"company\" + 0.018*\"employee\" + 0.016*\"monday\" + 0.016*\"grand\"')\n",
      "(5, '0.036*\"blade\" + 0.033*\"bucket\" + 0.033*\"truck\" + 0.028*\"skid\" + 0.025*\"snow\" + 0.025*\"forklift\"')\n",
      "(6, '0.016*\"work\" + 0.015*\"support\" + 0.013*\"vehicle\" + 0.012*\"global\" + 0.011*\"project\" + 0.011*\"system\"')\n",
      "(7, '0.098*\"market\" + 0.029*\"industry\" + 0.028*\"report\" + 0.021*\"growth\" + 0.019*\"analysis\" + 0.015*\"key\"')\n",
      "\n",
      "Coherence Score:  0.558275702471104\n",
      "=========================================\n",
      "(0, '0.031*\"like\" + 0.017*\"design\" + 0.016*\"one\" + 0.015*\"home\" + 0.014*\"structure\" + 0.013*\"live\"')\n",
      "(1, '0.056*\"plant\" + 0.029*\"case\" + 0.017*\"wardian\" + 0.015*\"water\" + 0.014*\"terrarium\" + 0.014*\"care\"')\n",
      "(2, '0.042*\"robot\" + 0.032*\"grader\" + 0.017*\"system\" + 0.015*\"phone\" + 0.015*\"one\" + 0.014*\"u\"')\n",
      "(3, '0.032*\"company\" + 0.024*\"share\" + 0.023*\"product\" + 0.020*\"industrial\" + 0.017*\"stock\" + 0.011*\"rating\"')\n",
      "(4, '0.034*\"amazon\" + 0.028*\"seattle\" + 0.019*\"company\" + 0.017*\"employee\" + 0.016*\"monday\" + 0.016*\"grand\"')\n",
      "(5, '0.035*\"blade\" + 0.032*\"bucket\" + 0.029*\"skid\" + 0.024*\"snow\" + 0.024*\"forklift\" + 0.023*\"steer\"')\n",
      "(6, '0.017*\"work\" + 0.015*\"support\" + 0.013*\"vehicle\" + 0.013*\"project\" + 0.011*\"engine\" + 0.011*\"process\"')\n",
      "(7, '0.105*\"market\" + 0.032*\"industry\" + 0.029*\"report\" + 0.022*\"growth\" + 0.021*\"analysis\" + 0.015*\"key\"')\n",
      "(8, '0.018*\"city\" + 0.015*\"u\" + 0.014*\"estimate\" + 0.014*\"state\" + 0.013*\"rate\" + 0.013*\"china\"')\n",
      "(9, '0.049*\"operation\" + 0.044*\"share\" + 0.040*\"jan\" + 0.025*\"company\" + 0.019*\"increase\" + 0.019*\"say\"')\n",
      "\n",
      "Coherence Score:  0.48284012440183127\n",
      "=========================================\n",
      "(0, '0.027*\"u\" + 0.025*\"china\" + 0.020*\"would\" + 0.019*\"say\" + 0.015*\"profit\" + 0.014*\"corporate\"')\n",
      "(1, '0.030*\"canna\" + 0.024*\"duggan\" + 0.023*\"post\" + 0.023*\"complete\" + 0.020*\"nismo\" + 0.020*\"van\"')\n",
      "(2, '0.052*\"robot\" + 0.041*\"grader\" + 0.021*\"system\" + 0.017*\"small\" + 0.017*\"one\" + 0.015*\"end\"')\n",
      "(3, '0.035*\"share\" + 0.032*\"company\" + 0.026*\"industrial\" + 0.024*\"stock\" + 0.022*\"product\" + 0.015*\"rating\"')\n",
      "(4, '0.034*\"amazon\" + 0.028*\"seattle\" + 0.020*\"company\" + 0.018*\"employee\" + 0.017*\"monday\" + 0.016*\"grand\"')\n",
      "(5, '0.037*\"blade\" + 0.036*\"bucket\" + 0.033*\"skid\" + 0.026*\"steer\" + 0.026*\"forklift\" + 0.026*\"snow\"')\n",
      "(6, '0.079*\"market\" + 0.024*\"industry\" + 0.024*\"report\" + 0.018*\"analysis\" + 0.016*\"growth\" + 0.012*\"key\"')\n",
      "(7, '0.018*\"work\" + 0.015*\"business\" + 0.014*\"lead\" + 0.014*\"service\" + 0.013*\"datum\" + 0.012*\"end\"')\n",
      "(8, '0.032*\"city\" + 0.025*\"estimate\" + 0.019*\"state\" + 0.016*\"home\" + 0.015*\"live\" + 0.015*\"major\"')\n",
      "(9, '0.052*\"operation\" + 0.044*\"share\" + 0.044*\"jan\" + 0.024*\"company\" + 0.023*\"truck\" + 0.021*\"say\"')\n",
      "(10, '0.040*\"design\" + 0.033*\"like\" + 0.024*\"one\" + 0.019*\"way\" + 0.016*\"live\" + 0.016*\"home\"')\n",
      "(11, '0.061*\"plant\" + 0.035*\"case\" + 0.020*\"wardian\" + 0.018*\"water\" + 0.016*\"terrarium\" + 0.016*\"care\"')\n",
      "\n",
      "Coherence Score:  0.5527350819470337\n",
      "=========================================\n",
      "(0, '0.035*\"u\" + 0.031*\"china\" + 0.026*\"would\" + 0.025*\"say\" + 0.019*\"profit\" + 0.018*\"corporate\"')\n",
      "(1, '0.030*\"canna\" + 0.029*\"complete\" + 0.028*\"post\" + 0.024*\"duggan\" + 0.019*\"nismo\" + 0.019*\"van\"')\n",
      "(2, '0.055*\"robot\" + 0.043*\"grader\" + 0.022*\"system\" + 0.018*\"small\" + 0.018*\"one\" + 0.017*\"revenue\"')\n",
      "(3, '0.036*\"company\" + 0.035*\"share\" + 0.028*\"industrial\" + 0.026*\"stock\" + 0.023*\"product\" + 0.016*\"rating\"')\n",
      "(4, '0.035*\"amazon\" + 0.029*\"seattle\" + 0.020*\"company\" + 0.017*\"employee\" + 0.017*\"monday\" + 0.016*\"grand\"')\n",
      "(5, '0.044*\"blade\" + 0.041*\"bucket\" + 0.031*\"skid\" + 0.030*\"snow\" + 0.030*\"truck\" + 0.028*\"backhoe\"')\n",
      "(6, '0.054*\"market\" + 0.019*\"industry\" + 0.016*\"vehicle\" + 0.015*\"report\" + 0.015*\"global\" + 0.014*\"growth\"')\n",
      "(7, '0.059*\"market\" + 0.018*\"industry\" + 0.017*\"product\" + 0.016*\"report\" + 0.015*\"state\" + 0.014*\"analysis\"')\n",
      "(8, '0.038*\"city\" + 0.026*\"estimate\" + 0.022*\"state\" + 0.021*\"home\" + 0.016*\"live\" + 0.016*\"like\"')\n",
      "(9, '0.063*\"operation\" + 0.061*\"share\" + 0.060*\"jan\" + 0.032*\"company\" + 0.025*\"say\" + 0.020*\"truck\"')\n",
      "(10, '0.043*\"phone\" + 0.035*\"land\" + 0.017*\"design\" + 0.017*\"survive\" + 0.017*\"explore\" + 0.017*\"one\"')\n",
      "(11, '0.060*\"plant\" + 0.033*\"case\" + 0.019*\"wardian\" + 0.018*\"water\" + 0.016*\"terrarium\" + 0.016*\"care\"')\n",
      "(12, '0.026*\"work\" + 0.019*\"project\" + 0.016*\"process\" + 0.014*\"job\" + 0.013*\"system\" + 0.012*\"provide\"')\n",
      "(13, '0.019*\"space\" + 0.017*\"cut\" + 0.016*\"tower\" + 0.015*\"last\" + 0.012*\"super\" + 0.012*\"tiny\"')\n",
      "\n",
      "Coherence Score:  0.5350103258055589\n",
      "=========================================\n",
      "(0, '0.038*\"ga\" + 0.025*\"natural\" + 0.023*\"design\" + 0.021*\"china\" + 0.021*\"system\" + 0.018*\"international\"')\n",
      "(1, '0.028*\"post\" + 0.026*\"canna\" + 0.021*\"duggan\" + 0.021*\"grapple\" + 0.020*\"complete\" + 0.017*\"nismo\"')\n",
      "(2, '0.053*\"grader\" + 0.036*\"market\" + 0.024*\"global\" + 0.022*\"construction\" + 0.020*\"end\" + 0.019*\"revenue\"')\n",
      "(3, '0.026*\"company\" + 0.022*\"u\" + 0.018*\"share\" + 0.017*\"china\" + 0.017*\"product\" + 0.014*\"industrial\"')\n",
      "(4, '0.034*\"amazon\" + 0.028*\"seattle\" + 0.019*\"company\" + 0.017*\"employee\" + 0.016*\"monday\" + 0.016*\"grand\"')\n",
      "(5, '0.059*\"blade\" + 0.052*\"skid\" + 0.043*\"bucket\" + 0.042*\"steer\" + 0.040*\"snow\" + 0.038*\"rubber\"')\n",
      "(6, '0.041*\"market\" + 0.016*\"vehicle\" + 0.016*\"industry\" + 0.015*\"support\" + 0.013*\"report\" + 0.012*\"global\"')\n",
      "(7, '0.068*\"market\" + 0.020*\"industry\" + 0.018*\"analysis\" + 0.016*\"product\" + 0.015*\"state\" + 0.015*\"report\"')\n",
      "(8, '0.032*\"city\" + 0.025*\"estimate\" + 0.024*\"state\" + 0.021*\"rate\" + 0.019*\"home\" + 0.016*\"one\"')\n",
      "(9, '0.083*\"operation\" + 0.082*\"share\" + 0.081*\"jan\" + 0.035*\"company\" + 0.027*\"say\" + 0.015*\"billion\"')\n",
      "(10, '0.024*\"fit\" + 0.022*\"excavator\" + 0.019*\"sell\" + 0.019*\"truck\" + 0.018*\"machine\" + 0.017*\"backhoe\"')\n",
      "(11, '0.061*\"plant\" + 0.034*\"case\" + 0.020*\"wardian\" + 0.017*\"water\" + 0.016*\"terrarium\" + 0.016*\"care\"')\n",
      "(12, '0.029*\"work\" + 0.021*\"process\" + 0.018*\"project\" + 0.016*\"job\" + 0.014*\"team\" + 0.014*\"system\"')\n",
      "(13, '0.041*\"robot\" + 0.020*\"tiny\" + 0.019*\"space\" + 0.017*\"cut\" + 0.014*\"tower\" + 0.014*\"call\"')\n",
      "(14, '0.022*\"program\" + 0.020*\"local\" + 0.017*\"food\" + 0.015*\"truck\" + 0.014*\"urban\" + 0.014*\"city\"')\n",
      "(15, '0.052*\"machinery\" + 0.050*\"market\" + 0.046*\"road\" + 0.041*\"truck\" + 0.030*\"report\" + 0.022*\"type\"')\n",
      "\n",
      "Coherence Score:  0.498640566407669\n",
      "=========================================\n"
     ]
    },
    {
     "name": "stdout",
     "output_type": "stream",
     "text": [
      "(0, '0.059*\"ga\" + 0.037*\"natural\" + 0.031*\"china\" + 0.026*\"international\" + 0.021*\"oil\" + 0.019*\"organic\"')\n",
      "(1, '0.030*\"post\" + 0.029*\"canna\" + 0.023*\"duggan\" + 0.023*\"grapple\" + 0.021*\"complete\" + 0.019*\"van\"')\n",
      "(2, '0.040*\"robot\" + 0.032*\"grader\" + 0.023*\"market\" + 0.017*\"global\" + 0.016*\"system\" + 0.014*\"one\"')\n",
      "(3, '0.037*\"share\" + 0.035*\"company\" + 0.029*\"industrial\" + 0.027*\"stock\" + 0.024*\"product\" + 0.019*\"rating\"')\n",
      "(4, '0.036*\"amazon\" + 0.030*\"seattle\" + 0.021*\"company\" + 0.018*\"employee\" + 0.017*\"monday\" + 0.017*\"grand\"')\n",
      "(5, '0.022*\"two\" + 0.022*\"life\" + 0.022*\"video\" + 0.019*\"lift\" + 0.018*\"light\" + 0.017*\"hour\"')\n",
      "(6, '0.025*\"market\" + 0.020*\"support\" + 0.019*\"vehicle\" + 0.017*\"engine\" + 0.012*\"power\" + 0.011*\"well\"')\n",
      "(7, '0.076*\"market\" + 0.024*\"industry\" + 0.023*\"analysis\" + 0.019*\"product\" + 0.017*\"report\" + 0.016*\"growth\"')\n",
      "(8, '0.045*\"city\" + 0.032*\"estimate\" + 0.029*\"state\" + 0.022*\"home\" + 0.017*\"major\" + 0.016*\"live\"')\n",
      "(9, '0.082*\"operation\" + 0.081*\"share\" + 0.079*\"jan\" + 0.035*\"company\" + 0.030*\"say\" + 0.014*\"plant\"')\n",
      "(10, '0.022*\"fit\" + 0.020*\"design\" + 0.020*\"excavator\" + 0.019*\"truck\" + 0.018*\"sell\" + 0.016*\"john\"')\n",
      "(11, '0.040*\"work\" + 0.031*\"process\" + 0.025*\"project\" + 0.020*\"system\" + 0.020*\"team\" + 0.018*\"qualification\"')\n",
      "(12, '0.026*\"u\" + 0.024*\"china\" + 0.018*\"say\" + 0.016*\"would\" + 0.014*\"profit\" + 0.014*\"corporate\"')\n",
      "(13, '0.022*\"space\" + 0.018*\"cut\" + 0.017*\"tower\" + 0.013*\"last\" + 0.013*\"super\" + 0.013*\"tiny\"')\n",
      "(14, '0.028*\"truck\" + 0.025*\"equipment\" + 0.022*\"company\" + 0.015*\"construction\" + 0.014*\"develop\" + 0.013*\"machine\"')\n",
      "(15, '0.054*\"market\" + 0.036*\"machinery\" + 0.031*\"report\" + 0.031*\"road\" + 0.025*\"http\" + 0.024*\"truck\"')\n",
      "(16, '0.065*\"plant\" + 0.035*\"case\" + 0.021*\"wardian\" + 0.018*\"water\" + 0.017*\"terrarium\" + 0.016*\"care\"')\n",
      "(17, '0.088*\"skid\" + 0.076*\"steer\" + 0.067*\"blade\" + 0.057*\"loader\" + 0.047*\"snow\" + 0.046*\"bucket\"')\n",
      "\n",
      "Coherence Score:  0.5189388257562111\n",
      "=========================================\n",
      "(0, '0.034*\"support\" + 0.023*\"low\" + 0.020*\"point\" + 0.019*\"high\" + 0.019*\"ga\" + 0.017*\"natural\"')\n",
      "(1, '0.047*\"canna\" + 0.039*\"post\" + 0.031*\"van\" + 0.031*\"nismo\" + 0.029*\"like\" + 0.026*\"grow\"')\n",
      "(2, '0.063*\"grader\" + 0.045*\"market\" + 0.029*\"global\" + 0.026*\"construction\" + 0.023*\"revenue\" + 0.021*\"end\"')\n",
      "(3, '0.025*\"u\" + 0.020*\"china\" + 0.020*\"company\" + 0.019*\"say\" + 0.017*\"would\" + 0.017*\"product\"')\n",
      "(4, '0.034*\"amazon\" + 0.028*\"seattle\" + 0.020*\"company\" + 0.017*\"employee\" + 0.017*\"monday\" + 0.016*\"grand\"')\n",
      "(5, '0.045*\"complete\" + 0.044*\"duggan\" + 0.033*\"two\" + 0.030*\"video\" + 0.025*\"one\" + 0.024*\"plant\"')\n",
      "(6, '0.111*\"market\" + 0.033*\"industry\" + 0.032*\"report\" + 0.024*\"analysis\" + 0.022*\"growth\" + 0.019*\"key\"')\n",
      "(7, '0.042*\"blade\" + 0.031*\"rubber\" + 0.029*\"snow\" + 0.028*\"skid\" + 0.026*\"end\" + 0.024*\"plu\"')\n",
      "(8, '0.036*\"city\" + 0.027*\"estimate\" + 0.025*\"state\" + 0.024*\"home\" + 0.019*\"rate\" + 0.017*\"like\"')\n",
      "(9, '0.085*\"share\" + 0.081*\"operation\" + 0.081*\"jan\" + 0.036*\"company\" + 0.028*\"say\" + 0.014*\"plant\"')\n",
      "(10, '0.026*\"excavator\" + 0.025*\"fit\" + 0.022*\"backhoe\" + 0.021*\"deere\" + 0.020*\"john\" + 0.020*\"truck\"')\n",
      "(11, '0.023*\"might\" + 0.022*\"image\" + 0.020*\"million\" + 0.019*\"call\" + 0.017*\"person\" + 0.017*\"like\"')\n",
      "(12, '0.027*\"work\" + 0.018*\"process\" + 0.017*\"project\" + 0.017*\"job\" + 0.014*\"requirement\" + 0.013*\"provide\"')\n",
      "(13, '0.042*\"robot\" + 0.020*\"space\" + 0.019*\"tiny\" + 0.016*\"cut\" + 0.016*\"tower\" + 0.014*\"one\"')\n",
      "(14, '0.024*\"program\" + 0.017*\"food\" + 0.017*\"truck\" + 0.017*\"local\" + 0.015*\"equipment\" + 0.015*\"city\"')\n",
      "(15, '0.045*\"vehicle\" + 0.034*\"machinery\" + 0.028*\"road\" + 0.023*\"truck\" + 0.022*\"china\" + 0.020*\"company\"')\n",
      "(16, '0.066*\"plant\" + 0.036*\"case\" + 0.021*\"wardian\" + 0.018*\"water\" + 0.018*\"terrarium\" + 0.016*\"care\"')\n",
      "(17, '0.161*\"skid\" + 0.155*\"steer\" + 0.137*\"loader\" + 0.055*\"state\" + 0.033*\"landscape\" + 0.030*\"brush\"')\n",
      "(18, '0.068*\"forklift\" + 0.055*\"bucket\" + 0.040*\"grapple\" + 0.024*\"http\" + 0.022*\"tree\" + 0.021*\"rock\"')\n",
      "(19, '0.055*\"share\" + 0.048*\"company\" + 0.042*\"stock\" + 0.026*\"rating\" + 0.025*\"quarter\" + 0.021*\"product\"')\n",
      "\n",
      "Coherence Score:  0.4971278236084732\n",
      "=========================================\n"
     ]
    }
   ],
   "source": [
    "coherence_score = []\n",
    "lda_model_list = []\n",
    "for i in range(2,21,2):\n",
    "    lda_model = LdaMulticore(doc_term_matrix, num_topics=i, id2word = dictionary, passes=200, random_state=42)\n",
    "    print(*lda_model.print_topics(num_words=6), sep='\\n')\n",
    "    lda_model_list.append(lda_model)\n",
    "    # Compute Coherence Score\n",
    "    coherence_model_lda = CoherenceModel(model=lda_model, texts=cat_news_en['text_tokenized_cleaned'], dictionary=dictionary, coherence='c_v')\n",
    "    coherence_lda = coherence_model_lda.get_coherence()\n",
    "    coherence_score.append(coherence_lda)\n",
    "    print('\\nCoherence Score: ', coherence_lda)\n",
    "    print('=========================================')"
   ]
  },
  {
   "cell_type": "markdown",
   "metadata": {},
   "source": [
    "**Calculate coherence score**"
   ]
  },
  {
   "cell_type": "code",
   "execution_count": 19,
   "metadata": {
    "ExecuteTime": {
     "end_time": "2019-05-17T01:06:16.550775Z",
     "start_time": "2019-05-17T01:06:16.351303Z"
    },
    "scrolled": true
   },
   "outputs": [
    {
     "data": {
      "image/png": "[encoded data removed]",
      "text/plain": [
       "<Figure size 432x288 with 1 Axes>"
      ]
     },
     "metadata": {
      "needs_background": "light"
     },
     "output_type": "display_data"
    }
   ],
   "source": [
    "import matplotlib.pyplot as plt\n",
    "x = range(2,21,2)\n",
    "plt.plot(x, coherence_score)\n",
    "plt.xlabel(\"Num Topics\")\n",
    "plt.ylabel(\"score\")\n",
    "plt.show()"
   ]
  },
  {
   "cell_type": "markdown",
   "metadata": {},
   "source": [
    "Based on the coherence score, the score plateaus starting around the number of topic ~8. After the number of topic starts to increase more than 8, the score starts to fluctuate and plateau. It can also be observed that as the number of topic increases, duplicate topics start to present. For instance, when n=14, two of the topics are:\n",
    "\n",
    "*(6, '0.054*\"market\" + 0.019*\"industry\" + 0.016*\"vehicle\" + 0.015*\"report\" + 0.015*\"global\" + 0.014*\"growth\"')*\n",
    "\n",
    "*(7, '0.059*\"market\" + 0.018*\"industry\" + 0.017*\"product\" + 0.016*\"report\" + 0.015*\"state\" + 0.014*\"analysis\"')*\n",
    "\n",
    "Therefore, given n=8 yields the highest coherence score, this would be selected as an optimal number of topics. To validate that there is no duplications, the graph is plotted below.\n",
    "\n"
   ]
  },
  {
   "cell_type": "code",
   "execution_count": 18,
   "metadata": {
    "ExecuteTime": {
     "end_time": "2019-05-17T01:00:25.134926Z",
     "start_time": "2019-05-17T01:00:09.134306Z"
    },
    "scrolled": false
   },
   "outputs": [
    {
     "name": "stderr",
     "output_type": "stream",
     "text": [
      "/home/targoon/.local/lib/python3.7/site-packages/pyLDAvis/_prepare.py:257: FutureWarning: Sorting because non-concatenation axis is not aligned. A future version\n",
      "of pandas will change to not sort by default.\n",
      "\n",
      "To accept the future behavior, pass 'sort=False'.\n",
      "\n",
      "To retain the current behavior and silence the warning, pass 'sort=True'.\n",
      "\n",
      "  return pd.concat([default_term_info] + list(topic_dfs))\n"
     ]
    },
    {
     "data": {
      "text/html": [
       "\n",
       "<link rel=\"stylesheet\" type=\"text/css\" href=\"https://cdn.rawgit.com/bmabey/pyLDAvis/files/ldavis.v1.0.0.css\">\n",
       "\n",
       "\n",
       "<div id=\"ldavis_el11041140451195917080327135331\"></div>\n",
       "<script type=\"text/javascript\">\n",
       "\n",
       "var ldavis_el11041140451195917080327135331_data = {\"mdsDat\": {\"x\": [0.069221361965401, 0.015493297867532112, -0.0922779142316097, -0.1920177377439048, 0.23719476771266965, 0.32309433086532185, 0.0025490247450425454, -0.3632571311804528], \"y\": [-0.014791530287388848, -0.3571820625028494, -0.12288929821108771, 0.21597136886774185, -0.15677425387727784, 0.17925582700039114, 0.2802101328890069, -0.023800183878536073], \"topics\": [1, 2, 3, 4, 5, 6, 7, 8], \"cluster\": [1, 1, 1, 1, 1, 1, 1, 1], \"Freq\": [16.289274215698242, 14.287640571594238, 11.26987075805664, 18.31659507751465, 12.06324291229248, 5.180519104003906, 12.107833862304688, 10.485023498535156]}, \"tinfo\": {\"Category\": [\"Default\", \"Default\", \"Default\", \"Default\", \"Default\", \"Default\", \"Default\", \"Default\", \"Default\", \"Default\", \"Default\", \"Default\", \"Default\", \"Default\", \"Default\", \"Default\", \"Default\", \"Default\", \"Default\", \"Default\", \"Default\", \"Default\", \"Default\", \"Default\", \"Default\", \"Default\", \"Default\", \"Default\", \"Default\", \"Default\", \"Topic1\", \"Topic1\", \"Topic1\", \"Topic1\", \"Topic1\", \"Topic1\", \"Topic1\", \"Topic1\", \"Topic1\", \"Topic1\", \"Topic1\", \"Topic1\", \"Topic1\", \"Topic1\", \"Topic1\", \"Topic1\", \"Topic1\", \"Topic1\", \"Topic1\", \"Topic1\", \"Topic1\", \"Topic1\", \"Topic1\", \"Topic1\", \"Topic1\", \"Topic1\", \"Topic1\", \"Topic1\", \"Topic1\", \"Topic1\", \"Topic1\", \"Topic1\", \"Topic1\", \"Topic1\", \"Topic1\", \"Topic1\", \"Topic1\", \"Topic1\", \"Topic1\", \"Topic1\", \"Topic1\", \"Topic1\", \"Topic1\", \"Topic1\", \"Topic1\", \"Topic1\", \"Topic1\", \"Topic1\", \"Topic1\", \"Topic1\", \"Topic1\", \"Topic2\", \"Topic2\", \"Topic2\", \"Topic2\", \"Topic2\", \"Topic2\", \"Topic2\", \"Topic2\", \"Topic2\", \"Topic2\", \"Topic2\", \"Topic2\", \"Topic2\", \"Topic2\", \"Topic2\", \"Topic2\", \"Topic2\", \"Topic2\", \"Topic2\", \"Topic2\", \"Topic2\", \"Topic2\", \"Topic2\", \"Topic2\", \"Topic2\", \"Topic2\", \"Topic2\", \"Topic2\", \"Topic2\", \"Topic2\", \"Topic2\", \"Topic2\", \"Topic2\", \"Topic2\", \"Topic2\", \"Topic2\", \"Topic2\", \"Topic2\", \"Topic2\", \"Topic2\", \"Topic2\", \"Topic2\", \"Topic2\", \"Topic2\", \"Topic2\", \"Topic2\", \"Topic2\", \"Topic2\", \"Topic2\", \"Topic2\", \"Topic2\", \"Topic2\", \"Topic2\", \"Topic2\", \"Topic2\", \"Topic3\", \"Topic3\", \"Topic3\", \"Topic3\", \"Topic3\", \"Topic3\", \"Topic3\", \"Topic3\", \"Topic3\", \"Topic3\", \"Topic3\", \"Topic3\", \"Topic3\", \"Topic3\", \"Topic3\", \"Topic3\", \"Topic3\", \"Topic3\", \"Topic3\", \"Topic3\", \"Topic3\", \"Topic3\", \"Topic3\", \"Topic3\", \"Topic3\", \"Topic3\", \"Topic3\", \"Topic3\", \"Topic3\", \"Topic3\", \"Topic3\", \"Topic3\", \"Topic3\", \"Topic3\", \"Topic3\", \"Topic3\", \"Topic3\", \"Topic3\", \"Topic3\", \"Topic3\", \"Topic3\", \"Topic3\", \"Topic3\", \"Topic3\", \"Topic3\", \"Topic3\", \"Topic3\", \"Topic3\", \"Topic3\", \"Topic4\", \"Topic4\", \"Topic4\", \"Topic4\", \"Topic4\", \"Topic4\", \"Topic4\", \"Topic4\", \"Topic4\", \"Topic4\", \"Topic4\", \"Topic4\", \"Topic4\", \"Topic4\", \"Topic4\", \"Topic4\", \"Topic4\", \"Topic4\", \"Topic4\", \"Topic4\", \"Topic4\", \"Topic4\", \"Topic4\", \"Topic4\", \"Topic4\", \"Topic4\", \"Topic4\", \"Topic4\", \"Topic4\", \"Topic4\", \"Topic4\", \"Topic4\", \"Topic4\", \"Topic4\", \"Topic4\", \"Topic4\", \"Topic4\", \"Topic4\", \"Topic4\", \"Topic4\", \"Topic4\", \"Topic4\", \"Topic4\", \"Topic4\", \"Topic4\", \"Topic4\", \"Topic4\", \"Topic4\", \"Topic4\", \"Topic4\", \"Topic4\", \"Topic4\", \"Topic4\", \"Topic4\", \"Topic4\", \"Topic4\", \"Topic4\", \"Topic4\", \"Topic4\", \"Topic4\", \"Topic4\", \"Topic4\", \"Topic4\", \"Topic5\", \"Topic5\", \"Topic5\", \"Topic5\", \"Topic5\", \"Topic5\", \"Topic5\", \"Topic5\", \"Topic5\", \"Topic5\", \"Topic5\", \"Topic5\", \"Topic5\", \"Topic5\", \"Topic5\", \"Topic5\", \"Topic5\", \"Topic5\", \"Topic5\", \"Topic5\", \"Topic5\", \"Topic5\", \"Topic5\", \"Topic5\", \"Topic5\", \"Topic5\", \"Topic5\", \"Topic5\", \"Topic5\", \"Topic5\", \"Topic5\", \"Topic5\", \"Topic5\", \"Topic5\", \"Topic5\", \"Topic5\", \"Topic5\", \"Topic5\", \"Topic5\", \"Topic5\", \"Topic5\", \"Topic5\", \"Topic5\", \"Topic5\", \"Topic5\", \"Topic5\", \"Topic5\", \"Topic5\", \"Topic5\", \"Topic5\", \"Topic5\", \"Topic5\", \"Topic6\", \"Topic6\", \"Topic6\", \"Topic6\", \"Topic6\", \"Topic6\", \"Topic6\", \"Topic6\", \"Topic6\", \"Topic6\", \"Topic6\", \"Topic6\", \"Topic6\", \"Topic6\", \"Topic6\", \"Topic6\", \"Topic6\", \"Topic6\", \"Topic6\", \"Topic6\", \"Topic6\", \"Topic6\", \"Topic6\", \"Topic6\", \"Topic6\", \"Topic6\", \"Topic6\", \"Topic6\", \"Topic6\", \"Topic6\", \"Topic6\", \"Topic6\", \"Topic6\", \"Topic6\", \"Topic6\", \"Topic6\", \"Topic6\", \"Topic6\", \"Topic6\", \"Topic6\", \"Topic6\", \"Topic6\", \"Topic6\", \"Topic6\", \"Topic6\", \"Topic6\", \"Topic7\", \"Topic7\", \"Topic7\", \"Topic7\", \"Topic7\", \"Topic7\", \"Topic7\", \"Topic7\", \"Topic7\", \"Topic7\", \"Topic7\", \"Topic7\", \"Topic7\", \"Topic7\", \"Topic7\", \"Topic7\", \"Topic7\", \"Topic7\", \"Topic7\", \"Topic7\", \"Topic7\", \"Topic7\", \"Topic7\", \"Topic7\", \"Topic7\", \"Topic7\", \"Topic7\", \"Topic7\", \"Topic7\", \"Topic7\", \"Topic7\", \"Topic7\", \"Topic7\", \"Topic7\", \"Topic7\", \"Topic7\", \"Topic7\", \"Topic7\", \"Topic7\", \"Topic7\", \"Topic7\", \"Topic7\", \"Topic7\", \"Topic7\", \"Topic7\", \"Topic7\", \"Topic7\", \"Topic7\", \"Topic7\", \"Topic7\", \"Topic7\", \"Topic7\", \"Topic7\", \"Topic7\", \"Topic7\", \"Topic7\", \"Topic7\", \"Topic7\", \"Topic8\", \"Topic8\", \"Topic8\", \"Topic8\", \"Topic8\", \"Topic8\", \"Topic8\", \"Topic8\", \"Topic8\", \"Topic8\", \"Topic8\", \"Topic8\", \"Topic8\", \"Topic8\", \"Topic8\", \"Topic8\", \"Topic8\", \"Topic8\", \"Topic8\", \"Topic8\", \"Topic8\", \"Topic8\", \"Topic8\", \"Topic8\", \"Topic8\", \"Topic8\", \"Topic8\", \"Topic8\", \"Topic8\", \"Topic8\", \"Topic8\", \"Topic8\", \"Topic8\", \"Topic8\", \"Topic8\", \"Topic8\", \"Topic8\", \"Topic8\", \"Topic8\", \"Topic8\", \"Topic8\", \"Topic8\", \"Topic8\", \"Topic8\", \"Topic8\", \"Topic8\", \"Topic8\", \"Topic8\", \"Topic8\", \"Topic8\", \"Topic8\", \"Topic8\", \"Topic8\", \"Topic8\"], \"Freq\": [259.0, 199.0, 89.0, 119.0, 235.0, 75.0, 94.0, 151.0, 113.0, 106.0, 113.0, 42.0, 55.0, 98.0, 45.0, 39.0, 93.0, 118.0, 51.0, 140.0, 72.0, 62.0, 52.0, 60.0, 74.0, 32.0, 59.0, 33.0, 58.0, 108.0, 12.657139778137207, 44.2950439453125, 10.727889060974121, 66.03321075439453, 14.587162971496582, 5.905745983123779, 12.553084373474121, 4.939792156219482, 93.96549987792969, 29.055822372436523, 75.33760833740234, 6.8570122718811035, 47.612850189208984, 21.061033248901367, 19.383119583129883, 12.658626556396484, 28.808528900146484, 12.448676109313965, 6.552309036254883, 24.629661560058594, 20.984468460083008, 7.863943576812744, 44.11422348022461, 19.864755630493164, 23.70680809020996, 11.526421546936035, 6.763946533203125, 12.076245307922363, 19.190364837646484, 73.97747039794922, 33.63385772705078, 23.163591384887695, 17.866519927978516, 47.727027893066406, 31.528900146484375, 34.416873931884766, 33.50957107543945, 31.90199851989746, 41.49620819091797, 22.92525291442871, 25.590871810913086, 38.48384094238281, 25.000228881835938, 40.55522537231445, 26.388322830200195, 33.235206604003906, 24.315567016601562, 24.934066772460938, 24.296483993530273, 25.505264282226562, 25.483537673950195, 45.0372314453125, 37.39161682128906, 23.05596923828125, 19.233156204223633, 16.366044998168945, 16.366044998168945, 16.365880966186523, 15.41036319732666, 15.410268783569336, 14.454673767089844, 12.543206214904785, 12.543203353881836, 11.587496757507324, 11.58748722076416, 11.587384223937988, 10.631808280944824, 10.631669044494629, 10.631669044494629, 10.63121509552002, 9.676136016845703, 9.676136016845703, 9.676136016845703, 9.676136016845703, 9.676136016845703, 9.676136016845703, 9.675945281982422, 9.675588607788086, 8.720352172851562, 8.720352172851562, 8.72033977508545, 33.54057693481445, 39.9925422668457, 78.67699432373047, 145.6757049560547, 24.80843162536621, 14.45467758178711, 25.79987144470215, 23.05604362487793, 26.848411560058594, 11.536377906799316, 36.88472366333008, 15.400373458862305, 27.648746490478516, 17.4762020111084, 14.145179748535156, 24.287290573120117, 19.23323631286621, 33.5219841003418, 22.615278244018555, 21.026866912841797, 15.745219230651855, 20.58740234375, 16.459901809692383, 17.56467628479004, 15.981693267822266, 25.699134826660156, 8.66224479675293, 26.69875144958496, 4.864171028137207, 27.1674861907959, 75.86524200439453, 7.585780620574951, 9.611343383789062, 6.6688995361328125, 5.785082817077637, 44.21515655517578, 8.520441055297852, 85.276611328125, 8.163347244262695, 17.734079360961914, 8.473041534423828, 14.271025657653809, 20.65768814086914, 6.2834248542785645, 25.34564208984375, 26.298595428466797, 16.51063346862793, 6.6700758934021, 10.354578971862793, 18.626754760742188, 4.250602722167969, 5.814327716827393, 10.551034927368164, 6.7631001472473145, 6.763612270355225, 34.12936019897461, 17.379878997802734, 25.340227127075195, 13.021050453186035, 22.822330474853516, 50.28876876831055, 25.75023651123047, 38.92790603637695, 18.47063446044922, 13.408926010131836, 38.333045959472656, 29.38507843017578, 22.17194366455078, 25.794517517089844, 16.22978973388672, 22.318822860717773, 17.620418548583984, 20.84856414794922, 16.681106567382812, 38.80668640136719, 58.07029724121094, 22.36284065246582, 44.609771728515625, 37.83991622924805, 15.593498229980469, 13.659364700317383, 12.69286823272705, 11.725970268249512, 10.758467674255371, 68.4981460571289, 8.824878692626953, 8.823619842529297, 18.437623977661133, 7.857232093811035, 7.856917381286621, 7.856318950653076, 7.855232238769531, 7.854918956756592, 6.8887529373168945, 5.923370838165283, 5.923370361328125, 5.920799255371094, 12.655113220214844, 21.084182739257812, 54.796775817871094, 4.955865383148193, 4.9543609619140625, 15.592578887939453, 20.562503814697266, 123.53172302246094, 19.463729858398438, 29.55576515197754, 19.239089965820312, 13.660722732543945, 16.560747146606445, 25.27720069885254, 142.7375030517578, 16.41710662841797, 87.57160186767578, 19.049402236938477, 20.232444763183594, 33.26533126831055, 17.529401779174805, 34.729774475097656, 33.16102600097656, 26.088871002197266, 25.229501724243164, 18.40883445739746, 29.396373748779297, 21.37706756591797, 19.462940216064453, 20.77155303955078, 32.55180740356445, 29.55597686767578, 28.264568328857422, 27.183494567871094, 25.771364212036133, 27.610671997070312, 26.243661880493164, 23.473377227783203, 21.936893463134766, 21.701433181762695, 88.59949493408203, 73.37699890136719, 31.515052795410156, 41.980552673339844, 26.758018493652344, 27.70945167541504, 23.787294387817383, 5.826364040374756, 5.825662136077881, 4.875349998474121, 4.875213623046875, 4.875213623046875, 4.874853610992432, 4.874809265136719, 4.874361991882324, 4.8673481941223145, 32.36040496826172, 31.761795043945312, 8.637089729309082, 42.93199157714844, 24.855205535888672, 7.729889392852783, 12.132224082946777, 6.778441905975342, 14.995895385742188, 6.658465385437012, 24.85521697998047, 25.393821716308594, 9.104177474975586, 9.632692337036133, 36.821067810058594, 47.60041427612305, 37.52146530151367, 22.8793888092041, 27.709505081176758, 15.01516056060791, 34.00344467163086, 20.022716522216797, 21.57659912109375, 8.681278228759766, 8.681268692016602, 24.19036293029785, 50.95569610595703, 14.69387149810791, 17.2032413482666, 21.36065101623535, 18.9835262298584, 18.586328506469727, 17.83757781982422, 21.495460510253906, 16.449058532714844, 16.94463348388672, 41.1882438659668, 38.50965118408203, 26.007905960083008, 25.11395263671875, 12.61319637298584, 25.114913940429688, 19.7264461517334, 9.040531158447266, 7.255277633666992, 6.362269878387451, 28.29633331298828, 5.469302654266357, 5.469293117523193, 28.668710708618164, 4.576380729675293, 4.576305866241455, 4.576294422149658, 18.986549377441406, 37.5615348815918, 19.28141975402832, 8.14756965637207, 14.399351119995117, 8.148262023925781, 4.710625648498535, 5.52967643737793, 5.469231605529785, 4.169942378997803, 11.61660099029541, 6.324908256530762, 11.72019100189209, 19.75699234008789, 32.21443557739258, 25.159412384033203, 17.573335647583008, 14.350884437561035, 14.69098949432373, 10.827337265014648, 17.26930809020996, 9.638638496398926, 11.392613410949707, 14.097082138061523, 9.041337966918945, 12.00279712677002, 11.280146598815918, 9.934309959411621, 9.646586418151855, 34.21562576293945, 19.061281204223633, 15.272074699401855, 11.48384952545166, 10.536582946777344, 10.535309791564941, 9.58951187133789, 9.589216232299805, 8.639142990112305, 8.638069152832031, 8.636170387268066, 7.693679332733154, 14.312539100646973, 14.325471878051758, 5.801026821136475, 5.801026821136475, 5.801026821136475, 5.801026821136475, 5.801026821136475, 11.468390464782715, 4.85338020324707, 4.844018459320068, 11.168793678283691, 28.184345245361328, 17.920963287353516, 11.482973098754883, 25.699487686157227, 15.077199935913086, 6.570980072021484, 5.801036357879639, 12.08383846282959, 26.05885887145996, 39.871543884277344, 14.385638236999512, 17.565683364868164, 30.815500259399414, 10.535551071166992, 42.42018127441406, 22.598670959472656, 18.220861434936523, 19.650861740112305, 33.375396728515625, 22.875503540039062, 28.573659896850586, 15.0408353805542, 22.519227981567383, 14.181303024291992, 18.163055419921875, 18.036277770996094, 14.983083724975586, 20.365131378173828, 17.78689193725586, 15.41144847869873, 16.03409767150879, 15.102510452270508, 15.011321067810059, 14.613975524902344, 14.798604965209961, 20.87623405456543, 10.497377395629883, 9.551309585571289, 31.946271896362305, 7.6659770011901855, 7.664241313934326, 7.658855438232422, 6.722992420196533, 6.716233730316162, 227.67320251464844, 5.77936315536499, 5.779130458831787, 5.779130458831787, 5.7760701179504395, 5.7755866050720215, 5.772773265838623, 27.477628707885742, 4.835766792297363, 4.835731029510498, 4.835575103759766, 4.83181619644165, 9.553925514221191, 21.077064514160156, 8.605488777160645, 11.643887519836426, 23.143373489379883, 34.96923828125, 49.128299713134766, 5.778850555419922, 5.779135227203369, 44.961517333984375, 16.25914192199707, 27.849992752075195, 22.120885848999023, 68.3592758178711, 33.30397033691406, 26.271907806396484, 25.504716873168945, 66.15413665771484, 24.649749755859375, 34.18012619018555, 29.90366554260254, 28.65949058532715, 26.248559951782227, 22.456270217895508, 21.31665802001953, 14.468035697937012, 14.99407958984375, 22.717819213867188, 33.72041320800781, 22.811521530151367, 26.601055145263672, 30.79694938659668, 17.791959762573242], \"Term\": [\"market\", \"plant\", \"amazon\", \"city\", \"company\", \"seattle\", \"estimate\", \"share\", \"u\", \"industry\", \"report\", \"blade\", \"skid\", \"case\", \"truck\", \"bucket\", \"china\", \"state\", \"steer\", \"product\", \"would\", \"growth\", \"sell\", \"analysis\", \"industrial\", \"forklift\", \"stock\", \"snow\", \"major\", \"say\", \"begin\", \"corporation\", \"deal\", \"would\", \"lose\", \"believe\", \"later\", \"conventional\", \"u\", \"percent\", \"china\", \"mention\", \"profit\", \"policy\", \"zone\", \"example\", \"pay\", \"problem\", \"effect\", \"think\", \"american\", \"giant\", \"corporate\", \"might\", \"america\", \"shift\", \"explore\", \"face\", \"infrastructure\", \"say\", \"come\", \"trade\", \"accord\", \"rate\", \"go\", \"investment\", \"move\", \"revenue\", \"global\", \"billion\", \"world\", \"like\", \"back\", \"one\", \"take\", \"home\", \"good\", \"look\", \"job\", \"state\", \"city\", \"wardian\", \"terrarium\", \"thrive\", \"canna\", \"victorian\", \"ward\", \"plastic\", \"duggan\", \"bottle\", \"humid\", \"nismo\", \"van\", \"quest\", \"physician\", \"pot\", \"fern\", \"reich\", \"lee\", \"survive\", \"cultivation\", \"lid\", \"pry\", \"sodden\", \"condensation\", \"boggy\", \"glue\", \"baby\", \"epic\", \"arctic\", \"usually\", \"soil\", \"water\", \"case\", \"plant\", \"air\", \"perhaps\", \"glass\", \"box\", \"add\", \"fly\", \"care\", \"england\", \"grow\", \"without\", \"choose\", \"day\", \"container\", \"one\", \"call\", \"get\", \"amount\", \"home\", \"small\", \"like\", \"post\", \"labor\", \"medical\", \"robot\", \"creature\", \"list\", \"estimate\", \"defense\", \"farm\", \"department\", \"relatively\", \"major\", \"color\", \"city\", \"main\", \"program\", \"public\", \"enough\", \"big\", \"variety\", \"local\", \"read\", \"center\", \"ten\", \"west\", \"though\", \"surround\", \"fully\", \"shape\", \"retail\", \"york\", \"live\", \"far\", \"set\", \"long\", \"small\", \"state\", \"value\", \"home\", \"place\", \"employer\", \"one\", \"like\", \"well\", \"rate\", \"two\", \"high\", \"area\", \"system\", \"look\", \"quarter\", \"stock\", \"earning\", \"jan\", \"rating\", \"leader\", \"friday\", \"recently\", \"johnson\", \"thursday\", \"industrial\", \"institutional\", \"december\", \"oil\", \"engage\", \"accelerate\", \"partner\", \"loss\", \"trust\", \"basis\", \"financing\", \"handling\", \"officer\", \"partnership\", \"investor\", \"operation\", \"shareholder\", \"replace\", \"return\", \"fund\", \"share\", \"own\", \"ga\", \"analyst\", \"insider\", \"warehouse\", \"line\", \"company\", \"buy\", \"product\", \"worth\", \"cut\", \"last\", \"ratio\", \"sell\", \"datum\", \"january\", \"customer\", \"client\", \"material\", \"solution\", \"cat\", \"financial\", \"business\", \"equipment\", \"price\", \"service\", \"lead\", \"report\", \"industry\", \"investment\", \"manufacturer\", \"build\", \"amazon\", \"seattle\", \"bezo\", \"grand\", \"jeff\", \"gather\", \"founder\", \"flower\", \"cloud\", \"coffee\", \"strain\", \"continent\", \"crisis\", \"shade\", \"chair\", \"bo\", \"ap\", \"image\", \"desk\", \"monday\", \"downtown\", \"assistant\", \"strike\", \"landmark\", \"idea\", \"nest\", \"dome\", \"ceo\", \"nature\", \"guest\", \"open\", \"employee\", \"health\", \"photo\", \"serve\", \"walk\", \"space\", \"show\", \"three\", \"associated\", \"insurer\", \"care\", \"company\", \"office\", \"follow\", \"cost\", \"day\", \"take\", \"build\", \"plant\", \"million\", \"work\", \"blade\", \"bucket\", \"backhoe\", \"excavator\", \"brush\", \"rubber\", \"fit\", \"delivery\", \"unsolicited\", \"plow\", \"forklift\", \"weld\", \"bobcat\", \"snow\", \"coupler\", \"holland\", \"keyword\", \"john\", \"truck\", \"deere\", \"plate\", \"grapple\", \"tractor\", \"jlg\", \"articulate\", \"quote\", \"discount\", \"komatsu\", \"dozer\", \"rock\", \"plu\", \"skid\", \"steer\", \"machine\", \"ship\", \"loader\", \"tree\", \"sell\", \"available\", \"full\", \"post\", \"quick\", \"service\", \"equipment\", \"back\", \"u\", \"vehicle\", \"technical\", \"qualification\", \"description\", \"perform\", \"communication\", \"limited\", \"engineer\", \"review\", \"package\", \"indium\", \"schedule\", \"ensure\", \"individual\", \"disability\", \"req\", \"female\", \"qualified\", \"unposting\", \"account\", \"capability\", \"resolve\", \"facility\", \"engine\", \"requirement\", \"skill\", \"process\", \"engineering\", \"cycle\", \"minority\", \"test\", \"develop\", \"support\", \"transportation\", \"development\", \"project\", \"duty\", \"work\", \"power\", \"team\", \"technology\", \"global\", \"job\", \"system\", \"demand\", \"provide\", \"issue\", \"increase\", \"area\", \"offer\", \"high\", \"lead\", \"may\", \"well\", \"business\", \"product\", \"manufacturing\", \"china\", \"driver\", \"overview\", \"etc\", \"forecast\", \"detailed\", \"gross\", \"specialist\", \"consumption\", \"overall\", \"market\", \"query\", \"statistical\", \"swot\", \"limitation\", \"carry\", \"factual\", \"player\", \"examine\", \"opportunities\", \"usd\", \"outlook\", \"analyse\", \"grader\", \"sample\", \"performance\", \"trend\", \"key\", \"growth\", \"prospect\", \"raw\", \"analysis\", \"regional\", \"segment\", \"road\", \"industry\", \"end\", \"type\", \"machinery\", \"report\", \"http\", \"research\", \"construction\", \"united\", \"region\", \"loader\", \"application\", \"heavy\", \"opportunity\", \"steer\", \"state\", \"skid\", \"cost\", \"product\", \"production\"], \"Total\": [259.0, 199.0, 89.0, 119.0, 235.0, 75.0, 94.0, 151.0, 113.0, 106.0, 113.0, 42.0, 55.0, 98.0, 45.0, 39.0, 93.0, 118.0, 51.0, 140.0, 72.0, 62.0, 52.0, 60.0, 74.0, 32.0, 59.0, 33.0, 58.0, 108.0, 13.483840942382812, 47.204586029052734, 11.554667472839355, 72.22565460205078, 16.362316131591797, 6.732325553894043, 14.438408851623535, 5.766970157623291, 113.84929656982422, 35.5899543762207, 93.21873474121094, 8.639777183532715, 60.586978912353516, 26.89569664001465, 25.00165557861328, 16.338579177856445, 37.563533782958984, 16.321762084960938, 8.641149520874023, 32.67304229736328, 27.877397537231445, 10.560336112976074, 59.58599853515625, 26.89078140258789, 32.63565444946289, 16.290889739990234, 9.58678150177002, 17.22264289855957, 27.891979217529297, 108.71609497070312, 51.40652084350586, 35.58953094482422, 26.978073120117188, 87.0594482421875, 53.81399917602539, 62.64889907836914, 61.04515838623047, 58.454368591308594, 90.96757507324219, 42.417484283447266, 50.82478713989258, 101.39759826660156, 52.120296478271484, 139.56552124023438, 60.22486114501953, 102.19281005859375, 50.94173049926758, 56.45797348022461, 53.48727798461914, 118.68335723876953, 119.07835388183594, 45.864280700683594, 38.21864700317383, 23.883018493652344, 20.06019401550293, 17.193086624145508, 17.193086624145508, 17.192981719970703, 16.23739242553711, 16.237333297729492, 15.281699180603027, 13.370245933532715, 13.370244979858398, 12.414538383483887, 12.414538383483887, 12.414469718933105, 11.458847999572754, 11.458760261535645, 11.458760261535645, 11.45846939086914, 10.503161430358887, 10.503161430358887, 10.503161430358887, 10.503161430358887, 10.503161430358887, 10.503161430358887, 10.50303840637207, 10.502811431884766, 9.547398567199707, 9.547398567199707, 9.547398567199707, 38.08666229248047, 46.843074798583984, 98.75328826904297, 199.51727294921875, 30.59264373779297, 17.19577980041504, 36.2891731262207, 32.81244659423828, 40.988834381103516, 13.362894058227539, 65.81237030029297, 21.91959571838379, 62.087642669677734, 27.633750915527344, 19.14214515686035, 60.90787124633789, 38.4276008605957, 139.56552124023438, 59.75614547729492, 65.92774200439453, 29.65182113647461, 102.19281005859375, 47.672847747802734, 101.39759826660156, 52.72610092163086, 27.54219627380371, 9.490086555480957, 30.393505096435547, 5.692281246185303, 32.98749542236328, 94.10157775878906, 9.505660057067871, 12.225059509277344, 8.555066108703613, 7.606056213378906, 58.782981872558594, 11.340407371520996, 119.07835388183594, 11.422503471374512, 25.611867904663086, 12.393526077270508, 20.929262161254883, 30.461538314819336, 9.479596138000488, 38.97751235961914, 40.86445236206055, 25.667633056640625, 10.485916137695312, 17.052047729492188, 32.33057403564453, 7.630835056304932, 10.489767074584961, 19.059036254882812, 12.34732437133789, 12.393828392028809, 62.987911224365234, 32.44501495361328, 52.54372787475586, 25.41176414489746, 47.672847747802734, 118.68335723876953, 58.26129150390625, 102.19281005859375, 41.97593307495117, 26.57888412475586, 139.56552124023438, 101.39759826660156, 64.69113159179688, 87.0594482421875, 41.1134147644043, 78.89988708496094, 52.26982116699219, 79.9664077758789, 56.45797348022461, 39.63240432739258, 59.923126220703125, 23.18927574157715, 46.38636779785156, 39.6085205078125, 16.419677734375, 14.485438346862793, 13.518742561340332, 12.551728248596191, 11.584352493286133, 74.2848129272461, 9.650472640991211, 9.649696350097656, 20.213781356811523, 8.683023452758789, 8.68283462524414, 8.682465553283691, 8.681709289550781, 8.68152141571045, 7.7150044441223145, 6.748964786529541, 6.748964309692383, 6.747317314147949, 14.463966369628906, 24.110748291015625, 63.6414794921875, 5.781592845916748, 5.780674457550049, 18.204835891723633, 24.09914779663086, 151.2585906982422, 23.131845474243164, 35.69903564453125, 23.125179290771484, 16.388734817504883, 20.253677368164062, 32.7840690612793, 235.61610412597656, 20.23195457458496, 140.85177612304688, 24.078216552734375, 26.030906677246094, 47.2109489440918, 22.145633697509766, 52.713592529296875, 49.922203063964844, 37.514583587646484, 37.456871032714844, 24.12157440185547, 51.75862121582031, 30.802288055419922, 26.539583206176758, 29.791786193847656, 73.8047866821289, 66.18588256835938, 61.7745246887207, 62.454429626464844, 59.314544677734375, 113.99768829345703, 106.37384033203125, 62.64889907836914, 42.07752990722656, 64.3587646484375, 89.42705535888672, 75.15338134765625, 32.34261703491211, 43.7569465637207, 28.54929542541504, 30.43068504333496, 26.645671844482422, 6.6541619300842285, 6.653713226318359, 5.703008651733398, 5.702919006347656, 5.702919006347656, 5.702720642089844, 5.702670574188232, 5.7023749351501465, 5.698212146759033, 38.09434509277344, 38.054500579833984, 10.472956657409668, 52.46345901489258, 30.428997039794922, 9.503694534301758, 15.231931686401367, 8.554841041564941, 19.0662899017334, 8.553399085998535, 32.359134674072266, 34.37718963623047, 12.378923416137695, 13.326918601989746, 51.425987243652344, 68.75316619873047, 54.20138168334961, 32.19284439086914, 40.98141098022461, 20.91413688659668, 56.293174743652344, 36.261077880859375, 47.72434997558594, 12.357673645019531, 12.391402244567871, 65.81237030029297, 235.61610412597656, 31.36750030517578, 43.848995208740234, 78.87808227539062, 60.90787124633789, 60.22486114501953, 64.3587646484375, 199.51727294921875, 47.794708251953125, 83.64517974853516, 42.023284912109375, 39.34453582763672, 26.842792510986328, 25.949283599853516, 13.448073387145996, 26.898653030395508, 21.540191650390625, 9.875702857971191, 8.090167045593262, 7.1971611976623535, 32.45503234863281, 6.304198265075684, 6.304193019866943, 33.3381233215332, 5.411247253417969, 5.411207675933838, 5.411201477050781, 22.540283203125, 45.08076477050781, 23.45467185974121, 9.94661808013916, 19.055892944335938, 10.87684154510498, 6.346805572509766, 8.186399459838867, 8.215081214904785, 6.406649112701416, 18.221923828125, 10.029627799987793, 19.244272232055664, 32.99614715576172, 55.74287414550781, 51.49491882324219, 37.997947692871094, 30.57557487487793, 37.864173889160156, 23.161237716674805, 52.713592529296875, 20.31613540649414, 30.67689323425293, 52.72610092163086, 18.578989028930664, 62.454429626464844, 66.18588256835938, 52.120296478271484, 113.84929656982422, 35.043941497802734, 19.88943862915039, 16.100418090820312, 12.312042236328125, 11.36481761932373, 11.363993644714355, 10.417696952819824, 10.417522430419922, 9.468463897705078, 9.467782974243164, 9.466628074645996, 8.522380828857422, 16.10244369506836, 16.117509841918945, 6.629134654998779, 6.629134654998779, 6.629134654998779, 6.629134654998779, 6.629134654998779, 13.259466171264648, 5.68168306350708, 5.6758599281311035, 13.2846040725708, 34.183349609375, 21.84723663330078, 14.209725379943848, 32.18076705932617, 18.981422424316406, 8.525436401367188, 7.583942413330078, 16.047922134399414, 36.98965835571289, 64.6324234008789, 19.9512996673584, 26.671218872070312, 54.33803176879883, 14.09873104095459, 83.64517974853516, 38.66674041748047, 31.42728042602539, 35.23040008544922, 90.96757507324219, 53.48727798461914, 79.9664077758789, 25.63748550415039, 65.68001556396484, 25.763751983642578, 51.46097946166992, 52.26982116699219, 30.945430755615234, 78.89988708496094, 59.314544677734375, 42.83551788330078, 64.69113159179688, 73.8047866821289, 140.85177612304688, 40.000389099121094, 93.21873474121094, 21.705310821533203, 11.325970649719238, 10.380837440490723, 34.96869659423828, 8.494791984558105, 8.493624687194824, 8.490618705749512, 7.551540374755859, 7.547287464141846, 259.97186279296875, 6.607912540435791, 6.607773780822754, 6.607773780822754, 6.605791091918945, 6.605596542358398, 6.603754997253418, 32.13252258300781, 5.664304256439209, 5.664282321929932, 5.664185523986816, 5.66176700592041, 11.329121589660645, 25.320268630981445, 10.38741683959961, 14.16189956665039, 28.326642990112305, 44.398319244384766, 62.48942184448242, 7.556405067443848, 7.571669578552246, 60.45703125, 21.726512908935547, 37.97315216064453, 30.096271514892578, 106.37384033203125, 48.350486755371094, 37.887516021728516, 36.791229248046875, 113.99768829345703, 36.07037353515625, 60.84857177734375, 54.078758239746094, 51.29830551147461, 46.440185546875, 37.864173889160156, 36.996620178222656, 21.810518264770508, 24.58333969116211, 51.49491882324219, 118.68335723876953, 55.74287414550781, 78.87808227539062, 140.85177612304688, 45.814002990722656], \"loglift\": [30.0, 29.0, 28.0, 27.0, 26.0, 25.0, 24.0, 23.0, 22.0, 21.0, 20.0, 19.0, 18.0, 17.0, 16.0, 15.0, 14.0, 13.0, 12.0, 11.0, 10.0, 9.0, 8.0, 7.0, 6.0, 5.0, 4.0, 3.0, 2.0, 1.0, 1.7513999938964844, 1.7510000467300415, 1.740399956703186, 1.725000023841858, 1.6998000144958496, 1.6836999654769897, 1.6747000217437744, 1.6598000526428223, 1.6226999759674072, 1.611799955368042, 1.601699948310852, 1.5836000442504883, 1.573699951171875, 1.570099949836731, 1.5600999593734741, 1.559499979019165, 1.549299955368042, 1.5437999963760376, 1.5378999710083008, 1.532099962234497, 1.5305999517440796, 1.5197999477386475, 1.5140000581741333, 1.5118000507354736, 1.4950000047683716, 1.4687000513076782, 1.46589994430542, 1.4596999883651733, 1.4407000541687012, 1.4297000169754028, 1.3904000520706177, 1.385200023651123, 1.4026000499725342, 1.2136000394821167, 1.2799999713897705, 1.2157000303268433, 1.214900016784668, 1.2091000080108643, 1.0298000574111938, 1.1993000507354736, 1.128499984741211, 0.8458999991416931, 1.0800000429153442, 0.5788000226020813, 0.9894999861717224, 0.6913999915122986, 1.0750999450683594, 0.9973999857902527, 1.0255999565124512, 0.27709999680519104, 0.2728999853134155, 1.9276000261306763, 1.9239000082015991, 1.9105000495910645, 1.9036999940872192, 1.8964999914169312, 1.8964999914169312, 1.8964999914169312, 1.8934999704360962, 1.8934999704360962, 1.8901000022888184, 1.8818999528884888, 1.8818999528884888, 1.8767999410629272, 1.8767999410629272, 1.8767999410629272, 1.87090003490448, 1.87090003490448, 1.87090003490448, 1.8708000183105469, 1.863800048828125, 1.863800048828125, 1.863800048828125, 1.863800048828125, 1.863800048828125, 1.863800048828125, 1.863800048828125, 1.863700032234192, 1.8552000522613525, 1.8552000522613525, 1.8552000522613525, 1.8186999559402466, 1.7877000570297241, 1.718500018119812, 1.6312999725341797, 1.736199975013733, 1.7720999717712402, 1.604599952697754, 1.592900037765503, 1.5226999521255493, 1.798799991607666, 1.3667999505996704, 1.5928000211715698, 1.1368000507354736, 1.4875999689102173, 1.6433000564575195, 1.0263999700546265, 1.253600001335144, 0.5194000005722046, 0.9740999937057495, 0.8029999732971191, 1.3128000497817993, 0.34360000491142273, 0.8823000192642212, 0.19259999692440033, 0.7520999908447266, 2.113800048828125, 2.0917999744415283, 2.0534000396728516, 2.0257999897003174, 1.9888999462127686, 1.9675999879837036, 1.9573999643325806, 1.9424999952316284, 1.934000015258789, 1.9093999862670898, 1.898300051689148, 1.8970999717712402, 1.8492000102996826, 1.847100019454956, 1.815500020980835, 1.8028000593185425, 1.8000999689102173, 1.794700026512146, 1.7718000411987305, 1.7526999711990356, 1.742300033569336, 1.7417999505996704, 1.7305999994277954, 1.6842000484466553, 1.631600022315979, 1.5979000329971313, 1.593000054359436, 1.5916999578475952, 1.5810999870300293, 1.5773999691009521, 1.5702999830245972, 1.5587999820709229, 1.4537999629974365, 1.5144000053405762, 1.4464000463485718, 1.3243999481201172, 1.3665000200271606, 1.217900037765503, 1.3621000051498413, 1.4988000392913818, 0.8907999992370605, 0.9445000290870667, 1.1122000217437744, 0.9666000008583069, 1.253600001335144, 0.9203000068664551, 1.0957000255584717, 0.838699996471405, 0.9638000130653381, 1.676300048828125, 1.6660000085830688, 1.6611000299453735, 1.6583000421524048, 1.6517000198364258, 1.6456999778747559, 1.6385999917984009, 1.6342999935150146, 1.6292999982833862, 1.6233999729156494, 1.6162999868392944, 1.6079000234603882, 1.6079000234603882, 1.6053999662399292, 1.5973999500274658, 1.5973999500274658, 1.5973999500274658, 1.5973000526428223, 1.5973000526428223, 1.5841000080108643, 1.5669000148773193, 1.5669000148773193, 1.5666999816894531, 1.5637999773025513, 1.5631999969482422, 1.547700047492981, 1.5433000326156616, 1.5430999994277954, 1.5425000190734863, 1.538699984550476, 1.4948999881744385, 1.5247000455856323, 1.5084999799728394, 1.5133999586105347, 1.5153000354766846, 1.4960999488830566, 1.4372999668121338, 1.1962000131607056, 1.4883999824523926, 1.222100019454956, 1.4630999565124512, 1.4453999996185303, 1.3473000526428223, 1.4636000394821167, 1.2800999879837036, 1.2883000373840332, 1.3341000080108643, 1.3021999597549438, 1.4270999431610107, 1.131600022315979, 1.3321000337600708, 1.3871999979019165, 1.3366999626159668, 0.8787999749183655, 0.8912000060081482, 0.9154999852180481, 0.8654999732971191, 0.8637999892234802, 0.2793999910354614, 0.2978000044822693, 0.7156999707221985, 1.0460000038146973, 0.6103000044822693, 2.1057000160217285, 2.091099977493286, 2.089099884033203, 2.0736000537872314, 2.0501999855041504, 2.0213000774383545, 2.001499891281128, 1.982200026512146, 1.982100009918213, 1.9581999778747559, 1.9581999778747559, 1.9581999778747559, 1.9581999778747559, 1.9581999778747559, 1.9580999612808228, 1.9573999643325806, 1.9519000053405762, 1.9342999458312988, 1.9222999811172485, 1.9144999980926514, 1.9127000570297241, 1.908400058746338, 1.8875000476837158, 1.8823000192642212, 1.874899983406067, 1.8645999431610107, 1.851199984550476, 1.8121000528335571, 1.8077000379562378, 1.7904000282287598, 1.780900001525879, 1.7473000288009644, 1.7472000122070312, 1.7734999656677246, 1.7237000465393066, 1.7835999727249146, 1.6109000444412231, 1.5211000442504883, 1.3212000131607056, 1.7618999481201172, 1.7591999769210815, 1.1141999959945679, 0.5838000178337097, 1.3566999435424805, 1.1793999671936035, 0.8087000250816345, 0.9491999745368958, 0.939300000667572, 0.8317999839782715, -0.11309999972581863, 1.0484000444412231, 0.5184000134468079, 2.940200090408325, 2.938800096511841, 2.9286999702453613, 2.927500009536743, 2.896199941635132, 2.891700029373169, 2.872299909591675, 2.8719000816345215, 2.851300001144409, 2.8369998931884766, 2.8231000900268555, 2.81820011138916, 2.81820011138916, 2.8094000816345215, 2.7927000522613525, 2.7927000522613525, 2.7927000522613525, 2.7887001037597656, 2.7778000831604004, 2.7643001079559326, 2.7607998847961426, 2.6800999641418457, 2.6714000701904297, 2.662100076675415, 2.5678999423980713, 2.5534000396728516, 2.5308001041412354, 2.5100998878479004, 2.4992001056671143, 2.464400053024292, 2.4474000930786133, 2.411900043487549, 2.24399995803833, 2.1891000270843506, 2.203900098800659, 2.0134999752044678, 2.199899911880493, 1.8443000316619873, 2.214600086212158, 1.9696999788284302, 1.6411000490188599, 2.240000009536743, 1.3109999895095825, 1.1907999515533447, 1.3027000427246094, 0.492000013589859, 2.087399959564209, 2.0687999725341797, 2.058500051498413, 2.0416998863220215, 2.035599946975708, 2.035599946975708, 2.0285000801086426, 2.0285000801086426, 2.019700050354004, 2.0195999145507812, 2.0195000171661377, 2.009000062942505, 1.993499994277954, 1.993499994277954, 1.9779000282287598, 1.9779000282287598, 1.9779000282287598, 1.9779000282287598, 1.9779000282287598, 1.9661999940872192, 1.9536999464035034, 1.9528000354766846, 1.9378000497817993, 1.9183000326156616, 1.9132000207901, 1.898300051689148, 1.8863999843597412, 1.88100004196167, 1.8509000539779663, 1.8432999849319458, 1.8276000022888184, 1.7610000371932983, 1.6282999515533447, 1.7842999696731567, 1.6936999559402466, 1.544100046157837, 1.8200000524520874, 1.4323999881744385, 1.5742000341415405, 1.5662000179290771, 1.527500033378601, 1.1086000204086304, 1.2618999481201172, 1.082200050354004, 1.5779999494552612, 1.0408999919891357, 1.514299988746643, 1.0699000358581543, 1.0472999811172485, 1.3860000371932983, 0.7570000290870667, 0.9068999886512756, 1.0891000032424927, 0.7164000272750854, 0.5248000025749207, -0.12759999930858612, 1.1044000387191772, 0.27090001106262207, 2.2163000106811523, 2.1791999340057373, 2.1719000339508057, 2.164799928665161, 2.152600049972534, 2.1524999141693115, 2.152100086212158, 2.1389999389648438, 2.1386001110076904, 2.1226000785827637, 2.1212000846862793, 2.1212000846862793, 2.1212000846862793, 2.121000051498413, 2.1208999156951904, 2.120699882507324, 2.0987000465393066, 2.097100019454956, 2.097100019454956, 2.097100019454956, 2.0966999530792236, 2.0848000049591064, 2.0717999935150146, 2.066999912261963, 2.0594000816345215, 2.053100109100342, 2.0164999961853027, 2.014699935913086, 1.9869999885559082, 1.9851000308990479, 1.9591000080108643, 1.9652999639511108, 1.945199966430664, 1.9472999572753906, 1.812999963760376, 1.8824000358581543, 1.8890999555587769, 1.888800024986267, 1.7109999656677246, 1.874500036239624, 1.6785000562667847, 1.6627999544143677, 1.6729999780654907, 1.6847000122070312, 1.732800006866455, 1.7038999795913696, 1.8447999954223633, 1.7608000040054321, 1.436900019645691, 0.9969000220298767, 1.3617000579833984, 1.1683000326156616, 0.7348999977111816, 1.309399962425232], \"logprob\": [30.0, 29.0, 28.0, 27.0, 26.0, 25.0, 24.0, 23.0, 22.0, 21.0, 20.0, 19.0, 18.0, 17.0, 16.0, 15.0, 14.0, 13.0, 12.0, 11.0, 10.0, 9.0, 8.0, 7.0, 6.0, 5.0, 4.0, 3.0, 2.0, 1.0, -5.656499862670898, -4.403900146484375, -5.821899890899658, -4.0046000480651855, -5.514599800109863, -6.418799877166748, -5.66480016708374, -6.597400188446045, -3.6517999172210693, -4.825500011444092, -3.87280011177063, -6.269499778747559, -4.331699848175049, -5.147299766540527, -5.230400085449219, -5.656400203704834, -4.834099769592285, -5.673099994659424, -6.314899921417236, -4.990799903869629, -5.151000022888184, -6.132500171661377, -4.4079999923706055, -5.2058000564575195, -5.0289998054504395, -5.750100135803223, -6.283199787139893, -5.703499794006348, -5.2403998374938965, -3.8910000324249268, -4.679200172424316, -5.052199840545654, -5.311800003051758, -4.3292999267578125, -4.743899822235107, -4.656199932098389, -4.6828999519348145, -4.732100009918213, -4.469200134277344, -5.0625, -4.952499866485596, -4.54449987411499, -4.975900173187256, -4.492099761962891, -4.921800136566162, -4.691100120544434, -5.003600120544434, -4.978499889373779, -5.00439977645874, -4.955900192260742, -4.956699848175049, -4.256199836730957, -4.442200183868408, -4.9257001876831055, -5.10699987411499, -5.268400192260742, -5.268400192260742, -5.268400192260742, -5.32859992980957, -5.32859992980957, -5.392600059509277, -5.5345001220703125, -5.5345001220703125, -5.613699913024902, -5.613699913024902, -5.613699913024902, -5.69980001449585, -5.69980001449585, -5.69980001449585, -5.699900150299072, -5.794000148773193, -5.794000148773193, -5.794000148773193, -5.794000148773193, -5.794000148773193, -5.794000148773193, -5.794000148773193, -5.794000148773193, -5.8979997634887695, -5.8979997634887695, -5.8979997634887695, -4.550899982452393, -4.375, -3.6982998847961426, -3.0822999477386475, -4.852499961853027, -5.392600059509277, -4.813300132751465, -4.9257001876831055, -4.773399829864502, -5.618100166320801, -4.4558000564575195, -5.3292999267578125, -4.744100093841553, -5.2027997970581055, -5.414299964904785, -4.873700141906738, -5.10699987411499, -4.551400184631348, -4.945000171661377, -5.0177998542785645, -5.30709981918335, -5.039000034332275, -5.262700080871582, -5.197800159454346, -5.292200088500977, -4.579899787902832, -5.667399883270264, -4.541800022125244, -6.244500160217285, -4.524400234222412, -3.4974000453948975, -5.800099849700928, -5.563399791717529, -5.928899765014648, -6.071100234985352, -4.037300109863281, -5.683899879455566, -3.380500078201294, -5.7266998291015625, -4.950900077819824, -5.689499855041504, -5.1682000160217285, -4.798299789428711, -5.988500118255615, -4.593800067901611, -4.5569000244140625, -5.02239990234375, -5.928800106048584, -5.488999843597412, -4.901800155639648, -6.379300117492676, -6.066100120544434, -5.470200061798096, -5.914899826049805, -5.91480016708374, -4.296199798583984, -4.971099853515625, -4.593999862670898, -5.259799957275391, -4.698599815368652, -3.908600091934204, -4.577899932861328, -4.164700031280518, -4.910200119018555, -5.230500221252441, -4.180099964141846, -4.445899963378906, -4.72760009765625, -4.576200008392334, -5.0395002365112305, -4.7210001945495605, -4.957300186157227, -4.789100170135498, -5.0121002197265625, -4.653500080108643, -4.250400066375732, -5.204699993133545, -4.514100074768066, -4.678699970245361, -5.565199851989746, -5.6975998878479, -5.770999908447266, -5.850299835205078, -5.936399936676025, -4.085299968719482, -6.134500026702881, -6.1346001625061035, -5.39769983291626, -6.2505998611450195, -6.250699996948242, -6.250699996948242, -6.250899791717529, -6.250899791717529, -6.382199764251709, -6.533199787139893, -6.533199787139893, -6.533599853515625, -5.77400016784668, -5.263500213623047, -4.3084001541137695, -6.71150016784668, -6.7118000984191895, -5.565299987792969, -5.288599967956543, -3.4955999851226807, -5.343500137329102, -4.92579984664917, -5.355100154876709, -5.697500228881836, -5.505000114440918, -5.082200050354004, -3.351099967956543, -5.513700008392334, -3.839600086212158, -5.364999771118164, -5.304800033569336, -4.807499885559082, -5.448200225830078, -4.764500141143799, -4.810699939727783, -5.050600051879883, -5.084000110626221, -5.399199962615967, -4.93120002746582, -5.24970006942749, -5.343500137329102, -5.278500080108643, -4.82919979095459, -4.92579984664917, -4.9704999923706055, -5.009500026702881, -5.06279993057251, -4.993899822235107, -5.044600009918213, -5.156199932098389, -5.223899841308594, -5.2347002029418945, -3.4103000164031982, -3.59879994392395, -4.443999767303467, -4.157199859619141, -4.607600212097168, -4.5725998878479, -4.725299835205078, -6.131999969482422, -6.1321001052856445, -6.310200214385986, -6.310299873352051, -6.310299873352051, -6.310299873352051, -6.310299873352051, -6.310400009155273, -6.3119001388549805, -4.417500019073486, -4.436200141906738, -5.738399982452393, -4.134799957275391, -4.681300163269043, -5.849299907684326, -5.398600101470947, -5.9807000160217285, -5.186600208282471, -5.998499870300293, -4.681300163269043, -4.659900188446045, -5.685699939727783, -5.629300117492676, -4.288300037384033, -4.031599998474121, -4.269499778747559, -4.764200210571289, -4.5725998878479, -5.185400009155273, -4.368000030517578, -4.897500038146973, -4.822800159454346, -5.7332000732421875, -5.7332000732421875, -4.708499908447266, -3.9635000228881836, -5.206999778747559, -5.049300193786621, -4.832900047302246, -4.950799942016602, -4.9720001220703125, -5.0131001472473145, -4.826600074768066, -5.094099998474121, -5.064499855041504, -3.3310000896453857, -3.398200035095215, -3.790800094604492, -3.825700044631958, -4.514400005340576, -3.825700044631958, -4.067200183868408, -4.847400188446045, -5.067399978637695, -5.198800086975098, -3.706399917602539, -5.349999904632568, -5.349999904632568, -3.6933999061584473, -5.528200149536133, -5.528299808502197, -5.528299808502197, -4.105400085449219, -3.4231998920440674, -4.090000152587891, -4.951399803161621, -4.381999969482422, -4.951399803161621, -5.499300003051758, -5.339000225067139, -5.349999904632568, -5.621300220489502, -4.596700191497803, -5.204699993133545, -4.587800025939941, -4.065700054168701, -3.57669997215271, -3.823899984359741, -4.182799816131592, -4.385300159454346, -4.3618998527526855, -4.667099952697754, -4.200200080871582, -4.783400058746338, -4.616199970245361, -4.403200149536133, -4.847400188446045, -4.564000129699707, -4.626100063323975, -4.753200054168701, -4.782599925994873, -4.3653998374938965, -4.950399875640869, -5.172100067138672, -5.457200050354004, -5.543300151824951, -5.543399810791016, -5.637400150299072, -5.637499809265137, -5.741799831390381, -5.7418999671936035, -5.742099761962891, -5.857699871063232, -5.236999988555908, -5.236100196838379, -6.140100002288818, -6.140100002288818, -6.140100002288818, -6.140100002288818, -6.140100002288818, -5.458499908447266, -6.318399906158447, -6.320400238037109, -5.485000133514404, -4.559299945831299, -5.0121002197265625, -5.457200050354004, -4.651599884033203, -5.184899806976318, -6.015399932861328, -6.140100002288818, -5.406199932098389, -4.637700080871582, -4.212399959564209, -5.231900215148926, -5.032199859619141, -4.470099925994873, -5.543300151824951, -4.1504998207092285, -4.780200004577637, -4.995500087738037, -4.920000076293945, -4.3902997970581055, -4.76800012588501, -4.545599937438965, -5.187300205230713, -4.783699989318848, -5.246200084686279, -4.998700141906738, -5.00570011138916, -5.191199779510498, -4.884300231933594, -5.019599914550781, -5.163000106811523, -5.1234002113342285, -5.183199882507324, -5.189300060272217, -5.216100215911865, -5.20359992980957, -4.71560001373291, -5.40310001373291, -5.497499942779541, -4.29010009765625, -5.717400074005127, -5.717599868774414, -5.718299865722656, -5.848700046539307, -5.849699974060059, -2.3262999057769775, -5.999899864196777, -5.999899864196777, -5.999899864196777, -6.000500202178955, -6.0005998611450195, -6.000999927520752, -4.440800189971924, -6.178199768066406, -6.178199768066406, -6.178199768066406, -6.178999900817871, -5.497200012207031, -4.705999851226807, -5.601799964904785, -5.2993998527526855, -4.612500190734863, -4.199699878692627, -3.859800100326538, -6.0, -5.999899864196777, -3.9484000205993652, -4.9654998779296875, -4.4274001121521, -4.657700061798096, -3.529400110244751, -4.248499870300293, -4.4857001304626465, -4.5152997970581055, -3.5622000694274902, -4.5493998527526855, -4.222599983215332, -4.356200218200684, -4.39870023727417, -4.486599922180176, -4.642600059509277, -4.694699764251709, -5.082300186157227, -5.046500205993652, -4.631100177764893, -4.236100196838379, -4.6269001960754395, -4.473199844360352, -4.3267998695373535, -4.875500202178955]}, \"token.table\": {\"Topic\": [4, 1, 4, 7, 3, 7, 2, 3, 4, 6, 7, 2, 3, 4, 5, 1, 5, 7, 8, 1, 4, 5, 6, 1, 2, 3, 4, 7, 8, 5, 7, 8, 4, 7, 2, 4, 5, 4, 7, 8, 2, 1, 3, 5, 7, 6, 8, 5, 7, 2, 5, 7, 3, 4, 6, 7, 2, 1, 2, 3, 4, 5, 6, 6, 4, 1, 1, 5, 1, 3, 5, 1, 4, 5, 6, 5, 6, 2, 2, 2, 6, 6, 6, 1, 2, 4, 5, 1, 3, 4, 5, 7, 8, 3, 4, 1, 2, 3, 4, 5, 6, 2, 7, 1, 2, 3, 5, 8, 1, 2, 3, 6, 7, 8, 4, 6, 1, 3, 5, 7, 4, 5, 5, 1, 7, 8, 1, 2, 1, 3, 5, 1, 4, 8, 5, 5, 1, 3, 6, 1, 2, 3, 6, 7, 1, 3, 4, 5, 8, 2, 1, 4, 6, 7, 8, 8, 1, 2, 4, 5, 1, 1, 4, 5, 7, 1, 7, 1, 3, 5, 7, 8, 6, 3, 5, 2, 4, 7, 2, 4, 3, 7, 3, 4, 5, 7, 8, 2, 3, 4, 5, 6, 1, 4, 3, 6, 8, 1, 3, 6, 4, 5, 7, 8, 1, 3, 7, 1, 5, 8, 2, 3, 7, 8, 3, 4, 7, 7, 1, 6, 2, 3, 5, 3, 5, 6, 8, 8, 2, 3, 6, 7, 4, 1, 3, 1, 4, 5, 7, 3, 5, 7, 1, 2, 3, 4, 8, 4, 1, 3, 4, 7, 7, 4, 7, 8, 1, 2, 3, 8, 1, 2, 3, 3, 7, 2, 3, 4, 6, 7, 8, 1, 3, 4, 8, 8, 8, 1, 5, 6, 1, 3, 8, 1, 5, 6, 4, 7, 8, 1, 2, 3, 3, 6, 7, 2, 3, 4, 7, 4, 6, 7, 5, 2, 3, 1, 2, 4, 5, 7, 8, 4, 8, 4, 6, 1, 3, 5, 4, 1, 2, 3, 4, 5, 6, 8, 3, 4, 7, 4, 7, 2, 4, 5, 7, 1, 2, 3, 4, 5, 7, 1, 3, 1, 2, 5, 1, 4, 6, 7, 2, 1, 2, 3, 4, 1, 2, 4, 5, 7, 6, 7, 8, 3, 5, 2, 6, 8, 1, 2, 4, 5, 7, 2, 3, 4, 8, 2, 5, 4, 1, 3, 5, 7, 3, 4, 8, 1, 2, 3, 4, 5, 6, 7, 6, 1, 2, 3, 5, 6, 4, 5, 8, 2, 1, 5, 1, 3, 5, 8, 1, 4, 7, 8, 7, 1, 7, 3, 4, 6, 8, 3, 4, 7, 8, 1, 4, 7, 4, 5, 4, 3, 4, 5, 1, 4, 8, 4, 7, 2, 3, 4, 7, 4, 5, 2, 4, 5, 7, 1, 5, 6, 8, 1, 3, 7, 1, 6, 8, 4, 3, 5, 7, 8, 6, 6, 8, 1, 3, 3, 5, 2, 4, 1, 2, 3, 4, 5, 7, 4, 2, 2, 1, 2, 3, 4, 5, 8, 8, 7, 1, 3, 4, 5, 1, 3, 6, 1, 2, 3, 6, 8, 1, 3, 5, 7, 1, 2, 3, 6, 1, 2, 3, 5, 1, 3, 4, 2, 4, 6, 7, 4, 6, 8, 1, 3, 3, 7, 8, 3, 4, 7, 8, 1, 3, 7, 8, 3, 4, 7, 8, 1, 2, 3, 4, 7, 8, 1, 5, 6, 7, 3, 1, 8, 1, 3, 5, 1, 4, 5, 8, 2, 7, 4, 5, 1, 2, 3, 6, 7, 1, 3, 5, 3, 5, 2, 1, 4, 6, 7, 1, 3, 5, 6, 8, 4, 4, 6, 1, 2, 3, 4, 5, 6, 1, 2, 3, 5, 7, 4, 7, 8, 3, 7, 8, 8, 8, 8, 3, 4, 7, 7, 4, 4, 7, 1, 4, 5, 1, 5, 7, 7, 8, 1, 2, 3, 2, 5, 6, 2, 1, 2, 3, 5, 1, 2, 4, 5, 6, 7, 2, 1, 6, 2, 8, 6, 1, 3, 5, 6, 1, 7, 1, 2, 4, 5, 6, 8, 2, 3, 4, 5, 6, 7, 3, 4, 5, 6, 8, 1, 7, 7, 8, 3, 4, 5, 6, 7, 8, 4, 7, 8, 1, 4, 5, 8, 3, 7, 1, 3, 4, 5, 7, 3, 8, 2, 3, 4, 5, 7, 8, 2, 3, 4, 7, 7, 4, 8, 2, 4, 6, 2, 6, 1, 3, 7, 8, 4, 8, 3, 4, 8, 1, 8, 1, 3, 4, 5, 6, 4, 1, 3, 8, 3, 7, 8, 2, 1, 3, 4, 3, 4, 5, 7, 8, 7, 4, 7, 3, 4, 8, 7, 3, 5, 4, 6, 1, 4, 5, 8, 7, 1, 2, 6, 8, 2, 3, 2, 6, 3, 6, 3, 8, 1, 2, 3, 4, 5, 7, 3, 5, 4, 8, 4, 6, 1, 2, 3, 5, 8, 1, 3, 4, 5, 6, 7, 1, 2, 3, 4, 7, 5, 1, 3, 4, 5, 2, 3, 4, 5, 8, 4, 1, 8, 1, 2, 3, 4, 6, 1, 2, 5, 6, 8, 3, 7, 1, 2, 3, 7, 2, 3, 6, 2, 1, 2, 6, 1, 4, 7, 1, 2, 4, 5, 7, 8, 1, 3, 4, 6, 8, 8, 4, 6, 8, 3, 4, 5, 1, 3, 5, 3, 4, 7, 8, 1, 3, 2, 8, 1, 3, 4, 5, 7, 1, 3, 5, 7, 8, 2, 3, 4, 7, 7, 3, 4, 5, 7, 1, 3, 2, 3, 6, 7, 1, 2, 3, 5, 1, 3, 5, 1, 2, 3, 4, 5, 8, 2, 4, 6, 7, 1, 4, 7, 8, 4, 7, 8, 1, 5, 6, 7, 7, 8, 6, 7, 8, 4, 1, 2, 3, 1, 2, 3, 8, 1, 4, 6, 7, 1, 3, 8, 7, 6, 8, 2, 2, 3, 4, 7, 8, 2, 3, 7, 8, 7, 2, 3, 5, 2, 2, 2, 4, 1, 2, 3, 6, 1, 2, 3, 4, 5, 7, 8, 3, 7, 8, 2, 3, 7, 1, 2, 3, 5, 7, 1, 3, 4, 5, 7, 3, 4, 1, 3, 7, 3, 4, 5, 1, 2, 8], \"Freq\": [0.9213581085205078, 0.6672084927558899, 0.25946998596191406, 0.07413427531719208, 0.07541781663894653, 0.8295959830284119, 0.6587159633636475, 0.04879377409815788, 0.09758754819631577, 0.02439688704907894, 0.17077821493148804, 0.8171899318695068, 0.0653751939535141, 0.09806279093027115, 0.9952245354652405, 0.7353920340538025, 0.12256533652544022, 0.09192400425672531, 0.06128266826272011, 0.7532984614372253, 0.1434854120016098, 0.03587135300040245, 0.03587135300040245, 0.16862370073795319, 0.5395958423614502, 0.20234845578670502, 0.10117422789335251, 0.08826809376478195, 0.8826809525489807, 0.03308134526014328, 0.21502874791622162, 0.7443302869796753, 0.8216152787208557, 0.12972871959209442, 0.07875184714794159, 0.05250123143196106, 0.840019702911377, 0.18920646607875824, 0.2162359654903412, 0.5676194429397583, 0.942665159702301, 0.09565749019384384, 0.34436696767807007, 0.21044647693634033, 0.34436696767807007, 0.7329229712486267, 0.24430765211582184, 0.8417779207229614, 0.10522224009037018, 0.08092138171195984, 0.7282924056053162, 0.16184276342391968, 0.19688783586025238, 0.147665873169899, 0.49221959710121155, 0.19688783586025238, 0.9521260261535645, 0.4796595871448517, 0.1343046873807907, 0.05755915120244026, 0.09593191742897034, 0.038372766226530075, 0.19186383485794067, 0.9686026573181152, 0.907322883605957, 0.9641169905662537, 0.8912224769592285, 0.9894066452980042, 0.16414141654968262, 0.689393937587738, 0.13131313025951385, 0.5422292351722717, 0.37720295786857605, 0.07072555273771286, 0.9756495952606201, 0.8774682283401489, 0.7931229472160339, 0.952094316482544, 0.9237970113754272, 0.7009535431861877, 0.274286150932312, 0.9666812419891357, 0.9912431240081787, 0.2796821892261505, 0.09322739392518997, 0.34183377027511597, 0.2796821892261505, 0.1625910848379135, 0.04064777120947838, 0.44712546467781067, 0.027098514139652252, 0.203238844871521, 0.10839405655860901, 0.1482802927494049, 0.7908281683921814, 0.2677548825740814, 0.3848976492881775, 0.050204042345285416, 0.06693872064352036, 0.10040808469057083, 0.15061213076114655, 0.9471493363380432, 0.8800209164619446, 0.015194712206721306, 0.5622043609619141, 0.04558413475751877, 0.36467307806015015, 0.9083206653594971, 0.05063122510910034, 0.7999733686447144, 0.04050498083233833, 0.09113620221614838, 0.010126245208084583, 0.010126245208084583, 0.7159117460250854, 0.22607740759849548, 0.077919140458107, 0.6623127460479736, 0.19479785859584808, 0.077919140458107, 0.23271244764328003, 0.7272263765335083, 0.8768276572227478, 0.8045592904090881, 0.16091185808181763, 0.021454915404319763, 0.20896299183368683, 0.7313705086708069, 0.20994579792022705, 0.7138156890869141, 0.06718265265226364, 0.16582664847373962, 0.7462199330329895, 0.041456662118434906, 0.9017521142959595, 0.87673020362854, 0.08818025141954422, 0.7936222553253174, 0.08818025141954422, 0.6613947153091431, 0.15562227368354797, 0.03890556842088699, 0.13616949319839478, 0.967969536781311, 0.09761641919612885, 0.02970934472978115, 0.6069194674491882, 0.21645379066467285, 0.04668611288070679, 0.952094316482544, 0.07396619766950607, 0.22189858555793762, 0.036983098834753036, 0.11094929277896881, 0.5547464489936829, 0.926963210105896, 0.07806888967752457, 0.4944362938404083, 0.41636738181114197, 0.8767439723014832, 0.8670064210891724, 0.73842853307724, 0.01678246632218361, 0.18460713326931, 0.05034739896655083, 0.9321128129959106, 0.04236876592040062, 0.17748910188674927, 0.13945572078227997, 0.2662336528301239, 0.076066754758358, 0.3423004150390625, 0.9240013957023621, 0.8783824443817139, 0.8767744898796082, 0.952094316482544, 0.6674342751502991, 0.3203684687614441, 0.1920793652534485, 0.768317461013794, 0.11729604750871658, 0.8210723400115967, 0.020031167194247246, 0.6610285043716431, 0.08012466877698898, 0.06009350344538689, 0.16024933755397797, 0.39403775334358215, 0.13134591281414032, 0.11492767184972763, 0.3119465410709381, 0.04925471916794777, 0.9519962668418884, 0.932671844959259, 0.04263542965054512, 0.8100731372833252, 0.08527085930109024, 0.10520047694444656, 0.8416038155555725, 0.9113275408744812, 0.11701615899801254, 0.15602153539657593, 0.5850808024406433, 0.11701615899801254, 0.11688980460166931, 0.8182286024093628, 0.8934342265129089, 0.09548401832580566, 0.859356164932251, 0.9417535066604614, 0.1622074991464615, 0.08110374957323074, 0.702899158000946, 0.027034582570195198, 0.03749359771609306, 0.26245519518852234, 0.6748847961425781, 0.9050955176353455, 0.3121756613254547, 0.6243513226509094, 0.15451587736606598, 0.06180635094642639, 0.7725793719291687, 0.16431695222854614, 0.8215847611427307, 0.5982275605201721, 0.29911378026008606, 0.967505156993866, 0.9237936735153198, 0.07092837244272232, 0.14185674488544464, 0.7802120447158813, 0.9487144351005554, 0.810077428817749, 0.11572534590959549, 0.17453742027282715, 0.10181349515914917, 0.6981496810913086, 0.02908957004547119, 0.4891100823879242, 0.2633669674396515, 0.2257431149482727, 0.12409389019012451, 0.062046945095062256, 0.08272925764322281, 0.020682314410805702, 0.6825163960456848, 0.9213380813598633, 0.0292540080845356, 0.0292540080845356, 0.0877620279788971, 0.819112241268158, 0.95992112159729, 0.10536617785692215, 0.7902463674545288, 0.052683088928461075, 0.04562127962708473, 0.6843191981315613, 0.04562127962708473, 0.18248511850833893, 0.04777999222278595, 0.23889996111392975, 0.6689199209213257, 0.06210237368941307, 0.8694332242012024, 0.942665159702301, 0.04532688483595848, 0.4532688558101654, 0.16619858145713806, 0.13598066568374634, 0.19641651213169098, 0.01062681432813406, 0.8076378703117371, 0.08501451462507248, 0.08501451462507248, 0.9633134007453918, 0.882720947265625, 0.7956628203392029, 0.18361449241638184, 0.9634177088737488, 0.7301720380783081, 0.1043102964758873, 0.1043102964758873, 0.6967571973800659, 0.23225238919258118, 0.058063097298145294, 0.07527510821819305, 0.8280261754989624, 0.9085739850997925, 0.2773923873901367, 0.18492825329303741, 0.5239633917808533, 0.8179919123649597, 0.16359838843345642, 0.9050955176353455, 0.9599568843841553, 0.06713259965181351, 0.7048922777175903, 0.20139779150485992, 0.8890252113342285, 0.9284968376159668, 0.04642484337091446, 0.9016913175582886, 0.8980090618133545, 0.07483408600091934, 0.02280553989112377, 0.06841661781072617, 0.18244431912899017, 0.38769418001174927, 0.2964720129966736, 0.02280553989112377, 0.05719400942325592, 0.9151041507720947, 0.09243559092283249, 0.8627321720123291, 0.03752954676747322, 0.03752954676747322, 0.9007091522216797, 0.9664878249168396, 0.06519564986228943, 0.228184774518013, 0.032597824931144714, 0.032597824931144714, 0.09779347479343414, 0.35857608914375305, 0.16298912465572357, 0.5719860196113586, 0.2859930098056793, 0.09533099830150604, 0.8714001178741455, 0.12448573112487793, 0.14005979895591736, 0.8403588533401489, 0.9201238751411438, 0.06572313606739044, 0.16684933006763458, 0.3185305595397949, 0.1820174604654312, 0.07584060728549957, 0.1820174604654312, 0.0455043651163578, 0.7575516700744629, 0.18938791751861572, 0.05511285737156868, 0.7164671421051025, 0.22045142948627472, 0.4507100582122803, 0.16489392518997192, 0.0109929284080863, 0.3627666234970093, 0.9521054625511169, 0.5946407914161682, 0.24157282710075378, 0.07433009892702103, 0.07433009892702103, 0.471126526594162, 0.1374119073152542, 0.235563263297081, 0.07852108776569366, 0.09815135598182678, 0.11848215758800507, 0.03949405252933502, 0.8293750882148743, 0.022853514179587364, 0.9598475694656372, 0.20990881323814392, 0.7346808910369873, 0.9418829083442688, 0.14495638012886047, 0.4509754180908203, 0.06442505866289139, 0.09663758426904678, 0.22548770904541016, 0.11201895773410797, 0.016002709046006203, 0.08001354336738586, 0.784132719039917, 0.2251082956790924, 0.7503610253334045, 0.8890252709388733, 0.01844971440732479, 0.25829601287841797, 0.7010891437530518, 0.03689942881464958, 0.1375483125448227, 0.18339775502681732, 0.64189213514328, 0.16476576030254364, 0.11406860500574112, 0.27883437275886536, 0.08872002363204956, 0.03802286833524704, 0.05069715902209282, 0.2534857988357544, 0.9240081310272217, 0.32291901111602783, 0.20549391210079193, 0.3816315531730652, 0.07828339189291, 0.00978542398661375, 0.2217886596918106, 0.08317074924707413, 0.6930896043777466, 0.9161285161972046, 0.15734577178955078, 0.7867288589477539, 0.052556201815605164, 0.07883430272340775, 0.8408992290496826, 0.026278100907802582, 0.11659319698810577, 0.25261858105659485, 0.34977957606315613, 0.27205079793930054, 0.9507080912590027, 0.06204432249069214, 0.8686205148696899, 0.02692340314388275, 0.9153957366943359, 0.013461701571941376, 0.02692340314388275, 0.0376032292842865, 0.24442099034786224, 0.06580565124750137, 0.6392549276351929, 0.6811994314193726, 0.14341039955615997, 0.14341039955615997, 0.8542453050613403, 0.12203504890203476, 0.9325968027114868, 0.08070112019777298, 0.16140224039554596, 0.7263100743293762, 0.542707085609436, 0.36712536215782166, 0.06384789198637009, 0.8709808588027954, 0.08295055478811264, 0.03881422057747841, 0.03881422057747841, 0.34932801127433777, 0.5433990955352783, 0.9701126217842102, 0.021558057516813278, 0.0799688994884491, 0.6930637955665588, 0.10662519931793213, 0.10662519931793213, 0.03502713516354561, 0.945732593536377, 0.7877978682518005, 0.1575595736503601, 0.4487048387527466, 0.11217620968818665, 0.43000879883766174, 0.044365014880895615, 0.8429352641105652, 0.08873002976179123, 0.9560436606407166, 0.02252337522804737, 0.06757012754678726, 0.1126168742775917, 0.7883181571960449, 0.9240092039108276, 0.6585473418235779, 0.32927367091178894, 0.0363079234957695, 0.9440060257911682, 0.11689288169145584, 0.8182501792907715, 0.2753598392009735, 0.6989904046058655, 0.9003762006759644, 0.06925971060991287, 0.033718541264534, 0.43834105134010315, 0.21917052567005157, 0.30346688628196716, 0.9744405746459961, 0.9599642157554626, 0.952094316482544, 0.37476232647895813, 0.17751899361610413, 0.2860028147697449, 0.01972433365881443, 0.10848382860422134, 0.01972433365881443, 0.9082939624786377, 0.9599050879478455, 0.09150785952806473, 0.030502619221806526, 0.7625654935836792, 0.1220104768872261, 0.03031451813876629, 0.8184919953346252, 0.12125807255506516, 0.2698930501937866, 0.1905127465724945, 0.5397861003875732, 0.3961528539657593, 0.581024169921875, 0.10262327641248703, 0.6413954496383667, 0.10262327641248703, 0.12827908992767334, 0.19675926864147186, 0.07870370894670486, 0.5115740895271301, 0.19675926864147186, 0.44280725717544556, 0.12398602813482285, 0.3011089265346527, 0.12398602813482285, 0.9167406558990479, 0.061116043478250504, 0.9214774966239929, 0.1579032689332962, 0.21053768694400787, 0.4737097918987274, 0.13158605992794037, 0.19026273488998413, 0.08154117316007614, 0.7066901922225952, 0.26263943314552307, 0.7003718614578247, 0.7485159635543823, 0.05103518068790436, 0.18712899088859558, 0.09506261348724365, 0.5228443741798401, 0.023765653371810913, 0.3564848005771637, 0.3499965965747833, 0.04999951273202896, 0.3749963641166687, 0.22499781847000122, 0.026925990357995033, 0.06539168953895569, 0.030772561207413673, 0.8770179748535156, 0.019320452585816383, 0.019320452585816383, 0.03864090517163277, 0.5602931380271912, 0.21252498030662537, 0.13524316251277924, 0.28014135360717773, 0.326831579208374, 0.023345112800598145, 0.35017669200897217, 0.9483580589294434, 0.8102060556411743, 0.1157437264919281, 0.7437493205070496, 0.1859373301267624, 0.03718746453523636, 0.29291945695877075, 0.14645972847938538, 0.33476510643959045, 0.18830536305904388, 0.13185754418373108, 0.7911452651023865, 0.17154797911643982, 0.8196181058883667, 0.5569647550582886, 0.049143947660923004, 0.16381315886974335, 0.06552526354789734, 0.16381315886974335, 0.1615649312734604, 0.0807824656367302, 0.7270421981811523, 0.1169125884771347, 0.8183881044387817, 0.9723082184791565, 0.16157473623752594, 0.09694484621286392, 0.25851958990097046, 0.484724223613739, 0.1912807822227478, 0.1912807822227478, 0.4782019555568695, 0.031880129128694534, 0.0956403911113739, 0.8892422914505005, 0.8904815912246704, 0.04947119951248169, 0.29376882314682007, 0.24361318349838257, 0.27227354049682617, 0.12180659174919128, 0.050155654549598694, 0.028660373762249947, 0.07778168469667435, 0.07778168469667435, 0.09722710400819778, 0.719480574131012, 0.019445421174168587, 0.8642162084579468, 0.12570418417453766, 0.8827243447303772, 0.2847456932067871, 0.08135591447353363, 0.6101693511009216, 0.8831165432929993, 0.9274855256080627, 0.8829265236854553, 0.04323044791817665, 0.8213784694671631, 0.0864608958363533, 0.9505921602249146, 0.9213972687721252, 0.8987852931022644, 0.0691373273730278, 0.7720253467559814, 0.13310781121253967, 0.07986468821763992, 0.8148366808891296, 0.16858689486980438, 0.9678993821144104, 0.1412239968776703, 0.8473439812660217, 0.05815380439162254, 0.814153254032135, 0.05815380439162254, 0.18637682497501373, 0.7144444584846497, 0.09318841248750687, 0.9666086435317993, 0.28587809205055237, 0.023823175579309464, 0.42881715297698975, 0.23823174834251404, 0.08520565181970596, 0.7317662239074707, 0.03508468344807625, 0.10525404661893845, 0.025060486048460007, 0.020048389211297035, 0.9306122660636902, 0.10053668171167374, 0.8042934536933899, 0.12448447197675705, 0.8402701616287231, 0.8336620330810547, 0.09091970324516296, 0.09091970324516296, 0.21214598417282104, 0.606131374835968, 0.7807940244674683, 0.18590334057807922, 0.13276156783103943, 0.30345502495765686, 0.24655720591545105, 0.018965939059853554, 0.26552313566207886, 0.018965939059853554, 0.9666140079498291, 0.10344807803630829, 0.10344807803630829, 0.07758606225252151, 0.12931010127067566, 0.5948264598846436, 0.12950322031974792, 0.45326128602027893, 0.11331532150506973, 0.09712741523981094, 0.1942548304796219, 0.7352147102355957, 0.18380367755889893, 0.8079360127449036, 0.18644677102565765, 0.014199323952198029, 0.6247702836990356, 0.028398647904396057, 0.014199323952198029, 0.10649493336677551, 0.22008952498435974, 0.43654775619506836, 0.15279170870780945, 0.392892986536026, 0.7922494411468506, 0.04951559007167816, 0.09903118014335632, 0.06602078676223755, 0.7027992010116577, 0.2733108103275299, 0.23924311995506287, 0.018403315916657448, 0.09201658517122269, 0.07361326366662979, 0.5705028176307678, 0.13233806192874908, 0.7940283417701721, 0.09135198593139648, 0.015225331299006939, 0.2283799648284912, 0.09135198593139648, 0.3501826226711273, 0.2283799648284912, 0.952094316482544, 0.6454982757568359, 0.24206186830997467, 0.931652843952179, 0.9050955176353455, 0.9840432405471802, 0.9080023169517517, 0.9666086435317993, 0.48441818356513977, 0.48441818356513977, 0.2434546798467636, 0.608636736869812, 0.5513473749160767, 0.2986465096473694, 0.01148640364408493, 0.13783684372901917, 0.9593895077705383, 0.02524709329009056, 0.13546688854694366, 0.8128013014793396, 0.04515562951564789, 0.13207127153873444, 0.7924275994300842, 0.04894229397177696, 0.6362497806549072, 0.17129802703857422, 0.09788458794355392, 0.04894229397177696, 0.9616279006004333, 0.12919844686985016, 0.3014630377292633, 0.5598599314689636, 0.09205342829227448, 0.1380801498889923, 0.7364274263381958, 0.9599642157554626, 0.13147418200969696, 0.7888450622558594, 0.864950954914093, 0.008772107772529125, 0.2456190139055252, 0.0350884310901165, 0.1315816193819046, 0.5789591073989868, 0.9050955176353455, 0.13731713593006134, 0.8239028453826904, 0.16434238851070404, 0.2793820798397064, 0.5587641596794128, 0.8809238076210022, 0.5669244527816772, 0.4049460291862488, 0.8788873553276062, 0.10986091941595078, 0.5474355816841125, 0.11975152790546417, 0.0513220839202404, 0.2737177908420563, 0.9505237936973572, 0.033226706087589264, 0.09968011826276779, 0.09968011826276779, 0.730987548828125, 0.09870529919862747, 0.8883476853370667, 0.3637445867061615, 0.6235621571540833, 0.03717658296227455, 0.9294145703315735, 0.09627032279968262, 0.8664329051971436, 0.6806719899177551, 0.009198269806802273, 0.08278442919254303, 0.12877577543258667, 0.10118097066879272, 0.9387048482894897, 0.013306121341884136, 0.9713468551635742, 0.23700955510139465, 0.7373630404472351, 0.6639653444290161, 0.3224974572658539, 0.12200653553009033, 0.12200653553009033, 0.04880261421203613, 0.6832365989685059, 0.024401307106018066, 0.08005837351083755, 0.0320233479142189, 0.4323152005672455, 0.0640466958284378, 0.19214008748531342, 0.19214008748531342, 0.17128591239452362, 0.09515883773565292, 0.4757941961288452, 0.17128591239452362, 0.0761270672082901, 0.8767821788787842, 0.05246854946017265, 0.5771540403366089, 0.15740564465522766, 0.2098741978406906, 0.019833583384752274, 0.05288955941796303, 0.8197881579399109, 0.019833583384752274, 0.09255672991275787, 0.8648135662078857, 0.7366080284118652, 0.24553599953651428, 0.06541168689727783, 0.32705843448638916, 0.032705843448638916, 0.09811753034591675, 0.4578818380832672, 0.13788889348506927, 0.3033555746078491, 0.5515555739402771, 0.5740644335746765, 0.412608802318573, 0.14074867963790894, 0.7741177082061768, 0.1468341052532196, 0.33562082052230835, 0.48245492577552795, 0.020976301282644272, 0.08998706936836243, 0.029995689168572426, 0.8698750138282776, 0.952094316482544, 0.05251182243227959, 0.8927009701728821, 0.05251182243227959, 0.09739536046981812, 0.6817675232887268, 0.19479072093963623, 0.08882071077823639, 0.23093385994434357, 0.05329242721199989, 0.6039808392524719, 0.017764143645763397, 0.9422163963317871, 0.21907031536102295, 0.4212890565395355, 0.04212890565395355, 0.03370312601327896, 0.2864765524864197, 0.9080213904380798, 0.05825817584991455, 0.485484778881073, 0.4466460049152374, 0.016688046976923943, 0.9679067730903625, 0.8767439723014832, 0.0656515583395958, 0.0656515583395958, 0.7878186702728271, 0.07736055552959442, 0.1856653243303299, 0.6188844442367554, 0.10830477625131607, 0.3931417763233185, 0.5241890549659729, 0.9599885940551758, 0.9080213904380798, 0.11254725605249405, 0.2626102566719055, 0.0875367596745491, 0.18757876753807068, 0.3626522719860077, 0.4317153990268707, 0.11623106896877289, 0.31548434495925903, 0.06641775369644165, 0.06641775369644165, 0.19091694056987762, 0.03181948885321617, 0.19091694056987762, 0.5727508068084717, 0.9552808403968811, 0.028384577482938766, 0.22707661986351013, 0.170307457447052, 0.5676915645599365, 0.28609803318977356, 0.6675620675086975, 0.9681138396263123, 0.12462672591209412, 0.06231336295604706, 0.7477603554725647, 0.7651568055152893, 0.03060627169907093, 0.09181881695985794, 0.09181881695985794, 0.06186094880104065, 0.5876790285110474, 0.34023523330688477, 0.16762931644916534, 0.020953664556145668, 0.2304903119802475, 0.10476832091808319, 0.460980623960495, 0.020953664556145668, 0.9630273580551147, 0.9495567679405212, 0.735507607460022, 0.1838769018650055, 0.6462574601173401, 0.19668705761432648, 0.08429445326328278, 0.05619630217552185, 0.1503661423921585, 0.7017086744308472, 0.10024409741163254, 0.302229106426239, 0.1727023422718048, 0.4749314486980438, 0.0431755855679512, 0.14120981097221375, 0.8119564056396484, 0.8429315686225891, 0.13309445977210999, 0.022182410582900047, 0.9214974641799927, 0.364844411611557, 0.21890665590763092, 0.3891673684120178, 0.05278783664107323, 0.18475742638111115, 0.05278783664107323, 0.686241865158081, 0.8256528973579407, 0.00878354161977768, 0.0878354161977768, 0.07026833295822144, 0.27291348576545715, 0.17544439435005188, 0.5653207898139954, 0.9050955176353455, 0.865247905254364, 0.8827394247055054, 0.942665159702301, 0.085820272564888, 0.44626542925834656, 0.32611703872680664, 0.12014838308095932, 0.03432811051607132, 0.9723082780838013, 0.6329383850097656, 0.21097944676876068, 0.10548972338438034, 0.9702104926109314, 0.9306066036224365, 0.2390727400779724, 0.7172182202339172, 0.9306066036224365, 0.9811556935310364, 0.14812125265598297, 0.8393537402153015, 0.08539149165153503, 0.8539149165153503, 0.04269574582576752, 0.7931222915649414, 0.12366455793380737, 0.030916139483451843, 0.3400775194168091, 0.061832278966903687, 0.07729034870862961, 0.24732911586761475, 0.10820648819208145, 0.586439847946167, 0.05864398181438446, 0.2932199239730835, 0.6151897311210632, 0.2171257883310318, 0.14475052058696747, 0.1195526123046875, 0.03586578369140625, 0.13150787353515625, 0.20323944091796875, 0.5021209716796875, 0.511561393737793, 0.15740351378917694, 0.13772808015346527, 0.07870175689458847, 0.11805263161659241, 0.16612526774406433, 0.7890949845314026, 0.9138027429580688, 0.027690991759300232, 0.055381983518600464, 0.5647972226142883, 0.2420559525489807, 0.1613706350326538, 0.7599496841430664, 0.1599894016981125, 0.03999735042452812], \"Term\": [\"accelerate\", \"accord\", \"accord\", \"accord\", \"account\", \"account\", \"add\", \"add\", \"add\", \"add\", \"add\", \"air\", \"air\", \"air\", \"amazon\", \"america\", \"america\", \"america\", \"america\", \"american\", \"american\", \"american\", \"american\", \"amount\", \"amount\", \"amount\", \"amount\", \"analyse\", \"analyse\", \"analysis\", \"analysis\", \"analysis\", \"analyst\", \"analyst\", \"ap\", \"ap\", \"ap\", \"application\", \"application\", \"application\", \"arctic\", \"area\", \"area\", \"area\", \"area\", \"articulate\", \"articulate\", \"assistant\", \"assistant\", \"associated\", \"associated\", \"associated\", \"available\", \"available\", \"available\", \"available\", \"baby\", \"back\", \"back\", \"back\", \"back\", \"back\", \"back\", \"backhoe\", \"basis\", \"begin\", \"believe\", \"bezo\", \"big\", \"big\", \"big\", \"billion\", \"billion\", \"billion\", \"blade\", \"bo\", \"bobcat\", \"boggy\", \"bottle\", \"box\", \"box\", \"brush\", \"bucket\", \"build\", \"build\", \"build\", \"build\", \"business\", \"business\", \"business\", \"business\", \"business\", \"business\", \"buy\", \"buy\", \"call\", \"call\", \"call\", \"call\", \"call\", \"call\", \"canna\", \"capability\", \"care\", \"care\", \"care\", \"care\", \"carry\", \"case\", \"case\", \"case\", \"case\", \"case\", \"case\", \"cat\", \"cat\", \"center\", \"center\", \"center\", \"center\", \"ceo\", \"ceo\", \"chair\", \"china\", \"china\", \"china\", \"choose\", \"choose\", \"city\", \"city\", \"city\", \"client\", \"client\", \"client\", \"cloud\", \"coffee\", \"color\", \"color\", \"color\", \"come\", \"come\", \"come\", \"come\", \"communication\", \"company\", \"company\", \"company\", \"company\", \"company\", \"condensation\", \"construction\", \"construction\", \"construction\", \"construction\", \"construction\", \"consumption\", \"container\", \"container\", \"container\", \"continent\", \"conventional\", \"corporate\", \"corporate\", \"corporate\", \"corporate\", \"corporation\", \"corporation\", \"cost\", \"cost\", \"cost\", \"cost\", \"cost\", \"coupler\", \"creature\", \"crisis\", \"cultivation\", \"customer\", \"customer\", \"cut\", \"cut\", \"cycle\", \"cycle\", \"datum\", \"datum\", \"datum\", \"datum\", \"datum\", \"day\", \"day\", \"day\", \"day\", \"day\", \"deal\", \"december\", \"deere\", \"deere\", \"deere\", \"defense\", \"defense\", \"delivery\", \"demand\", \"demand\", \"demand\", \"demand\", \"department\", \"department\", \"description\", \"desk\", \"desk\", \"detailed\", \"develop\", \"develop\", \"develop\", \"develop\", \"development\", \"development\", \"development\", \"disability\", \"discount\", \"discount\", \"dome\", \"dome\", \"dome\", \"downtown\", \"downtown\", \"dozer\", \"dozer\", \"driver\", \"duggan\", \"duty\", \"duty\", \"duty\", \"earning\", \"effect\", \"effect\", \"employee\", \"employee\", \"employee\", \"employee\", \"employer\", \"employer\", \"employer\", \"end\", \"end\", \"end\", \"end\", \"end\", \"engage\", \"engine\", \"engine\", \"engine\", \"engine\", \"engineer\", \"engineering\", \"engineering\", \"engineering\", \"england\", \"england\", \"england\", \"england\", \"enough\", \"enough\", \"enough\", \"ensure\", \"ensure\", \"epic\", \"equipment\", \"equipment\", \"equipment\", \"equipment\", \"equipment\", \"estimate\", \"estimate\", \"estimate\", \"estimate\", \"etc\", \"examine\", \"example\", \"example\", \"excavator\", \"explore\", \"explore\", \"explore\", \"face\", \"face\", \"face\", \"facility\", \"facility\", \"factual\", \"far\", \"far\", \"far\", \"farm\", \"farm\", \"female\", \"fern\", \"financial\", \"financial\", \"financial\", \"financing\", \"fit\", \"fit\", \"flower\", \"fly\", \"fly\", \"follow\", \"follow\", \"follow\", \"follow\", \"follow\", \"follow\", \"forecast\", \"forecast\", \"forklift\", \"forklift\", \"founder\", \"founder\", \"founder\", \"friday\", \"full\", \"full\", \"full\", \"full\", \"full\", \"full\", \"full\", \"fully\", \"fully\", \"fully\", \"fund\", \"fund\", \"ga\", \"ga\", \"gather\", \"gather\", \"get\", \"get\", \"get\", \"get\", \"get\", \"get\", \"giant\", \"giant\", \"glass\", \"glass\", \"glass\", \"global\", \"global\", \"global\", \"global\", \"glue\", \"go\", \"go\", \"go\", \"go\", \"good\", \"good\", \"good\", \"good\", \"good\", \"grader\", \"grader\", \"grader\", \"grand\", \"grand\", \"grapple\", \"grapple\", \"gross\", \"grow\", \"grow\", \"grow\", \"grow\", \"grow\", \"growth\", \"growth\", \"growth\", \"growth\", \"guest\", \"guest\", \"handling\", \"health\", \"health\", \"health\", \"health\", \"heavy\", \"heavy\", \"heavy\", \"high\", \"high\", \"high\", \"high\", \"high\", \"high\", \"high\", \"holland\", \"home\", \"home\", \"home\", \"home\", \"home\", \"http\", \"http\", \"http\", \"humid\", \"idea\", \"idea\", \"image\", \"image\", \"image\", \"image\", \"increase\", \"increase\", \"increase\", \"increase\", \"indium\", \"individual\", \"individual\", \"industrial\", \"industrial\", \"industrial\", \"industrial\", \"industry\", \"industry\", \"industry\", \"industry\", \"infrastructure\", \"infrastructure\", \"infrastructure\", \"insider\", \"insider\", \"institutional\", \"insurer\", \"insurer\", \"insurer\", \"investment\", \"investment\", \"investment\", \"investor\", \"investor\", \"issue\", \"issue\", \"issue\", \"issue\", \"jan\", \"jan\", \"january\", \"january\", \"january\", \"january\", \"jeff\", \"jeff\", \"jlg\", \"jlg\", \"job\", \"job\", \"job\", \"john\", \"john\", \"john\", \"johnson\", \"key\", \"key\", \"key\", \"key\", \"keyword\", \"komatsu\", \"komatsu\", \"labor\", \"labor\", \"landmark\", \"landmark\", \"last\", \"last\", \"later\", \"later\", \"lead\", \"lead\", \"lead\", \"lead\", \"leader\", \"lee\", \"lid\", \"like\", \"like\", \"like\", \"like\", \"like\", \"like\", \"limitation\", \"limited\", \"line\", \"line\", \"line\", \"line\", \"list\", \"list\", \"list\", \"live\", \"live\", \"live\", \"loader\", \"loader\", \"local\", \"local\", \"local\", \"local\", \"long\", \"long\", \"long\", \"long\", \"look\", \"look\", \"look\", \"look\", \"lose\", \"lose\", \"loss\", \"machine\", \"machine\", \"machine\", \"machine\", \"machinery\", \"machinery\", \"machinery\", \"main\", \"main\", \"major\", \"major\", \"major\", \"manufacturer\", \"manufacturer\", \"manufacturer\", \"manufacturer\", \"manufacturing\", \"manufacturing\", \"manufacturing\", \"manufacturing\", \"market\", \"market\", \"market\", \"market\", \"material\", \"material\", \"material\", \"material\", \"material\", \"material\", \"may\", \"may\", \"may\", \"may\", \"medical\", \"mention\", \"mention\", \"might\", \"might\", \"might\", \"million\", \"million\", \"million\", \"million\", \"minority\", \"minority\", \"monday\", \"monday\", \"move\", \"move\", \"move\", \"move\", \"move\", \"nature\", \"nature\", \"nature\", \"nest\", \"nest\", \"nismo\", \"offer\", \"offer\", \"offer\", \"offer\", \"office\", \"office\", \"office\", \"office\", \"office\", \"officer\", \"oil\", \"oil\", \"one\", \"one\", \"one\", \"one\", \"one\", \"one\", \"open\", \"open\", \"open\", \"open\", \"open\", \"operation\", \"operation\", \"opportunities\", \"opportunity\", \"opportunity\", \"opportunity\", \"outlook\", \"overall\", \"overview\", \"own\", \"own\", \"own\", \"package\", \"partner\", \"partnership\", \"partnership\", \"pay\", \"pay\", \"pay\", \"percent\", \"percent\", \"perform\", \"performance\", \"performance\", \"perhaps\", \"perhaps\", \"perhaps\", \"photo\", \"photo\", \"photo\", \"physician\", \"place\", \"place\", \"place\", \"place\", \"plant\", \"plant\", \"plant\", \"plant\", \"plant\", \"plant\", \"plastic\", \"plate\", \"plate\", \"player\", \"player\", \"plow\", \"plu\", \"plu\", \"plu\", \"plu\", \"policy\", \"policy\", \"post\", \"post\", \"post\", \"post\", \"post\", \"post\", \"pot\", \"power\", \"power\", \"power\", \"power\", \"power\", \"price\", \"price\", \"price\", \"price\", \"price\", \"problem\", \"problem\", \"process\", \"process\", \"product\", \"product\", \"product\", \"product\", \"product\", \"product\", \"production\", \"production\", \"production\", \"profit\", \"profit\", \"profit\", \"profit\", \"program\", \"program\", \"project\", \"project\", \"project\", \"project\", \"project\", \"prospect\", \"prospect\", \"provide\", \"provide\", \"provide\", \"provide\", \"provide\", \"provide\", \"pry\", \"public\", \"public\", \"qualification\", \"qualified\", \"quarter\", \"query\", \"quest\", \"quick\", \"quick\", \"quote\", \"quote\", \"rate\", \"rate\", \"rate\", \"rate\", \"rating\", \"rating\", \"ratio\", \"ratio\", \"ratio\", \"raw\", \"raw\", \"read\", \"read\", \"read\", \"read\", \"read\", \"recently\", \"region\", \"region\", \"region\", \"regional\", \"regional\", \"regional\", \"reich\", \"relatively\", \"relatively\", \"replace\", \"report\", \"report\", \"report\", \"report\", \"report\", \"req\", \"requirement\", \"requirement\", \"research\", \"research\", \"research\", \"resolve\", \"retail\", \"retail\", \"return\", \"return\", \"revenue\", \"revenue\", \"revenue\", \"revenue\", \"review\", \"road\", \"road\", \"road\", \"road\", \"robot\", \"robot\", \"rock\", \"rock\", \"rubber\", \"rubber\", \"sample\", \"sample\", \"say\", \"say\", \"say\", \"say\", \"say\", \"schedule\", \"seattle\", \"seattle\", \"segment\", \"segment\", \"sell\", \"sell\", \"serve\", \"serve\", \"serve\", \"serve\", \"serve\", \"service\", \"service\", \"service\", \"service\", \"service\", \"service\", \"set\", \"set\", \"set\", \"set\", \"set\", \"shade\", \"shape\", \"shape\", \"shape\", \"shape\", \"share\", \"share\", \"share\", \"share\", \"share\", \"shareholder\", \"shift\", \"shift\", \"ship\", \"ship\", \"ship\", \"ship\", \"ship\", \"show\", \"show\", \"show\", \"skid\", \"skid\", \"skill\", \"skill\", \"small\", \"small\", \"small\", \"small\", \"snow\", \"snow\", \"snow\", \"sodden\", \"soil\", \"soil\", \"soil\", \"solution\", \"solution\", \"solution\", \"space\", \"space\", \"space\", \"space\", \"space\", \"specialist\", \"state\", \"state\", \"state\", \"state\", \"state\", \"statistical\", \"steer\", \"steer\", \"steer\", \"stock\", \"stock\", \"strain\", \"strike\", \"strike\", \"strike\", \"support\", \"support\", \"support\", \"support\", \"surround\", \"surround\", \"survive\", \"swot\", \"system\", \"system\", \"system\", \"system\", \"system\", \"take\", \"take\", \"take\", \"take\", \"take\", \"team\", \"team\", \"team\", \"team\", \"technical\", \"technology\", \"technology\", \"technology\", \"technology\", \"ten\", \"ten\", \"terrarium\", \"test\", \"test\", \"test\", \"think\", \"think\", \"think\", \"think\", \"though\", \"though\", \"though\", \"three\", \"three\", \"three\", \"three\", \"three\", \"three\", \"thrive\", \"thursday\", \"tractor\", \"tractor\", \"trade\", \"trade\", \"trade\", \"trade\", \"transportation\", \"transportation\", \"transportation\", \"tree\", \"tree\", \"tree\", \"tree\", \"trend\", \"trend\", \"truck\", \"truck\", \"truck\", \"trust\", \"two\", \"two\", \"two\", \"type\", \"type\", \"type\", \"type\", \"u\", \"u\", \"u\", \"u\", \"united\", \"united\", \"united\", \"unposting\", \"unsolicited\", \"usd\", \"usually\", \"value\", \"value\", \"value\", \"value\", \"value\", \"van\", \"variety\", \"variety\", \"variety\", \"vehicle\", \"victorian\", \"walk\", \"walk\", \"ward\", \"wardian\", \"warehouse\", \"warehouse\", \"water\", \"water\", \"water\", \"weld\", \"well\", \"well\", \"well\", \"well\", \"well\", \"well\", \"well\", \"west\", \"west\", \"west\", \"without\", \"without\", \"without\", \"work\", \"work\", \"work\", \"work\", \"work\", \"world\", \"world\", \"world\", \"world\", \"world\", \"worth\", \"worth\", \"would\", \"would\", \"would\", \"york\", \"york\", \"york\", \"zone\", \"zone\", \"zone\"]}, \"R\": 30, \"lambda.step\": 0.01, \"plot.opts\": {\"xlab\": \"PC1\", \"ylab\": \"PC2\"}, \"topic.order\": [1, 2, 3, 4, 5, 6, 7, 8]};\n",
       "\n",
       "function LDAvis_load_lib(url, callback){\n",
       "  var s = document.createElement('script');\n",
       "  s.src = url;\n",
       "  s.async = true;\n",
       "  s.onreadystatechange = s.onload = callback;\n",
       "  s.onerror = function(){console.warn(\"failed to load library \" + url);};\n",
       "  document.getElementsByTagName(\"head\")[0].appendChild(s);\n",
       "}\n",
       "\n",
       "if(typeof(LDAvis) !== \"undefined\"){\n",
       "   // already loaded: just create the visualization\n",
       "   !function(LDAvis){\n",
       "       new LDAvis(\"#\" + \"ldavis_el11041140451195917080327135331\", ldavis_el11041140451195917080327135331_data);\n",
       "   }(LDAvis);\n",
       "}else if(typeof define === \"function\" && define.amd){\n",
       "   // require.js is available: use it to load d3/LDAvis\n",
       "   require.config({paths: {d3: \"https://cdnjs.cloudflare.com/ajax/libs/d3/3.5.5/d3.min\"}});\n",
       "   require([\"d3\"], function(d3){\n",
       "      window.d3 = d3;\n",
       "      LDAvis_load_lib(\"https://cdn.rawgit.com/bmabey/pyLDAvis/files/ldavis.v1.0.0.js\", function(){\n",
       "        new LDAvis(\"#\" + \"ldavis_el11041140451195917080327135331\", ldavis_el11041140451195917080327135331_data);\n",
       "      });\n",
       "    });\n",
       "}else{\n",
       "    // require.js not available: dynamically load d3 & LDAvis\n",
       "    LDAvis_load_lib(\"https://cdnjs.cloudflare.com/ajax/libs/d3/3.5.5/d3.min.js\", function(){\n",
       "         LDAvis_load_lib(\"https://cdn.rawgit.com/bmabey/pyLDAvis/files/ldavis.v1.0.0.js\", function(){\n",
       "                 new LDAvis(\"#\" + \"ldavis_el11041140451195917080327135331\", ldavis_el11041140451195917080327135331_data);\n",
       "            })\n",
       "         });\n",
       "}\n",
       "</script>"
      ],
      "text/plain": [
       "<IPython.core.display.HTML object>"
      ]
     },
     "execution_count": 18,
     "metadata": {},
     "output_type": "execute_result"
    }
   ],
   "source": [
    "lda_display = pyLDAvis.gensim.prepare(lda_model_list[3], doc_term_matrix, dictionary, sort_topics=False, mds='mmds')\n",
    "pyLDAvis.display(lda_display)"
   ]
  },
  {
   "cell_type": "markdown",
   "metadata": {},
   "source": [
    "It can be seen that the topic clusters are quite evenly distributed across the map. The cluster size are quite even as well. The closest topics (1 and 3), which could potentially be combined if the number of clusters reduce, do represent different topics. Topic 1 represents international investment between US and China, and topic 3 represents more domestic-related contents. This provides more confidence that n=8 would be an optimal choice for topic modeling."
   ]
  }
 ],
 "metadata": {
  "kernelspec": {
   "display_name": "Python 3",
   "language": "python",
   "name": "python3"
  },
  "language_info": {
   "codemirror_mode": {
    "name": "ipython",
    "version": 3
   },
   "file_extension": ".py",
   "mimetype": "text/x-python",
   "name": "python",
   "nbconvert_exporter": "python",
   "pygments_lexer": "ipython3",
   "version": "3.7.3"
  },
  "toc": {
   "base_numbering": 1,
   "nav_menu": {},
   "number_sections": false,
   "sideBar": true,
   "skip_h1_title": false,
   "title_cell": "Table of Contents",
   "title_sidebar": "Contents",
   "toc_cell": false,
   "toc_position": {
    "height": "calc(100% - 180px)",
    "left": "10px",
    "top": "150px",
    "width": "364px"
   },
   "toc_section_display": true,
   "toc_window_display": true
  },
  "varInspector": {
   "cols": {
    "lenName": 16,
    "lenType": 16,
    "lenVar": 40
   },
   "kernels_config": {
    "python": {
     "delete_cmd_postfix": "",
     "delete_cmd_prefix": "del ",
     "library": "var_list.py",
     "varRefreshCmd": "print(var_dic_list())"
    },
    "r": {
     "delete_cmd_postfix": ") ",
     "delete_cmd_prefix": "rm(",
     "library": "var_list.r",
     "varRefreshCmd": "cat(var_dic_list()) "
    }
   },
   "types_to_exclude": [
    "module",
    "function",
    "builtin_function_or_method",
    "instance",
    "_Feature"
   ],
   "window_display": false
  }
 },
 "nbformat": 4,
 "nbformat_minor": 2
}
