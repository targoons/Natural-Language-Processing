{
 "cells": [
  {
   "cell_type": "markdown",
   "metadata": {},
   "source": [
    "## MSCA 32018 1 Natural Language Processing and Cognitive Computing\n",
    "\n",
    "### Assignment 2\n",
    "\n",
    "**Author: Targoon Siripanichpong**"
   ]
  },
  {
   "cell_type": "markdown",
   "metadata": {},
   "source": [
    "Improve your analysis from Week-1 by identifying specific tokens (words / keywords) that lead to failed food inspections in Chicago leveraging tokenization, stemming and lemmatization in Python.\n",
    "\n",
    "Rules and requirements:\n",
    "\n",
    "Your final output and the code should be contained within Jupyter Notebook (ipynb)"
   ]
  },
  {
   "cell_type": "markdown",
   "metadata": {},
   "source": [
    "#### Exploratory Analysis"
   ]
  },
  {
   "cell_type": "markdown",
   "metadata": {},
   "source": [
    "**Import Data**"
   ]
  },
  {
   "cell_type": "code",
   "execution_count": 1,
   "metadata": {
    "ExecuteTime": {
     "end_time": "2019-04-18T16:31:51.651561Z",
     "start_time": "2019-04-18T16:31:47.613080Z"
    }
   },
   "outputs": [],
   "source": [
    "import pandas as pd\n",
    "import re\n",
    "food_inspection = pd.read_csv('../Data/Food_Inspections.csv')"
   ]
  },
  {
   "cell_type": "code",
   "execution_count": 2,
   "metadata": {
    "ExecuteTime": {
     "end_time": "2019-04-18T16:31:51.700981Z",
     "start_time": "2019-04-18T16:31:51.653930Z"
    },
    "scrolled": true
   },
   "outputs": [
    {
     "data": {
      "text/html": [
       "<div>\n",
       "<style scoped>\n",
       "    .dataframe tbody tr th:only-of-type {\n",
       "        vertical-align: middle;\n",
       "    }\n",
       "\n",
       "    .dataframe tbody tr th {\n",
       "        vertical-align: top;\n",
       "    }\n",
       "\n",
       "    .dataframe thead th {\n",
       "        text-align: right;\n",
       "    }\n",
       "</style>\n",
       "<table border=\"1\" class=\"dataframe\">\n",
       "  <thead>\n",
       "    <tr style=\"text-align: right;\">\n",
       "      <th></th>\n",
       "      <th>Inspection ID</th>\n",
       "      <th>DBA Name</th>\n",
       "      <th>AKA Name</th>\n",
       "      <th>License #</th>\n",
       "      <th>Facility Type</th>\n",
       "      <th>Risk</th>\n",
       "      <th>Address</th>\n",
       "      <th>City</th>\n",
       "      <th>State</th>\n",
       "      <th>Zip</th>\n",
       "      <th>Inspection Date</th>\n",
       "      <th>Inspection Type</th>\n",
       "      <th>Results</th>\n",
       "      <th>Violations</th>\n",
       "      <th>Latitude</th>\n",
       "      <th>Longitude</th>\n",
       "      <th>Location</th>\n",
       "    </tr>\n",
       "  </thead>\n",
       "  <tbody>\n",
       "    <tr>\n",
       "      <th>0</th>\n",
       "      <td>2282603</td>\n",
       "      <td>A. J. HUDSON'S PUBLIC HOUSE</td>\n",
       "      <td>A. J. HUDSON'S PUBLIC HOUSE</td>\n",
       "      <td>1248488.0</td>\n",
       "      <td>Restaurant</td>\n",
       "      <td>Risk 1 (High)</td>\n",
       "      <td>3801-3805 N ASHLAND AVE</td>\n",
       "      <td>CHICAGO</td>\n",
       "      <td>IL</td>\n",
       "      <td>60613.0</td>\n",
       "      <td>04/04/2019</td>\n",
       "      <td>Complaint Re-Inspection</td>\n",
       "      <td>Pass w/ Conditions</td>\n",
       "      <td>25. CONSUMER ADVISORY PROVIDED FOR RAW/UNDERCO...</td>\n",
       "      <td>41.950735</td>\n",
       "      <td>-87.668813</td>\n",
       "      <td>(41.950735168842144, -87.66881290118066)</td>\n",
       "    </tr>\n",
       "    <tr>\n",
       "      <th>1</th>\n",
       "      <td>2282582</td>\n",
       "      <td>CHILDREN'S LEARNING PLACE</td>\n",
       "      <td>CHILDREN'S LEARNING PLACE</td>\n",
       "      <td>2369232.0</td>\n",
       "      <td>Children's Services Facility</td>\n",
       "      <td>Risk 1 (High)</td>\n",
       "      <td>3532 N HALSTED ST</td>\n",
       "      <td>CHICAGO</td>\n",
       "      <td>IL</td>\n",
       "      <td>60657.0</td>\n",
       "      <td>04/04/2019</td>\n",
       "      <td>License</td>\n",
       "      <td>Fail</td>\n",
       "      <td>1. PERSON IN CHARGE PRESENT, DEMONSTRATES KNOW...</td>\n",
       "      <td>41.946415</td>\n",
       "      <td>-87.649605</td>\n",
       "      <td>(41.94641497610327, -87.64960508860683)</td>\n",
       "    </tr>\n",
       "    <tr>\n",
       "      <th>2</th>\n",
       "      <td>2282567</td>\n",
       "      <td>NEW YORK HALAL PIZZA</td>\n",
       "      <td>NEW YORK HALAL PIZZA</td>\n",
       "      <td>2506788.0</td>\n",
       "      <td>Restaurant</td>\n",
       "      <td>Risk 1 (High)</td>\n",
       "      <td>2262 W DEVON AVE</td>\n",
       "      <td>CHICAGO</td>\n",
       "      <td>IL</td>\n",
       "      <td>60659.0</td>\n",
       "      <td>04/04/2019</td>\n",
       "      <td>Canvass</td>\n",
       "      <td>Pass</td>\n",
       "      <td>47. FOOD &amp; NON-FOOD CONTACT SURFACES CLEANABLE...</td>\n",
       "      <td>41.997883</td>\n",
       "      <td>-87.687389</td>\n",
       "      <td>(41.99788329809707, -87.68738928391146)</td>\n",
       "    </tr>\n",
       "    <tr>\n",
       "      <th>3</th>\n",
       "      <td>2282558</td>\n",
       "      <td>WEE CARE DAYCARE PRESCHOOL</td>\n",
       "      <td>WEE CARE DAYCARE PRESCHOOL</td>\n",
       "      <td>2215552.0</td>\n",
       "      <td>Children's Services Facility</td>\n",
       "      <td>Risk 1 (High)</td>\n",
       "      <td>2816 N PINE GROVE AVE</td>\n",
       "      <td>CHICAGO</td>\n",
       "      <td>IL</td>\n",
       "      <td>60657.0</td>\n",
       "      <td>04/04/2019</td>\n",
       "      <td>License</td>\n",
       "      <td>Pass</td>\n",
       "      <td>NaN</td>\n",
       "      <td>41.933388</td>\n",
       "      <td>-87.641509</td>\n",
       "      <td>(41.933388339085965, -87.6415090848372)</td>\n",
       "    </tr>\n",
       "    <tr>\n",
       "      <th>4</th>\n",
       "      <td>2282535</td>\n",
       "      <td>PHILLYS ORIGINAL</td>\n",
       "      <td>PHILLY'S ORIGINAL</td>\n",
       "      <td>2304565.0</td>\n",
       "      <td>Restaurant</td>\n",
       "      <td>Risk 2 (Medium)</td>\n",
       "      <td>8245 S KEDZIE AVE</td>\n",
       "      <td>CHICAGO</td>\n",
       "      <td>IL</td>\n",
       "      <td>60652.0</td>\n",
       "      <td>04/03/2019</td>\n",
       "      <td>Canvass Re-Inspection</td>\n",
       "      <td>Pass w/ Conditions</td>\n",
       "      <td>5. PROCEDURES FOR RESPONDING TO VOMITING AND D...</td>\n",
       "      <td>41.742985</td>\n",
       "      <td>-87.702064</td>\n",
       "      <td>(41.74298525218482, -87.70206428481328)</td>\n",
       "    </tr>\n",
       "  </tbody>\n",
       "</table>\n",
       "</div>"
      ],
      "text/plain": [
       "   Inspection ID                     DBA Name                     AKA Name  \\\n",
       "0        2282603  A. J. HUDSON'S PUBLIC HOUSE  A. J. HUDSON'S PUBLIC HOUSE   \n",
       "1        2282582    CHILDREN'S LEARNING PLACE    CHILDREN'S LEARNING PLACE   \n",
       "2        2282567         NEW YORK HALAL PIZZA         NEW YORK HALAL PIZZA   \n",
       "3        2282558   WEE CARE DAYCARE PRESCHOOL   WEE CARE DAYCARE PRESCHOOL   \n",
       "4        2282535             PHILLYS ORIGINAL            PHILLY'S ORIGINAL   \n",
       "\n",
       "   License #                 Facility Type             Risk  \\\n",
       "0  1248488.0                    Restaurant    Risk 1 (High)   \n",
       "1  2369232.0  Children's Services Facility    Risk 1 (High)   \n",
       "2  2506788.0                    Restaurant    Risk 1 (High)   \n",
       "3  2215552.0  Children's Services Facility    Risk 1 (High)   \n",
       "4  2304565.0                    Restaurant  Risk 2 (Medium)   \n",
       "\n",
       "                    Address     City State      Zip Inspection Date  \\\n",
       "0  3801-3805 N ASHLAND AVE   CHICAGO    IL  60613.0      04/04/2019   \n",
       "1        3532 N HALSTED ST   CHICAGO    IL  60657.0      04/04/2019   \n",
       "2         2262 W DEVON AVE   CHICAGO    IL  60659.0      04/04/2019   \n",
       "3    2816 N PINE GROVE AVE   CHICAGO    IL  60657.0      04/04/2019   \n",
       "4        8245 S KEDZIE AVE   CHICAGO    IL  60652.0      04/03/2019   \n",
       "\n",
       "           Inspection Type             Results  \\\n",
       "0  Complaint Re-Inspection  Pass w/ Conditions   \n",
       "1                  License                Fail   \n",
       "2                  Canvass                Pass   \n",
       "3                  License                Pass   \n",
       "4    Canvass Re-Inspection  Pass w/ Conditions   \n",
       "\n",
       "                                          Violations   Latitude  Longitude  \\\n",
       "0  25. CONSUMER ADVISORY PROVIDED FOR RAW/UNDERCO...  41.950735 -87.668813   \n",
       "1  1. PERSON IN CHARGE PRESENT, DEMONSTRATES KNOW...  41.946415 -87.649605   \n",
       "2  47. FOOD & NON-FOOD CONTACT SURFACES CLEANABLE...  41.997883 -87.687389   \n",
       "3                                                NaN  41.933388 -87.641509   \n",
       "4  5. PROCEDURES FOR RESPONDING TO VOMITING AND D...  41.742985 -87.702064   \n",
       "\n",
       "                                   Location  \n",
       "0  (41.950735168842144, -87.66881290118066)  \n",
       "1   (41.94641497610327, -87.64960508860683)  \n",
       "2   (41.99788329809707, -87.68738928391146)  \n",
       "3   (41.933388339085965, -87.6415090848372)  \n",
       "4   (41.74298525218482, -87.70206428481328)  "
      ]
     },
     "execution_count": 2,
     "metadata": {},
     "output_type": "execute_result"
    }
   ],
   "source": [
    "food_inspection.head()"
   ]
  },
  {
   "cell_type": "markdown",
   "metadata": {
    "ExecuteTime": {
     "end_time": "2019-04-09T00:35:45.904310Z",
     "start_time": "2019-04-09T00:35:45.894430Z"
    }
   },
   "source": [
    "**Extract Failed Inspections**"
   ]
  },
  {
   "cell_type": "code",
   "execution_count": 3,
   "metadata": {
    "ExecuteTime": {
     "end_time": "2019-04-18T16:31:51.763079Z",
     "start_time": "2019-04-18T16:31:51.706868Z"
    }
   },
   "outputs": [],
   "source": [
    "food_inspection_failed = food_inspection[food_inspection['Results'] == 'Fail']"
   ]
  },
  {
   "cell_type": "code",
   "execution_count": 4,
   "metadata": {
    "ExecuteTime": {
     "end_time": "2019-04-18T16:31:51.835473Z",
     "start_time": "2019-04-18T16:31:51.765446Z"
    }
   },
   "outputs": [
    {
     "name": "stdout",
     "output_type": "stream",
     "text": [
      "35691 32634\n"
     ]
    }
   ],
   "source": [
    "print(len(food_inspection_failed), len(food_inspection_failed['Violations'].unique()))"
   ]
  },
  {
   "cell_type": "code",
   "execution_count": 5,
   "metadata": {
    "ExecuteTime": {
     "end_time": "2019-04-18T16:31:52.015926Z",
     "start_time": "2019-04-18T16:31:51.844104Z"
    }
   },
   "outputs": [
    {
     "name": "stderr",
     "output_type": "stream",
     "text": [
      "/home/targoon/.local/lib/python3.6/site-packages/ipykernel_launcher.py:2: SettingWithCopyWarning: \n",
      "A value is trying to be set on a copy of a slice from a DataFrame\n",
      "\n",
      "See the caveats in the documentation: http://pandas.pydata.org/pandas-docs/stable/indexing.html#indexing-view-versus-copy\n",
      "  \n"
     ]
    }
   ],
   "source": [
    "# Drop NaNs and reset index\n",
    "food_inspection_failed.dropna(subset=['Violations'], how='all', inplace = True)\n",
    "food_inspection_failed.reset_index(inplace=True)"
   ]
  },
  {
   "cell_type": "code",
   "execution_count": 6,
   "metadata": {
    "ExecuteTime": {
     "end_time": "2019-04-18T16:31:52.041871Z",
     "start_time": "2019-04-18T16:31:52.025726Z"
    }
   },
   "outputs": [
    {
     "data": {
      "text/plain": [
       "32682"
      ]
     },
     "execution_count": 6,
     "metadata": {},
     "output_type": "execute_result"
    }
   ],
   "source": [
    "len(food_inspection_failed)"
   ]
  },
  {
   "cell_type": "code",
   "execution_count": 7,
   "metadata": {
    "ExecuteTime": {
     "end_time": "2019-04-18T16:31:52.125689Z",
     "start_time": "2019-04-18T16:31:52.049049Z"
    },
    "scrolled": true
   },
   "outputs": [
    {
     "data": {
      "text/html": [
       "<div>\n",
       "<style scoped>\n",
       "    .dataframe tbody tr th:only-of-type {\n",
       "        vertical-align: middle;\n",
       "    }\n",
       "\n",
       "    .dataframe tbody tr th {\n",
       "        vertical-align: top;\n",
       "    }\n",
       "\n",
       "    .dataframe thead th {\n",
       "        text-align: right;\n",
       "    }\n",
       "</style>\n",
       "<table border=\"1\" class=\"dataframe\">\n",
       "  <thead>\n",
       "    <tr style=\"text-align: right;\">\n",
       "      <th></th>\n",
       "      <th>index</th>\n",
       "      <th>Inspection ID</th>\n",
       "      <th>DBA Name</th>\n",
       "      <th>AKA Name</th>\n",
       "      <th>License #</th>\n",
       "      <th>Facility Type</th>\n",
       "      <th>Risk</th>\n",
       "      <th>Address</th>\n",
       "      <th>City</th>\n",
       "      <th>State</th>\n",
       "      <th>Zip</th>\n",
       "      <th>Inspection Date</th>\n",
       "      <th>Inspection Type</th>\n",
       "      <th>Results</th>\n",
       "      <th>Violations</th>\n",
       "      <th>Latitude</th>\n",
       "      <th>Longitude</th>\n",
       "      <th>Location</th>\n",
       "    </tr>\n",
       "  </thead>\n",
       "  <tbody>\n",
       "    <tr>\n",
       "      <th>0</th>\n",
       "      <td>1</td>\n",
       "      <td>2282582</td>\n",
       "      <td>CHILDREN'S LEARNING PLACE</td>\n",
       "      <td>CHILDREN'S LEARNING PLACE</td>\n",
       "      <td>2369232.0</td>\n",
       "      <td>Children's Services Facility</td>\n",
       "      <td>Risk 1 (High)</td>\n",
       "      <td>3532 N HALSTED ST</td>\n",
       "      <td>CHICAGO</td>\n",
       "      <td>IL</td>\n",
       "      <td>60657.0</td>\n",
       "      <td>04/04/2019</td>\n",
       "      <td>License</td>\n",
       "      <td>Fail</td>\n",
       "      <td>1. PERSON IN CHARGE PRESENT, DEMONSTRATES KNOW...</td>\n",
       "      <td>41.946415</td>\n",
       "      <td>-87.649605</td>\n",
       "      <td>(41.94641497610327, -87.64960508860683)</td>\n",
       "    </tr>\n",
       "    <tr>\n",
       "      <th>1</th>\n",
       "      <td>10</td>\n",
       "      <td>2282538</td>\n",
       "      <td>BRYN MAWR &amp; KEDZIE BP</td>\n",
       "      <td>CITGO</td>\n",
       "      <td>2555777.0</td>\n",
       "      <td>Grocery Store</td>\n",
       "      <td>Risk 3 (Low)</td>\n",
       "      <td>5547 N KEDZIE AVE</td>\n",
       "      <td>CHICAGO</td>\n",
       "      <td>IL</td>\n",
       "      <td>60625.0</td>\n",
       "      <td>04/03/2019</td>\n",
       "      <td>Complaint</td>\n",
       "      <td>Fail</td>\n",
       "      <td>5. PROCEDURES FOR RESPONDING TO VOMITING AND D...</td>\n",
       "      <td>41.982644</td>\n",
       "      <td>-87.708704</td>\n",
       "      <td>(41.98264400519765, -87.70870371243366)</td>\n",
       "    </tr>\n",
       "    <tr>\n",
       "      <th>2</th>\n",
       "      <td>11</td>\n",
       "      <td>2282530</td>\n",
       "      <td>TWO MILE COFFEE BAR</td>\n",
       "      <td>TWO MILE COFEE BAR</td>\n",
       "      <td>2641611.0</td>\n",
       "      <td>Restaurant</td>\n",
       "      <td>Risk 2 (Medium)</td>\n",
       "      <td>1766 W 95TH ST</td>\n",
       "      <td>CHICAGO</td>\n",
       "      <td>IL</td>\n",
       "      <td>60643.0</td>\n",
       "      <td>04/03/2019</td>\n",
       "      <td>License</td>\n",
       "      <td>Fail</td>\n",
       "      <td>3. MANAGEMENT, FOOD EMPLOYEE AND CONDITIONAL E...</td>\n",
       "      <td>41.721260</td>\n",
       "      <td>-87.667257</td>\n",
       "      <td>(41.72126016238349, -87.66725709711507)</td>\n",
       "    </tr>\n",
       "    <tr>\n",
       "      <th>3</th>\n",
       "      <td>27</td>\n",
       "      <td>2282494</td>\n",
       "      <td>CALABRIA IMPORTS, INC.</td>\n",
       "      <td>CALABRIA IMPORTS, INC.</td>\n",
       "      <td>1357606.0</td>\n",
       "      <td>Restaurant</td>\n",
       "      <td>Risk 1 (High)</td>\n",
       "      <td>1905 W 103RD ST</td>\n",
       "      <td>CHICAGO</td>\n",
       "      <td>IL</td>\n",
       "      <td>60643.0</td>\n",
       "      <td>04/03/2019</td>\n",
       "      <td>Canvass</td>\n",
       "      <td>Fail</td>\n",
       "      <td>2. CITY OF CHICAGO FOOD SERVICE SANITATION CER...</td>\n",
       "      <td>41.706473</td>\n",
       "      <td>-87.669355</td>\n",
       "      <td>(41.70647332453693, -87.66935498846195)</td>\n",
       "    </tr>\n",
       "    <tr>\n",
       "      <th>4</th>\n",
       "      <td>35</td>\n",
       "      <td>2282465</td>\n",
       "      <td>BURGER KING #2654</td>\n",
       "      <td>BURGER KING #2654</td>\n",
       "      <td>2368742.0</td>\n",
       "      <td>Restaurant</td>\n",
       "      <td>Risk 2 (Medium)</td>\n",
       "      <td>2449 W LAWRENCE AVE</td>\n",
       "      <td>CHICAGO</td>\n",
       "      <td>IL</td>\n",
       "      <td>60625.0</td>\n",
       "      <td>04/03/2019</td>\n",
       "      <td>Complaint</td>\n",
       "      <td>Fail</td>\n",
       "      <td>3. MANAGEMENT, FOOD EMPLOYEE AND CONDITIONAL E...</td>\n",
       "      <td>41.968487</td>\n",
       "      <td>-87.690846</td>\n",
       "      <td>(41.968486523199196, -87.69084635820667)</td>\n",
       "    </tr>\n",
       "  </tbody>\n",
       "</table>\n",
       "</div>"
      ],
      "text/plain": [
       "   index  Inspection ID                   DBA Name                   AKA Name  \\\n",
       "0      1        2282582  CHILDREN'S LEARNING PLACE  CHILDREN'S LEARNING PLACE   \n",
       "1     10        2282538      BRYN MAWR & KEDZIE BP                      CITGO   \n",
       "2     11        2282530        TWO MILE COFFEE BAR         TWO MILE COFEE BAR   \n",
       "3     27        2282494     CALABRIA IMPORTS, INC.     CALABRIA IMPORTS, INC.   \n",
       "4     35        2282465          BURGER KING #2654          BURGER KING #2654   \n",
       "\n",
       "   License #                 Facility Type             Risk  \\\n",
       "0  2369232.0  Children's Services Facility    Risk 1 (High)   \n",
       "1  2555777.0                 Grocery Store     Risk 3 (Low)   \n",
       "2  2641611.0                    Restaurant  Risk 2 (Medium)   \n",
       "3  1357606.0                    Restaurant    Risk 1 (High)   \n",
       "4  2368742.0                    Restaurant  Risk 2 (Medium)   \n",
       "\n",
       "                Address     City State      Zip Inspection Date  \\\n",
       "0    3532 N HALSTED ST   CHICAGO    IL  60657.0      04/04/2019   \n",
       "1    5547 N KEDZIE AVE   CHICAGO    IL  60625.0      04/03/2019   \n",
       "2       1766 W 95TH ST   CHICAGO    IL  60643.0      04/03/2019   \n",
       "3      1905 W 103RD ST   CHICAGO    IL  60643.0      04/03/2019   \n",
       "4  2449 W LAWRENCE AVE   CHICAGO    IL  60625.0      04/03/2019   \n",
       "\n",
       "  Inspection Type Results                                         Violations  \\\n",
       "0         License    Fail  1. PERSON IN CHARGE PRESENT, DEMONSTRATES KNOW...   \n",
       "1       Complaint    Fail  5. PROCEDURES FOR RESPONDING TO VOMITING AND D...   \n",
       "2         License    Fail  3. MANAGEMENT, FOOD EMPLOYEE AND CONDITIONAL E...   \n",
       "3         Canvass    Fail  2. CITY OF CHICAGO FOOD SERVICE SANITATION CER...   \n",
       "4       Complaint    Fail  3. MANAGEMENT, FOOD EMPLOYEE AND CONDITIONAL E...   \n",
       "\n",
       "    Latitude  Longitude                                  Location  \n",
       "0  41.946415 -87.649605   (41.94641497610327, -87.64960508860683)  \n",
       "1  41.982644 -87.708704   (41.98264400519765, -87.70870371243366)  \n",
       "2  41.721260 -87.667257   (41.72126016238349, -87.66725709711507)  \n",
       "3  41.706473 -87.669355   (41.70647332453693, -87.66935498846195)  \n",
       "4  41.968487 -87.690846  (41.968486523199196, -87.69084635820667)  "
      ]
     },
     "execution_count": 7,
     "metadata": {},
     "output_type": "execute_result"
    }
   ],
   "source": [
    "food_inspection_failed.head()"
   ]
  },
  {
   "cell_type": "code",
   "execution_count": 8,
   "metadata": {
    "ExecuteTime": {
     "end_time": "2019-04-18T16:31:52.139301Z",
     "start_time": "2019-04-18T16:31:52.131545Z"
    },
    "scrolled": true
   },
   "outputs": [
    {
     "name": "stdout",
     "output_type": "stream",
     "text": [
      "1. PERSON IN CHARGE PRESENT, DEMONSTRATES KNOWLEDGE, AND PERFORMS DUTIES - Comments: NO PERSON IN CHARGE PRESENT AT THE TIME OF INSPECTION. PRIORITY FOUNDATION VIOLATION. NO CITATION ISSUED. | 3. MANAGEMENT, FOOD EMPLOYEE AND CONDITIONAL EMPLOYEE; KNOWLEDGE, RESPONSIBILITIES AND REPORTING - Comments: NOTED NO EMPLOYEE HEALTH POLICY ON SITE AT THE TIME OF INSPECTION FOLLOWING THE NEW CODE AND GUIDELINES. INSTRUCTED TO HAVE VERIFICATION OF POLICY FOR EACH EMPLOYEE ONE ON SITE AT ALL TIMES. PRIORITY FOUNDATION #7-38-010. NO CITATION ISSUED TODAY | 5. PROCEDURES FOR RESPONDING TO VOMITING AND DIARRHEAL EVENTS - Comments: 2-501.11 MANAGEMENT UNABLE TO PROVIDE A PROCEDURE FOR CLEANING UP VOMITING AND DIARRHEA.INSTRUCTED TO HAVE ONE. PRIORITY FOUNDATION #7-38-005. NO CITATION ISSUED - | 50. HOT & COLD WATER AVAILABLE; ADEQUATE PRESSURE - Comments: NOTED NO HOT RUNNING WATER AT THE KITCHEN PREP AREA HAND WASH SINK AND 3 COMPARTMENT SINK AND EMPLOYEE BATHROOMS HAND WASH SINK AND ONE OF 3 HAND WASH SINKS AT THE BOYS BATHROOM. TEMPERATURE OF WATER WAS AS FOLLOWS:-KITCHEN HAND WASH SINK 80.3F, 3 COMPARTMENT SINK WAS 85.2F, NO HOT OR COLD RUNNING WATER AT THE HAND WASH SINK OF THE BOYS BATHROOM (BAD SENSOR) AND EMPLOYEE BATHROOMS 81.3F AND 45F. MANAGER IMMEDIATELY CALLED FOR REPAIRS. PRIORITY VIOLATION #7-38-030(C)\n"
     ]
    }
   ],
   "source": [
    "print(food_inspection_failed['Violations'][0])"
   ]
  },
  {
   "cell_type": "markdown",
   "metadata": {},
   "source": [
    "**Split violations to list**"
   ]
  },
  {
   "cell_type": "code",
   "execution_count": 9,
   "metadata": {
    "ExecuteTime": {
     "end_time": "2019-04-18T16:31:52.724959Z",
     "start_time": "2019-04-18T16:31:52.144117Z"
    }
   },
   "outputs": [
    {
     "name": "stderr",
     "output_type": "stream",
     "text": [
      "/home/targoon/.local/lib/python3.6/site-packages/ipykernel_launcher.py:4: SettingWithCopyWarning: \n",
      "A value is trying to be set on a copy of a slice from a DataFrame.\n",
      "Try using .loc[row_indexer,col_indexer] = value instead\n",
      "\n",
      "See the caveats in the documentation: http://pandas.pydata.org/pandas-docs/stable/indexing.html#indexing-view-versus-copy\n",
      "  after removing the cwd from sys.path.\n"
     ]
    }
   ],
   "source": [
    "#Split by \"|\"\n",
    "split_term = ' \\| '\n",
    "\n",
    "food_inspection_failed['Violation_List'] = [re.split(split_term, violations) for violations in food_inspection_failed['Violations']]"
   ]
  },
  {
   "cell_type": "code",
   "execution_count": 10,
   "metadata": {
    "ExecuteTime": {
     "end_time": "2019-04-18T16:31:52.785277Z",
     "start_time": "2019-04-18T16:31:52.734920Z"
    }
   },
   "outputs": [],
   "source": [
    "#Flatten the list\n",
    "Violation_List = []\n",
    "for violations in food_inspection_failed['Violation_List']:\n",
    "    Violation_List += violations "
   ]
  },
  {
   "cell_type": "code",
   "execution_count": 11,
   "metadata": {
    "ExecuteTime": {
     "end_time": "2019-04-18T16:31:52.801907Z",
     "start_time": "2019-04-18T16:31:52.791253Z"
    }
   },
   "outputs": [
    {
     "data": {
      "text/plain": [
       "201298"
      ]
     },
     "execution_count": 11,
     "metadata": {},
     "output_type": "execute_result"
    }
   ],
   "source": [
    "len(Violation_List)"
   ]
  },
  {
   "cell_type": "code",
   "execution_count": 12,
   "metadata": {
    "ExecuteTime": {
     "end_time": "2019-04-18T16:31:52.835352Z",
     "start_time": "2019-04-18T16:31:52.813600Z"
    }
   },
   "outputs": [
    {
     "data": {
      "text/plain": [
       "'1. PERSON IN CHARGE PRESENT, DEMONSTRATES KNOWLEDGE, AND PERFORMS DUTIES - Comments: NO PERSON IN CHARGE PRESENT AT THE TIME OF INSPECTION. PRIORITY FOUNDATION VIOLATION. NO CITATION ISSUED.'"
      ]
     },
     "execution_count": 12,
     "metadata": {},
     "output_type": "execute_result"
    }
   ],
   "source": [
    "Violation_List[0]"
   ]
  },
  {
   "cell_type": "markdown",
   "metadata": {},
   "source": [
    "**Extract only Comment Section**"
   ]
  },
  {
   "cell_type": "code",
   "execution_count": 13,
   "metadata": {
    "ExecuteTime": {
     "end_time": "2019-04-18T16:31:53.827444Z",
     "start_time": "2019-04-18T16:31:52.847522Z"
    },
    "scrolled": true
   },
   "outputs": [],
   "source": [
    "#Only extract the Comment Section\n",
    "split_term = ' - Comments: '\n",
    "Violation_List = [re.split(split_term, violation) for violation in Violation_List]"
   ]
  },
  {
   "cell_type": "code",
   "execution_count": 14,
   "metadata": {
    "ExecuteTime": {
     "end_time": "2019-04-18T16:31:53.975925Z",
     "start_time": "2019-04-18T16:31:53.829553Z"
    }
   },
   "outputs": [],
   "source": [
    "Violation_Comments = []\n",
    "for violation in Violation_List:\n",
    "    if len(violation) == 2:\n",
    "        Violation_Comments.append(violation[1])"
   ]
  },
  {
   "cell_type": "code",
   "execution_count": 15,
   "metadata": {
    "ExecuteTime": {
     "end_time": "2019-04-18T16:31:53.998447Z",
     "start_time": "2019-04-18T16:31:53.982846Z"
    }
   },
   "outputs": [
    {
     "data": {
      "text/plain": [
       "'3-COMPARTMENT SINK DRAIN PIPE NOT MAINTAINED UNDERNEATH. DRAIN WATER IS COMING BACK UP FROM THE PIPE CONNECTED TO THE FLOOR. INSTRUCTED TO REPAIR AND MAINTAIN FREE OF STANDING WATER. PRIORITY FOUNDATION VIOLATION 7-38-030(C) NO CITATION ISSUED.'"
      ]
     },
     "execution_count": 15,
     "metadata": {},
     "output_type": "execute_result"
    }
   ],
   "source": [
    "Violation_Comments[51]"
   ]
  },
  {
   "cell_type": "code",
   "execution_count": 16,
   "metadata": {
    "ExecuteTime": {
     "end_time": "2019-04-18T16:31:54.401982Z",
     "start_time": "2019-04-18T16:31:54.005845Z"
    }
   },
   "outputs": [
    {
     "data": {
      "text/plain": [
       "[('SEE VIOLATION #29.', 246),\n",
       " ('BUMPED UP TO A SERIOUS.', 197),\n",
       " ('SEE VIOLATION #29', 129),\n",
       " ('MUST LABEL FOOD STORAGE CONTAINERS WHEN FOOD IS NOT IN ORIGINAL PACKAGE.',\n",
       "  115),\n",
       " ('All food establishments that display, prepare, or store potentially hazardous foods shall have calibrated metal stem thermometers, provided and conspicuous, for refrigerated and hot food units.',\n",
       "  85),\n",
       " ('ALL FOOD HANDLERS MUST WEAR HAIR RESTRAINTS.', 81),\n",
       " ('STORE WASH CLOTHS IN SANITIZING SOLUTION.', 73),\n",
       " ('SEE VIOLATION #14.', 68),\n",
       " ('VIOLATION NOT CORRECTED', 65),\n",
       " ('SEE VIOLATION #14', 63)]"
      ]
     },
     "execution_count": 16,
     "metadata": {},
     "output_type": "execute_result"
    }
   ],
   "source": [
    "from collections import Counter\n",
    "Counter(Violation_Comments).most_common(10)"
   ]
  },
  {
   "cell_type": "markdown",
   "metadata": {},
   "source": [
    "#### Keyword / Token Analysis"
   ]
  },
  {
   "cell_type": "code",
   "execution_count": 17,
   "metadata": {
    "ExecuteTime": {
     "end_time": "2019-04-18T16:31:57.649189Z",
     "start_time": "2019-04-18T16:31:54.410081Z"
    }
   },
   "outputs": [
    {
     "name": "stderr",
     "output_type": "stream",
     "text": [
      "[nltk_data] Downloading collection 'popular'\n",
      "[nltk_data]    | \n",
      "[nltk_data]    | Downloading package cmudict to\n",
      "[nltk_data]    |     /home/targoon/nltk_data...\n",
      "[nltk_data]    |   Package cmudict is already up-to-date!\n",
      "[nltk_data]    | Downloading package gazetteers to\n",
      "[nltk_data]    |     /home/targoon/nltk_data...\n",
      "[nltk_data]    |   Package gazetteers is already up-to-date!\n",
      "[nltk_data]    | Downloading package genesis to\n",
      "[nltk_data]    |     /home/targoon/nltk_data...\n",
      "[nltk_data]    |   Package genesis is already up-to-date!\n",
      "[nltk_data]    | Downloading package gutenberg to\n",
      "[nltk_data]    |     /home/targoon/nltk_data...\n",
      "[nltk_data]    |   Package gutenberg is already up-to-date!\n",
      "[nltk_data]    | Downloading package inaugural to\n",
      "[nltk_data]    |     /home/targoon/nltk_data...\n",
      "[nltk_data]    |   Package inaugural is already up-to-date!\n",
      "[nltk_data]    | Downloading package movie_reviews to\n",
      "[nltk_data]    |     /home/targoon/nltk_data...\n",
      "[nltk_data]    |   Package movie_reviews is already up-to-date!\n",
      "[nltk_data]    | Downloading package names to\n",
      "[nltk_data]    |     /home/targoon/nltk_data...\n",
      "[nltk_data]    |   Package names is already up-to-date!\n",
      "[nltk_data]    | Downloading package shakespeare to\n",
      "[nltk_data]    |     /home/targoon/nltk_data...\n",
      "[nltk_data]    |   Package shakespeare is already up-to-date!\n",
      "[nltk_data]    | Downloading package stopwords to\n",
      "[nltk_data]    |     /home/targoon/nltk_data...\n",
      "[nltk_data]    |   Package stopwords is already up-to-date!\n",
      "[nltk_data]    | Downloading package treebank to\n",
      "[nltk_data]    |     /home/targoon/nltk_data...\n",
      "[nltk_data]    |   Package treebank is already up-to-date!\n",
      "[nltk_data]    | Downloading package twitter_samples to\n",
      "[nltk_data]    |     /home/targoon/nltk_data...\n",
      "[nltk_data]    |   Package twitter_samples is already up-to-date!\n",
      "[nltk_data]    | Downloading package omw to /home/targoon/nltk_data...\n",
      "[nltk_data]    |   Package omw is already up-to-date!\n",
      "[nltk_data]    | Downloading package wordnet to\n",
      "[nltk_data]    |     /home/targoon/nltk_data...\n",
      "[nltk_data]    |   Package wordnet is already up-to-date!\n",
      "[nltk_data]    | Downloading package wordnet_ic to\n",
      "[nltk_data]    |     /home/targoon/nltk_data...\n",
      "[nltk_data]    |   Package wordnet_ic is already up-to-date!\n",
      "[nltk_data]    | Downloading package words to\n",
      "[nltk_data]    |     /home/targoon/nltk_data...\n",
      "[nltk_data]    |   Package words is already up-to-date!\n",
      "[nltk_data]    | Downloading package maxent_ne_chunker to\n",
      "[nltk_data]    |     /home/targoon/nltk_data...\n",
      "[nltk_data]    |   Package maxent_ne_chunker is already up-to-date!\n",
      "[nltk_data]    | Downloading package punkt to\n",
      "[nltk_data]    |     /home/targoon/nltk_data...\n",
      "[nltk_data]    |   Package punkt is already up-to-date!\n",
      "[nltk_data]    | Downloading package snowball_data to\n",
      "[nltk_data]    |     /home/targoon/nltk_data...\n",
      "[nltk_data]    |   Package snowball_data is already up-to-date!\n",
      "[nltk_data]    | Downloading package averaged_perceptron_tagger to\n",
      "[nltk_data]    |     /home/targoon/nltk_data...\n",
      "[nltk_data]    |   Package averaged_perceptron_tagger is already up-\n",
      "[nltk_data]    |       to-date!\n",
      "[nltk_data]    | \n",
      "[nltk_data]  Done downloading collection popular\n",
      "[nltk_data] Downloading collection 'all'\n",
      "[nltk_data]    | \n",
      "[nltk_data]    | Downloading package abc to /home/targoon/nltk_data...\n",
      "[nltk_data]    |   Package abc is already up-to-date!\n",
      "[nltk_data]    | Downloading package alpino to\n",
      "[nltk_data]    |     /home/targoon/nltk_data...\n",
      "[nltk_data]    |   Package alpino is already up-to-date!\n",
      "[nltk_data]    | Downloading package biocreative_ppi to\n",
      "[nltk_data]    |     /home/targoon/nltk_data...\n",
      "[nltk_data]    |   Package biocreative_ppi is already up-to-date!\n",
      "[nltk_data]    | Downloading package brown to\n",
      "[nltk_data]    |     /home/targoon/nltk_data...\n",
      "[nltk_data]    |   Package brown is already up-to-date!\n",
      "[nltk_data]    | Downloading package brown_tei to\n",
      "[nltk_data]    |     /home/targoon/nltk_data...\n",
      "[nltk_data]    |   Package brown_tei is already up-to-date!\n",
      "[nltk_data]    | Downloading package cess_cat to\n",
      "[nltk_data]    |     /home/targoon/nltk_data...\n",
      "[nltk_data]    |   Package cess_cat is already up-to-date!\n",
      "[nltk_data]    | Downloading package cess_esp to\n",
      "[nltk_data]    |     /home/targoon/nltk_data...\n",
      "[nltk_data]    |   Package cess_esp is already up-to-date!\n",
      "[nltk_data]    | Downloading package chat80 to\n",
      "[nltk_data]    |     /home/targoon/nltk_data...\n",
      "[nltk_data]    |   Package chat80 is already up-to-date!\n",
      "[nltk_data]    | Downloading package city_database to\n",
      "[nltk_data]    |     /home/targoon/nltk_data...\n",
      "[nltk_data]    |   Package city_database is already up-to-date!\n",
      "[nltk_data]    | Downloading package cmudict to\n",
      "[nltk_data]    |     /home/targoon/nltk_data...\n",
      "[nltk_data]    |   Package cmudict is already up-to-date!\n",
      "[nltk_data]    | Downloading package comparative_sentences to\n",
      "[nltk_data]    |     /home/targoon/nltk_data...\n",
      "[nltk_data]    |   Package comparative_sentences is already up-to-\n",
      "[nltk_data]    |       date!\n",
      "[nltk_data]    | Downloading package comtrans to\n",
      "[nltk_data]    |     /home/targoon/nltk_data...\n",
      "[nltk_data]    |   Package comtrans is already up-to-date!\n",
      "[nltk_data]    | Downloading package conll2000 to\n",
      "[nltk_data]    |     /home/targoon/nltk_data...\n",
      "[nltk_data]    |   Package conll2000 is already up-to-date!\n",
      "[nltk_data]    | Downloading package conll2002 to\n",
      "[nltk_data]    |     /home/targoon/nltk_data...\n",
      "[nltk_data]    |   Package conll2002 is already up-to-date!\n",
      "[nltk_data]    | Downloading package conll2007 to\n",
      "[nltk_data]    |     /home/targoon/nltk_data...\n",
      "[nltk_data]    |   Package conll2007 is already up-to-date!\n",
      "[nltk_data]    | Downloading package crubadan to\n",
      "[nltk_data]    |     /home/targoon/nltk_data...\n",
      "[nltk_data]    |   Package crubadan is already up-to-date!\n",
      "[nltk_data]    | Downloading package dependency_treebank to\n",
      "[nltk_data]    |     /home/targoon/nltk_data...\n",
      "[nltk_data]    |   Package dependency_treebank is already up-to-date!\n",
      "[nltk_data]    | Downloading package dolch to\n",
      "[nltk_data]    |     /home/targoon/nltk_data...\n",
      "[nltk_data]    |   Package dolch is already up-to-date!\n",
      "[nltk_data]    | Downloading package europarl_raw to\n",
      "[nltk_data]    |     /home/targoon/nltk_data...\n",
      "[nltk_data]    |   Package europarl_raw is already up-to-date!\n",
      "[nltk_data]    | Downloading package floresta to\n",
      "[nltk_data]    |     /home/targoon/nltk_data...\n",
      "[nltk_data]    |   Package floresta is already up-to-date!\n",
      "[nltk_data]    | Downloading package framenet_v15 to\n",
      "[nltk_data]    |     /home/targoon/nltk_data...\n",
      "[nltk_data]    |   Package framenet_v15 is already up-to-date!\n",
      "[nltk_data]    | Downloading package framenet_v17 to\n",
      "[nltk_data]    |     /home/targoon/nltk_data...\n",
      "[nltk_data]    |   Package framenet_v17 is already up-to-date!\n",
      "[nltk_data]    | Downloading package gazetteers to\n",
      "[nltk_data]    |     /home/targoon/nltk_data...\n",
      "[nltk_data]    |   Package gazetteers is already up-to-date!\n",
      "[nltk_data]    | Downloading package genesis to\n",
      "[nltk_data]    |     /home/targoon/nltk_data...\n",
      "[nltk_data]    |   Package genesis is already up-to-date!\n",
      "[nltk_data]    | Downloading package gutenberg to\n",
      "[nltk_data]    |     /home/targoon/nltk_data...\n",
      "[nltk_data]    |   Package gutenberg is already up-to-date!\n",
      "[nltk_data]    | Downloading package ieer to\n",
      "[nltk_data]    |     /home/targoon/nltk_data...\n",
      "[nltk_data]    |   Package ieer is already up-to-date!\n",
      "[nltk_data]    | Downloading package inaugural to\n",
      "[nltk_data]    |     /home/targoon/nltk_data...\n",
      "[nltk_data]    |   Package inaugural is already up-to-date!\n",
      "[nltk_data]    | Downloading package indian to\n",
      "[nltk_data]    |     /home/targoon/nltk_data...\n",
      "[nltk_data]    |   Package indian is already up-to-date!\n",
      "[nltk_data]    | Downloading package jeita to\n",
      "[nltk_data]    |     /home/targoon/nltk_data...\n",
      "[nltk_data]    |   Package jeita is already up-to-date!\n",
      "[nltk_data]    | Downloading package kimmo to\n",
      "[nltk_data]    |     /home/targoon/nltk_data...\n",
      "[nltk_data]    |   Package kimmo is already up-to-date!\n",
      "[nltk_data]    | Downloading package knbc to\n",
      "[nltk_data]    |     /home/targoon/nltk_data...\n",
      "[nltk_data]    |   Package knbc is already up-to-date!\n",
      "[nltk_data]    | Downloading package lin_thesaurus to\n",
      "[nltk_data]    |     /home/targoon/nltk_data...\n"
     ]
    },
    {
     "name": "stderr",
     "output_type": "stream",
     "text": [
      "[nltk_data]    |   Package lin_thesaurus is already up-to-date!\n",
      "[nltk_data]    | Downloading package mac_morpho to\n",
      "[nltk_data]    |     /home/targoon/nltk_data...\n",
      "[nltk_data]    |   Package mac_morpho is already up-to-date!\n",
      "[nltk_data]    | Downloading package machado to\n",
      "[nltk_data]    |     /home/targoon/nltk_data...\n",
      "[nltk_data]    |   Package machado is already up-to-date!\n",
      "[nltk_data]    | Downloading package masc_tagged to\n",
      "[nltk_data]    |     /home/targoon/nltk_data...\n",
      "[nltk_data]    |   Package masc_tagged is already up-to-date!\n",
      "[nltk_data]    | Downloading package moses_sample to\n",
      "[nltk_data]    |     /home/targoon/nltk_data...\n",
      "[nltk_data]    |   Package moses_sample is already up-to-date!\n",
      "[nltk_data]    | Downloading package movie_reviews to\n",
      "[nltk_data]    |     /home/targoon/nltk_data...\n",
      "[nltk_data]    |   Package movie_reviews is already up-to-date!\n",
      "[nltk_data]    | Downloading package names to\n",
      "[nltk_data]    |     /home/targoon/nltk_data...\n",
      "[nltk_data]    |   Package names is already up-to-date!\n",
      "[nltk_data]    | Downloading package nombank.1.0 to\n",
      "[nltk_data]    |     /home/targoon/nltk_data...\n",
      "[nltk_data]    |   Package nombank.1.0 is already up-to-date!\n",
      "[nltk_data]    | Downloading package nps_chat to\n",
      "[nltk_data]    |     /home/targoon/nltk_data...\n",
      "[nltk_data]    |   Package nps_chat is already up-to-date!\n",
      "[nltk_data]    | Downloading package omw to /home/targoon/nltk_data...\n",
      "[nltk_data]    |   Package omw is already up-to-date!\n",
      "[nltk_data]    | Downloading package opinion_lexicon to\n",
      "[nltk_data]    |     /home/targoon/nltk_data...\n",
      "[nltk_data]    |   Package opinion_lexicon is already up-to-date!\n",
      "[nltk_data]    | Downloading package paradigms to\n",
      "[nltk_data]    |     /home/targoon/nltk_data...\n",
      "[nltk_data]    |   Package paradigms is already up-to-date!\n",
      "[nltk_data]    | Downloading package pil to /home/targoon/nltk_data...\n",
      "[nltk_data]    |   Package pil is already up-to-date!\n",
      "[nltk_data]    | Downloading package pl196x to\n",
      "[nltk_data]    |     /home/targoon/nltk_data...\n",
      "[nltk_data]    |   Package pl196x is already up-to-date!\n",
      "[nltk_data]    | Downloading package ppattach to\n",
      "[nltk_data]    |     /home/targoon/nltk_data...\n",
      "[nltk_data]    |   Package ppattach is already up-to-date!\n",
      "[nltk_data]    | Downloading package problem_reports to\n",
      "[nltk_data]    |     /home/targoon/nltk_data...\n",
      "[nltk_data]    |   Package problem_reports is already up-to-date!\n",
      "[nltk_data]    | Downloading package propbank to\n",
      "[nltk_data]    |     /home/targoon/nltk_data...\n",
      "[nltk_data]    |   Package propbank is already up-to-date!\n",
      "[nltk_data]    | Downloading package ptb to /home/targoon/nltk_data...\n",
      "[nltk_data]    |   Package ptb is already up-to-date!\n",
      "[nltk_data]    | Downloading package product_reviews_1 to\n",
      "[nltk_data]    |     /home/targoon/nltk_data...\n",
      "[nltk_data]    |   Package product_reviews_1 is already up-to-date!\n",
      "[nltk_data]    | Downloading package product_reviews_2 to\n",
      "[nltk_data]    |     /home/targoon/nltk_data...\n",
      "[nltk_data]    |   Package product_reviews_2 is already up-to-date!\n",
      "[nltk_data]    | Downloading package pros_cons to\n",
      "[nltk_data]    |     /home/targoon/nltk_data...\n",
      "[nltk_data]    |   Package pros_cons is already up-to-date!\n",
      "[nltk_data]    | Downloading package qc to /home/targoon/nltk_data...\n",
      "[nltk_data]    |   Package qc is already up-to-date!\n",
      "[nltk_data]    | Downloading package reuters to\n",
      "[nltk_data]    |     /home/targoon/nltk_data...\n",
      "[nltk_data]    |   Package reuters is already up-to-date!\n",
      "[nltk_data]    | Downloading package rte to /home/targoon/nltk_data...\n",
      "[nltk_data]    |   Package rte is already up-to-date!\n",
      "[nltk_data]    | Downloading package semcor to\n",
      "[nltk_data]    |     /home/targoon/nltk_data...\n",
      "[nltk_data]    |   Package semcor is already up-to-date!\n",
      "[nltk_data]    | Downloading package senseval to\n",
      "[nltk_data]    |     /home/targoon/nltk_data...\n",
      "[nltk_data]    |   Package senseval is already up-to-date!\n",
      "[nltk_data]    | Downloading package sentiwordnet to\n",
      "[nltk_data]    |     /home/targoon/nltk_data...\n",
      "[nltk_data]    |   Package sentiwordnet is already up-to-date!\n",
      "[nltk_data]    | Downloading package sentence_polarity to\n",
      "[nltk_data]    |     /home/targoon/nltk_data...\n",
      "[nltk_data]    |   Package sentence_polarity is already up-to-date!\n",
      "[nltk_data]    | Downloading package shakespeare to\n",
      "[nltk_data]    |     /home/targoon/nltk_data...\n",
      "[nltk_data]    |   Package shakespeare is already up-to-date!\n",
      "[nltk_data]    | Downloading package sinica_treebank to\n",
      "[nltk_data]    |     /home/targoon/nltk_data...\n",
      "[nltk_data]    |   Package sinica_treebank is already up-to-date!\n",
      "[nltk_data]    | Downloading package smultron to\n",
      "[nltk_data]    |     /home/targoon/nltk_data...\n",
      "[nltk_data]    |   Package smultron is already up-to-date!\n",
      "[nltk_data]    | Downloading package state_union to\n",
      "[nltk_data]    |     /home/targoon/nltk_data...\n",
      "[nltk_data]    |   Package state_union is already up-to-date!\n",
      "[nltk_data]    | Downloading package stopwords to\n",
      "[nltk_data]    |     /home/targoon/nltk_data...\n",
      "[nltk_data]    |   Package stopwords is already up-to-date!\n",
      "[nltk_data]    | Downloading package subjectivity to\n",
      "[nltk_data]    |     /home/targoon/nltk_data...\n",
      "[nltk_data]    |   Package subjectivity is already up-to-date!\n",
      "[nltk_data]    | Downloading package swadesh to\n",
      "[nltk_data]    |     /home/targoon/nltk_data...\n",
      "[nltk_data]    |   Package swadesh is already up-to-date!\n",
      "[nltk_data]    | Downloading package switchboard to\n",
      "[nltk_data]    |     /home/targoon/nltk_data...\n",
      "[nltk_data]    |   Package switchboard is already up-to-date!\n",
      "[nltk_data]    | Downloading package timit to\n",
      "[nltk_data]    |     /home/targoon/nltk_data...\n",
      "[nltk_data]    |   Package timit is already up-to-date!\n",
      "[nltk_data]    | Downloading package toolbox to\n",
      "[nltk_data]    |     /home/targoon/nltk_data...\n",
      "[nltk_data]    |   Package toolbox is already up-to-date!\n",
      "[nltk_data]    | Downloading package treebank to\n",
      "[nltk_data]    |     /home/targoon/nltk_data...\n",
      "[nltk_data]    |   Package treebank is already up-to-date!\n",
      "[nltk_data]    | Downloading package twitter_samples to\n",
      "[nltk_data]    |     /home/targoon/nltk_data...\n",
      "[nltk_data]    |   Package twitter_samples is already up-to-date!\n",
      "[nltk_data]    | Downloading package udhr to\n",
      "[nltk_data]    |     /home/targoon/nltk_data...\n",
      "[nltk_data]    |   Package udhr is already up-to-date!\n",
      "[nltk_data]    | Downloading package udhr2 to\n",
      "[nltk_data]    |     /home/targoon/nltk_data...\n",
      "[nltk_data]    |   Package udhr2 is already up-to-date!\n",
      "[nltk_data]    | Downloading package unicode_samples to\n",
      "[nltk_data]    |     /home/targoon/nltk_data...\n",
      "[nltk_data]    |   Package unicode_samples is already up-to-date!\n",
      "[nltk_data]    | Downloading package universal_treebanks_v20 to\n",
      "[nltk_data]    |     /home/targoon/nltk_data...\n",
      "[nltk_data]    |   Package universal_treebanks_v20 is already up-to-\n",
      "[nltk_data]    |       date!\n",
      "[nltk_data]    | Downloading package verbnet to\n",
      "[nltk_data]    |     /home/targoon/nltk_data...\n",
      "[nltk_data]    |   Package verbnet is already up-to-date!\n",
      "[nltk_data]    | Downloading package verbnet3 to\n",
      "[nltk_data]    |     /home/targoon/nltk_data...\n",
      "[nltk_data]    |   Package verbnet3 is already up-to-date!\n",
      "[nltk_data]    | Downloading package webtext to\n",
      "[nltk_data]    |     /home/targoon/nltk_data...\n",
      "[nltk_data]    |   Package webtext is already up-to-date!\n",
      "[nltk_data]    | Downloading package wordnet to\n",
      "[nltk_data]    |     /home/targoon/nltk_data...\n",
      "[nltk_data]    |   Package wordnet is already up-to-date!\n",
      "[nltk_data]    | Downloading package wordnet_ic to\n",
      "[nltk_data]    |     /home/targoon/nltk_data...\n",
      "[nltk_data]    |   Package wordnet_ic is already up-to-date!\n",
      "[nltk_data]    | Downloading package words to\n",
      "[nltk_data]    |     /home/targoon/nltk_data...\n",
      "[nltk_data]    |   Package words is already up-to-date!\n",
      "[nltk_data]    | Downloading package ycoe to\n",
      "[nltk_data]    |     /home/targoon/nltk_data...\n",
      "[nltk_data]    |   Package ycoe is already up-to-date!\n",
      "[nltk_data]    | Downloading package rslp to\n",
      "[nltk_data]    |     /home/targoon/nltk_data...\n",
      "[nltk_data]    |   Package rslp is already up-to-date!\n",
      "[nltk_data]    | Downloading package maxent_treebank_pos_tagger to\n",
      "[nltk_data]    |     /home/targoon/nltk_data...\n",
      "[nltk_data]    |   Package maxent_treebank_pos_tagger is already up-\n",
      "[nltk_data]    |       to-date!\n",
      "[nltk_data]    | Downloading package universal_tagset to\n",
      "[nltk_data]    |     /home/targoon/nltk_data...\n",
      "[nltk_data]    |   Package universal_tagset is already up-to-date!\n",
      "[nltk_data]    | Downloading package maxent_ne_chunker to\n",
      "[nltk_data]    |     /home/targoon/nltk_data...\n",
      "[nltk_data]    |   Package maxent_ne_chunker is already up-to-date!\n",
      "[nltk_data]    | Downloading package punkt to\n",
      "[nltk_data]    |     /home/targoon/nltk_data...\n",
      "[nltk_data]    |   Package punkt is already up-to-date!\n",
      "[nltk_data]    | Downloading package book_grammars to\n",
      "[nltk_data]    |     /home/targoon/nltk_data...\n",
      "[nltk_data]    |   Package book_grammars is already up-to-date!\n",
      "[nltk_data]    | Downloading package sample_grammars to\n",
      "[nltk_data]    |     /home/targoon/nltk_data...\n",
      "[nltk_data]    |   Package sample_grammars is already up-to-date!\n",
      "[nltk_data]    | Downloading package spanish_grammars to\n",
      "[nltk_data]    |     /home/targoon/nltk_data...\n",
      "[nltk_data]    |   Package spanish_grammars is already up-to-date!\n",
      "[nltk_data]    | Downloading package basque_grammars to\n",
      "[nltk_data]    |     /home/targoon/nltk_data...\n",
      "[nltk_data]    |   Package basque_grammars is already up-to-date!\n",
      "[nltk_data]    | Downloading package large_grammars to\n",
      "[nltk_data]    |     /home/targoon/nltk_data...\n",
      "[nltk_data]    |   Package large_grammars is already up-to-date!\n",
      "[nltk_data]    | Downloading package tagsets to\n",
      "[nltk_data]    |     /home/targoon/nltk_data...\n",
      "[nltk_data]    |   Package tagsets is already up-to-date!\n",
      "[nltk_data]    | Downloading package snowball_data to\n",
      "[nltk_data]    |     /home/targoon/nltk_data...\n",
      "[nltk_data]    |   Package snowball_data is already up-to-date!\n",
      "[nltk_data]    | Downloading package bllip_wsj_no_aux to\n",
      "[nltk_data]    |     /home/targoon/nltk_data...\n",
      "[nltk_data]    |   Package bllip_wsj_no_aux is already up-to-date!\n",
      "[nltk_data]    | Downloading package word2vec_sample to\n",
      "[nltk_data]    |     /home/targoon/nltk_data...\n"
     ]
    },
    {
     "name": "stderr",
     "output_type": "stream",
     "text": [
      "[nltk_data]    |   Package word2vec_sample is already up-to-date!\n",
      "[nltk_data]    | Downloading package panlex_swadesh to\n",
      "[nltk_data]    |     /home/targoon/nltk_data...\n",
      "[nltk_data]    |   Package panlex_swadesh is already up-to-date!\n",
      "[nltk_data]    | Downloading package mte_teip5 to\n",
      "[nltk_data]    |     /home/targoon/nltk_data...\n",
      "[nltk_data]    |   Package mte_teip5 is already up-to-date!\n",
      "[nltk_data]    | Downloading package averaged_perceptron_tagger to\n",
      "[nltk_data]    |     /home/targoon/nltk_data...\n",
      "[nltk_data]    |   Package averaged_perceptron_tagger is already up-\n",
      "[nltk_data]    |       to-date!\n",
      "[nltk_data]    | Downloading package averaged_perceptron_tagger_ru to\n",
      "[nltk_data]    |     /home/targoon/nltk_data...\n",
      "[nltk_data]    |   Package averaged_perceptron_tagger_ru is already\n",
      "[nltk_data]    |       up-to-date!\n",
      "[nltk_data]    | Downloading package perluniprops to\n",
      "[nltk_data]    |     /home/targoon/nltk_data...\n",
      "[nltk_data]    |   Package perluniprops is already up-to-date!\n",
      "[nltk_data]    | Downloading package nonbreaking_prefixes to\n",
      "[nltk_data]    |     /home/targoon/nltk_data...\n",
      "[nltk_data]    |   Package nonbreaking_prefixes is already up-to-date!\n",
      "[nltk_data]    | Downloading package vader_lexicon to\n",
      "[nltk_data]    |     /home/targoon/nltk_data...\n",
      "[nltk_data]    |   Package vader_lexicon is already up-to-date!\n",
      "[nltk_data]    | Downloading package porter_test to\n",
      "[nltk_data]    |     /home/targoon/nltk_data...\n",
      "[nltk_data]    |   Package porter_test is already up-to-date!\n",
      "[nltk_data]    | Downloading package wmt15_eval to\n",
      "[nltk_data]    |     /home/targoon/nltk_data...\n",
      "[nltk_data]    |   Package wmt15_eval is already up-to-date!\n",
      "[nltk_data]    | Downloading package mwa_ppdb to\n",
      "[nltk_data]    |     /home/targoon/nltk_data...\n",
      "[nltk_data]    |   Package mwa_ppdb is already up-to-date!\n",
      "[nltk_data]    | \n",
      "[nltk_data]  Done downloading collection all\n"
     ]
    },
    {
     "data": {
      "text/plain": [
       "True"
      ]
     },
     "execution_count": 17,
     "metadata": {},
     "output_type": "execute_result"
    }
   ],
   "source": [
    "import nltk\n",
    "nltk.download('popular', halt_on_error=False)\n",
    "nltk.download('all', halt_on_error=False)"
   ]
  },
  {
   "cell_type": "code",
   "execution_count": 18,
   "metadata": {
    "ExecuteTime": {
     "end_time": "2019-04-18T16:31:57.654741Z",
     "start_time": "2019-04-18T16:31:57.650884Z"
    }
   },
   "outputs": [],
   "source": [
    "from nltk.text import Text\n",
    "import sys\n",
    "import multiprocessing\n",
    "from nltk.corpus import wordnet\n",
    "from nltk.stem.wordnet import WordNetLemmatizer\n",
    "import inflection as inf"
   ]
  },
  {
   "cell_type": "code",
   "execution_count": 19,
   "metadata": {
    "ExecuteTime": {
     "end_time": "2019-04-18T16:31:57.671075Z",
     "start_time": "2019-04-18T16:31:57.656098Z"
    },
    "scrolled": false
   },
   "outputs": [
    {
     "name": "stdout",
     "output_type": "stream",
     "text": [
      "['NO', 'PERSON', 'IN', 'CHARGE', 'PRESENT', 'AT', 'THE', 'TIME', 'OF', 'INSPECTION', '.', 'PRIORITY', 'FOUNDATION', 'VIOLATION', '.', 'NO', 'CITATION', 'ISSUED', '.']\n"
     ]
    }
   ],
   "source": [
    "text = Violation_Comments[0]\n",
    "tokens = nltk.tokenize.word_tokenize(text)\n",
    "print(tokens)"
   ]
  },
  {
   "cell_type": "code",
   "execution_count": 20,
   "metadata": {
    "ExecuteTime": {
     "end_time": "2019-04-18T16:32:33.467625Z",
     "start_time": "2019-04-18T16:31:57.673190Z"
    }
   },
   "outputs": [],
   "source": [
    "pool = multiprocessing.Pool(processes=8)\n",
    "violations_tokenized_list = pool.map(nltk.tokenize.word_tokenize, Violation_Comments)"
   ]
  },
  {
   "cell_type": "code",
   "execution_count": 24,
   "metadata": {
    "ExecuteTime": {
     "end_time": "2019-04-18T16:32:34.200922Z",
     "start_time": "2019-04-18T16:32:34.188109Z"
    },
    "code_folding": []
   },
   "outputs": [],
   "source": [
    "def get_wordnet_pos(treebank_tag):\n",
    "\n",
    "    if treebank_tag.startswith('J'):\n",
    "        return wordnet.ADJ\n",
    "    elif treebank_tag.startswith('V'):\n",
    "        return wordnet.VERB\n",
    "    elif treebank_tag.startswith('N'):\n",
    "        return wordnet.NOUN\n",
    "    elif treebank_tag.startswith('R'):\n",
    "        return wordnet.ADV\n",
    "    else:\n",
    "        return wordnet.NOUN\n",
    "    \n",
    "def text_preprocessing(words):\n",
    "    \n",
    "    stopwords = set(nltk.corpus.stopwords.words('english'))\n",
    "    wnl = WordNetLemmatizer()\n",
    "    \n",
    "    # Remove single-character tokens (mostly punctuation)\n",
    "    words = [word for word in words if len(word) > 1]\n",
    "\n",
    "    # Remove numbers\n",
    "    words = [word for word in words if not word.isnumeric()]\n",
    "\n",
    "    # Remove punctuation\n",
    "    words = [word for word in words if word.isalpha()]\n",
    "\n",
    "    # Lowercase all words (default_stopwords are lowercase too)\n",
    "    words = [word.lower() for word in words]\n",
    "\n",
    "    # Remove stopwords\n",
    "    words = [word for word in words if word not in stopwords]\n",
    "    \n",
    "    # Get PoS Tagging\n",
    "    words_pos = nltk.pos_tag(words)\n",
    "    words_pos = [(word, get_wordnet_pos(pos)) for (word, pos) in words_pos]\n",
    "    \n",
    "    # Lemmatize with POS tagging\n",
    "    words_pos = [(wnl.lemmatize(word, pos), pos) for (word, pos) in words_pos]\n",
    "    \n",
    "    # Singularize words\n",
    "    words = [inf.singularize(word) if pos == 'n' else word for (word, pos) in words_pos]\n",
    "    \n",
    "    return(words)"
   ]
  },
  {
   "cell_type": "code",
   "execution_count": 25,
   "metadata": {
    "ExecuteTime": {
     "end_time": "2019-04-18T16:37:15.138696Z",
     "start_time": "2019-04-18T16:32:34.202997Z"
    },
    "scrolled": false
   },
   "outputs": [],
   "source": [
    "pool = multiprocessing.Pool(processes=8)\n",
    "word_list = pool.map(text_preprocessing, violations_tokenized_list)"
   ]
  },
  {
   "cell_type": "code",
   "execution_count": 26,
   "metadata": {
    "ExecuteTime": {
     "end_time": "2019-04-18T16:37:15.339488Z",
     "start_time": "2019-04-18T16:37:15.144618Z"
    }
   },
   "outputs": [],
   "source": [
    "#Flatten the list\n",
    "flatten_word_list = []\n",
    "for words in word_list:\n",
    "    flatten_word_list += words\n",
    "flatten_word_list = list(filter(None, flatten_word_list)) "
   ]
  },
  {
   "cell_type": "code",
   "execution_count": 27,
   "metadata": {
    "ExecuteTime": {
     "end_time": "2019-04-18T16:37:15.347460Z",
     "start_time": "2019-04-18T16:37:15.341848Z"
    },
    "scrolled": true
   },
   "outputs": [
    {
     "data": {
      "text/plain": [
       "['person',\n",
       " 'charge',\n",
       " 'present',\n",
       " 'time',\n",
       " 'inspection',\n",
       " 'priority',\n",
       " 'foundation',\n",
       " 'violation',\n",
       " 'citation',\n",
       " 'issue',\n",
       " 'note',\n",
       " 'employee',\n",
       " 'health',\n",
       " 'policy',\n",
       " 'site',\n",
       " 'time',\n",
       " 'inspection',\n",
       " 'follow',\n",
       " 'new',\n",
       " 'code',\n",
       " 'guideline',\n",
       " 'instruct',\n",
       " 'verification',\n",
       " 'policy',\n",
       " 'employee',\n",
       " 'one',\n",
       " 'site',\n",
       " 'time',\n",
       " 'priority',\n",
       " 'foundation',\n",
       " 'citation',\n",
       " 'issue',\n",
       " 'today',\n",
       " 'management',\n",
       " 'unable',\n",
       " 'provide',\n",
       " 'procedure',\n",
       " 'clean',\n",
       " 'vomit',\n",
       " 'one',\n",
       " 'priority',\n",
       " 'foundation',\n",
       " 'citation',\n",
       " 'issue',\n",
       " 'noted',\n",
       " 'hot',\n",
       " 'run',\n",
       " 'water',\n",
       " 'kitchen',\n",
       " 'prep']"
      ]
     },
     "execution_count": 27,
     "metadata": {},
     "output_type": "execute_result"
    }
   ],
   "source": [
    "flatten_word_list[0:50]"
   ]
  },
  {
   "cell_type": "code",
   "execution_count": 28,
   "metadata": {
    "ExecuteTime": {
     "end_time": "2019-04-18T16:37:15.354488Z",
     "start_time": "2019-04-18T16:37:15.350142Z"
    },
    "scrolled": true
   },
   "outputs": [
    {
     "data": {
      "text/plain": [
       "4311597"
      ]
     },
     "execution_count": 28,
     "metadata": {},
     "output_type": "execute_result"
    }
   ],
   "source": [
    "len(flatten_word_list)"
   ]
  },
  {
   "cell_type": "code",
   "execution_count": 29,
   "metadata": {
    "ExecuteTime": {
     "end_time": "2019-04-18T16:37:18.593518Z",
     "start_time": "2019-04-18T16:37:15.357198Z"
    }
   },
   "outputs": [
    {
     "data": {
      "text/plain": [
       "[('must', 108648),\n",
       " ('clean', 105391),\n",
       " ('food', 100602),\n",
       " ('area', 100118),\n",
       " ('floor', 68851),\n",
       " ('sink', 64469),\n",
       " ('maintain', 57785),\n",
       " ('prep', 57082),\n",
       " ('instruct', 53594),\n",
       " ('provide', 47981),\n",
       " ('wall', 46815),\n",
       " ('violation', 45520),\n",
       " ('repair', 45414),\n",
       " ('storage', 43893),\n",
       " ('cooler', 43363),\n",
       " ('shall', 39047),\n",
       " ('observe', 38970),\n",
       " ('door', 37643),\n",
       " ('remove', 35709),\n",
       " ('rear', 34918),\n",
       " ('water', 30633),\n",
       " ('equipment', 30182),\n",
       " ('serious', 29947),\n",
       " ('store', 27267),\n",
       " ('room', 25876),\n",
       " ('replace', 24614),\n",
       " ('inside', 23890),\n",
       " ('hand', 23834),\n",
       " ('issue', 22826),\n",
       " ('ceiling', 22815),\n",
       " ('use', 22805),\n",
       " ('machine', 22481),\n",
       " ('citation', 22294),\n",
       " ('pest', 22256),\n",
       " ('ice', 22234),\n",
       " ('front', 21728),\n",
       " ('compartment', 21725),\n",
       " ('sanitize', 20306),\n",
       " ('premise', 19631),\n",
       " ('kitchen', 18932),\n",
       " ('control', 18639),\n",
       " ('detail', 18582),\n",
       " ('basement', 18550),\n",
       " ('manager', 18489),\n",
       " ('need', 18072),\n",
       " ('wash', 18002),\n",
       " ('service', 17953),\n",
       " ('find', 17817),\n",
       " ('rodent', 17451),\n",
       " ('hot', 17199)]"
      ]
     },
     "execution_count": 29,
     "metadata": {},
     "output_type": "execute_result"
    }
   ],
   "source": [
    "fdist = nltk.FreqDist(flatten_word_list)\n",
    "fdist.most_common(50)"
   ]
  }
 ],
 "metadata": {
  "kernelspec": {
   "display_name": "Python 3",
   "language": "python",
   "name": "python3"
  },
  "language_info": {
   "codemirror_mode": {
    "name": "ipython",
    "version": 3
   },
   "file_extension": ".py",
   "mimetype": "text/x-python",
   "name": "python",
   "nbconvert_exporter": "python",
   "pygments_lexer": "ipython3",
   "version": "3.7.3"
  },
  "toc": {
   "base_numbering": 1,
   "nav_menu": {},
   "number_sections": false,
   "sideBar": true,
   "skip_h1_title": false,
   "title_cell": "Table of Contents",
   "title_sidebar": "Contents",
   "toc_cell": false,
   "toc_position": {
    "height": "calc(100% - 180px)",
    "left": "10px",
    "top": "150px",
    "width": "165px"
   },
   "toc_section_display": true,
   "toc_window_display": true
  },
  "varInspector": {
   "cols": {
    "lenName": 16,
    "lenType": 16,
    "lenVar": 40
   },
   "kernels_config": {
    "python": {
     "delete_cmd_postfix": "",
     "delete_cmd_prefix": "del ",
     "library": "var_list.py",
     "varRefreshCmd": "print(var_dic_list())"
    },
    "r": {
     "delete_cmd_postfix": ") ",
     "delete_cmd_prefix": "rm(",
     "library": "var_list.r",
     "varRefreshCmd": "cat(var_dic_list()) "
    }
   },
   "types_to_exclude": [
    "module",
    "function",
    "builtin_function_or_method",
    "instance",
    "_Feature"
   ],
   "window_display": false
  }
 },
 "nbformat": 4,
 "nbformat_minor": 2
}
